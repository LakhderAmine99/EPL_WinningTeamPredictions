{
 "cells": [
  {
   "attachments": {},
   "cell_type": "markdown",
   "metadata": {},
   "source": [
    "# EPL Winning Team Prediction"
   ]
  },
  {
   "cell_type": "markdown",
   "metadata": {},
   "source": [
    "Author: [@Lakhder Amine](https://github.com/LakhderAmine99)"
   ]
  },
  {
   "cell_type": "markdown",
   "metadata": {},
   "source": [
    "### General Description Of The Project"
   ]
  },
  {
   "cell_type": "code",
   "execution_count": 73,
   "metadata": {},
   "outputs": [],
   "source": [
    "from sklearn.tree import DecisionTreeClassifier\n",
    "from sklearn.naive_bayes import MultinomialNB\n",
    "from sklearn.metrics import accuracy_score\n",
    "from sklearn.model_selection import cross_val_score\n",
    "from sklearn.linear_model import LogisticRegression\n",
    "from sklearn.ensemble import RandomForestClassifier\n",
    "from sklearn.neighbors import KNeighborsClassifier\n",
    "from sklearn.svm import SVC\n",
    "from sklearn.metrics import roc_curve, auc,roc_auc_score,precision_recall_curve\n",
    "from sklearn.multiclass import OneVsRestClassifier\n",
    "from sklearn.preprocessing import label_binarize\n",
    "from itertools import cycle\n",
    "import numpy as np\n",
    "import plotly.graph_objects as go\n",
    "import pandas as pd\n",
    "from pandas.plotting import scatter_matrix\n",
    "import matplotlib.pyplot as plt\n",
    "import plotly.express as px"
   ]
  },
  {
   "cell_type": "markdown",
   "metadata": {},
   "source": [
    "## Loading The Data"
   ]
  },
  {
   "cell_type": "code",
   "execution_count": 74,
   "metadata": {},
   "outputs": [
    {
     "data": {
      "text/html": [
       "<div>\n",
       "<style scoped>\n",
       "    .dataframe tbody tr th:only-of-type {\n",
       "        vertical-align: middle;\n",
       "    }\n",
       "\n",
       "    .dataframe tbody tr th {\n",
       "        vertical-align: top;\n",
       "    }\n",
       "\n",
       "    .dataframe thead th {\n",
       "        text-align: right;\n",
       "    }\n",
       "</style>\n",
       "<table border=\"1\" class=\"dataframe\">\n",
       "  <thead>\n",
       "    <tr style=\"text-align: right;\">\n",
       "      <th></th>\n",
       "      <th>Div</th>\n",
       "      <th>Date</th>\n",
       "      <th>HomeTeam</th>\n",
       "      <th>AwayTeam</th>\n",
       "      <th>FTHG</th>\n",
       "      <th>FTAG</th>\n",
       "      <th>FTR</th>\n",
       "      <th>HTHG</th>\n",
       "      <th>HTAG</th>\n",
       "      <th>HTR</th>\n",
       "      <th>...</th>\n",
       "      <th>HST</th>\n",
       "      <th>AST</th>\n",
       "      <th>HF</th>\n",
       "      <th>AF</th>\n",
       "      <th>HC</th>\n",
       "      <th>AC</th>\n",
       "      <th>HY</th>\n",
       "      <th>AY</th>\n",
       "      <th>HR</th>\n",
       "      <th>AR</th>\n",
       "    </tr>\n",
       "  </thead>\n",
       "  <tbody>\n",
       "    <tr>\n",
       "      <th>0</th>\n",
       "      <td>E0</td>\n",
       "      <td>12/9/2020</td>\n",
       "      <td>Fulham</td>\n",
       "      <td>Arsenal</td>\n",
       "      <td>0</td>\n",
       "      <td>3</td>\n",
       "      <td>A</td>\n",
       "      <td>0</td>\n",
       "      <td>1</td>\n",
       "      <td>A</td>\n",
       "      <td>...</td>\n",
       "      <td>2</td>\n",
       "      <td>6</td>\n",
       "      <td>12</td>\n",
       "      <td>12</td>\n",
       "      <td>2</td>\n",
       "      <td>3</td>\n",
       "      <td>2</td>\n",
       "      <td>2</td>\n",
       "      <td>0</td>\n",
       "      <td>0</td>\n",
       "    </tr>\n",
       "    <tr>\n",
       "      <th>1</th>\n",
       "      <td>E0</td>\n",
       "      <td>12/9/2020</td>\n",
       "      <td>Crystal Palace</td>\n",
       "      <td>Southampton</td>\n",
       "      <td>1</td>\n",
       "      <td>0</td>\n",
       "      <td>H</td>\n",
       "      <td>1</td>\n",
       "      <td>0</td>\n",
       "      <td>H</td>\n",
       "      <td>...</td>\n",
       "      <td>3</td>\n",
       "      <td>5</td>\n",
       "      <td>14</td>\n",
       "      <td>11</td>\n",
       "      <td>7</td>\n",
       "      <td>3</td>\n",
       "      <td>2</td>\n",
       "      <td>1</td>\n",
       "      <td>0</td>\n",
       "      <td>0</td>\n",
       "    </tr>\n",
       "    <tr>\n",
       "      <th>2</th>\n",
       "      <td>E0</td>\n",
       "      <td>12/9/2020</td>\n",
       "      <td>Liverpool</td>\n",
       "      <td>Leeds</td>\n",
       "      <td>4</td>\n",
       "      <td>3</td>\n",
       "      <td>H</td>\n",
       "      <td>3</td>\n",
       "      <td>2</td>\n",
       "      <td>H</td>\n",
       "      <td>...</td>\n",
       "      <td>6</td>\n",
       "      <td>3</td>\n",
       "      <td>9</td>\n",
       "      <td>6</td>\n",
       "      <td>9</td>\n",
       "      <td>0</td>\n",
       "      <td>1</td>\n",
       "      <td>0</td>\n",
       "      <td>0</td>\n",
       "      <td>0</td>\n",
       "    </tr>\n",
       "    <tr>\n",
       "      <th>3</th>\n",
       "      <td>E0</td>\n",
       "      <td>12/9/2020</td>\n",
       "      <td>West Ham</td>\n",
       "      <td>Newcastle</td>\n",
       "      <td>0</td>\n",
       "      <td>2</td>\n",
       "      <td>A</td>\n",
       "      <td>0</td>\n",
       "      <td>0</td>\n",
       "      <td>D</td>\n",
       "      <td>...</td>\n",
       "      <td>3</td>\n",
       "      <td>2</td>\n",
       "      <td>13</td>\n",
       "      <td>7</td>\n",
       "      <td>8</td>\n",
       "      <td>7</td>\n",
       "      <td>2</td>\n",
       "      <td>2</td>\n",
       "      <td>0</td>\n",
       "      <td>0</td>\n",
       "    </tr>\n",
       "    <tr>\n",
       "      <th>4</th>\n",
       "      <td>E0</td>\n",
       "      <td>13/09/2020</td>\n",
       "      <td>West Brom</td>\n",
       "      <td>Leicester</td>\n",
       "      <td>0</td>\n",
       "      <td>3</td>\n",
       "      <td>A</td>\n",
       "      <td>0</td>\n",
       "      <td>0</td>\n",
       "      <td>D</td>\n",
       "      <td>...</td>\n",
       "      <td>1</td>\n",
       "      <td>7</td>\n",
       "      <td>12</td>\n",
       "      <td>9</td>\n",
       "      <td>2</td>\n",
       "      <td>5</td>\n",
       "      <td>1</td>\n",
       "      <td>1</td>\n",
       "      <td>0</td>\n",
       "      <td>0</td>\n",
       "    </tr>\n",
       "    <tr>\n",
       "      <th>...</th>\n",
       "      <td>...</td>\n",
       "      <td>...</td>\n",
       "      <td>...</td>\n",
       "      <td>...</td>\n",
       "      <td>...</td>\n",
       "      <td>...</td>\n",
       "      <td>...</td>\n",
       "      <td>...</td>\n",
       "      <td>...</td>\n",
       "      <td>...</td>\n",
       "      <td>...</td>\n",
       "      <td>...</td>\n",
       "      <td>...</td>\n",
       "      <td>...</td>\n",
       "      <td>...</td>\n",
       "      <td>...</td>\n",
       "      <td>...</td>\n",
       "      <td>...</td>\n",
       "      <td>...</td>\n",
       "      <td>...</td>\n",
       "      <td>...</td>\n",
       "    </tr>\n",
       "    <tr>\n",
       "      <th>2275</th>\n",
       "      <td>E0</td>\n",
       "      <td>15/05/2016</td>\n",
       "      <td>Stoke</td>\n",
       "      <td>West Ham</td>\n",
       "      <td>2</td>\n",
       "      <td>1</td>\n",
       "      <td>H</td>\n",
       "      <td>0</td>\n",
       "      <td>1</td>\n",
       "      <td>A</td>\n",
       "      <td>...</td>\n",
       "      <td>4</td>\n",
       "      <td>7</td>\n",
       "      <td>8</td>\n",
       "      <td>12</td>\n",
       "      <td>4</td>\n",
       "      <td>10</td>\n",
       "      <td>3</td>\n",
       "      <td>1</td>\n",
       "      <td>0</td>\n",
       "      <td>0</td>\n",
       "    </tr>\n",
       "    <tr>\n",
       "      <th>2276</th>\n",
       "      <td>E0</td>\n",
       "      <td>15/05/2016</td>\n",
       "      <td>Swansea</td>\n",
       "      <td>Man City</td>\n",
       "      <td>1</td>\n",
       "      <td>1</td>\n",
       "      <td>D</td>\n",
       "      <td>1</td>\n",
       "      <td>1</td>\n",
       "      <td>D</td>\n",
       "      <td>...</td>\n",
       "      <td>1</td>\n",
       "      <td>5</td>\n",
       "      <td>4</td>\n",
       "      <td>19</td>\n",
       "      <td>4</td>\n",
       "      <td>4</td>\n",
       "      <td>1</td>\n",
       "      <td>3</td>\n",
       "      <td>0</td>\n",
       "      <td>0</td>\n",
       "    </tr>\n",
       "    <tr>\n",
       "      <th>2277</th>\n",
       "      <td>E0</td>\n",
       "      <td>15/05/2016</td>\n",
       "      <td>Watford</td>\n",
       "      <td>Sunderland</td>\n",
       "      <td>2</td>\n",
       "      <td>2</td>\n",
       "      <td>D</td>\n",
       "      <td>0</td>\n",
       "      <td>1</td>\n",
       "      <td>A</td>\n",
       "      <td>...</td>\n",
       "      <td>6</td>\n",
       "      <td>4</td>\n",
       "      <td>11</td>\n",
       "      <td>10</td>\n",
       "      <td>7</td>\n",
       "      <td>4</td>\n",
       "      <td>1</td>\n",
       "      <td>0</td>\n",
       "      <td>0</td>\n",
       "      <td>0</td>\n",
       "    </tr>\n",
       "    <tr>\n",
       "      <th>2278</th>\n",
       "      <td>E0</td>\n",
       "      <td>15/05/2016</td>\n",
       "      <td>West Brom</td>\n",
       "      <td>Liverpool</td>\n",
       "      <td>1</td>\n",
       "      <td>1</td>\n",
       "      <td>D</td>\n",
       "      <td>1</td>\n",
       "      <td>1</td>\n",
       "      <td>D</td>\n",
       "      <td>...</td>\n",
       "      <td>1</td>\n",
       "      <td>3</td>\n",
       "      <td>11</td>\n",
       "      <td>14</td>\n",
       "      <td>7</td>\n",
       "      <td>5</td>\n",
       "      <td>3</td>\n",
       "      <td>1</td>\n",
       "      <td>0</td>\n",
       "      <td>0</td>\n",
       "    </tr>\n",
       "    <tr>\n",
       "      <th>2279</th>\n",
       "      <td>E0</td>\n",
       "      <td>17/05/2016</td>\n",
       "      <td>Man United</td>\n",
       "      <td>Bournemouth</td>\n",
       "      <td>3</td>\n",
       "      <td>1</td>\n",
       "      <td>H</td>\n",
       "      <td>1</td>\n",
       "      <td>0</td>\n",
       "      <td>H</td>\n",
       "      <td>...</td>\n",
       "      <td>5</td>\n",
       "      <td>0</td>\n",
       "      <td>9</td>\n",
       "      <td>8</td>\n",
       "      <td>7</td>\n",
       "      <td>1</td>\n",
       "      <td>1</td>\n",
       "      <td>0</td>\n",
       "      <td>0</td>\n",
       "      <td>0</td>\n",
       "    </tr>\n",
       "  </tbody>\n",
       "</table>\n",
       "<p>2280 rows × 23 columns</p>\n",
       "</div>"
      ],
      "text/plain": [
       "     Div        Date        HomeTeam     AwayTeam  FTHG  FTAG FTR  HTHG  HTAG  \\\n",
       "0     E0   12/9/2020          Fulham      Arsenal     0     3   A     0     1   \n",
       "1     E0   12/9/2020  Crystal Palace  Southampton     1     0   H     1     0   \n",
       "2     E0   12/9/2020       Liverpool        Leeds     4     3   H     3     2   \n",
       "3     E0   12/9/2020        West Ham    Newcastle     0     2   A     0     0   \n",
       "4     E0  13/09/2020       West Brom    Leicester     0     3   A     0     0   \n",
       "...   ..         ...             ...          ...   ...   ...  ..   ...   ...   \n",
       "2275  E0  15/05/2016           Stoke     West Ham     2     1   H     0     1   \n",
       "2276  E0  15/05/2016         Swansea     Man City     1     1   D     1     1   \n",
       "2277  E0  15/05/2016         Watford   Sunderland     2     2   D     0     1   \n",
       "2278  E0  15/05/2016       West Brom    Liverpool     1     1   D     1     1   \n",
       "2279  E0  17/05/2016      Man United  Bournemouth     3     1   H     1     0   \n",
       "\n",
       "     HTR  ... HST  AST  HF  AF  HC  AC  HY  AY  HR  AR  \n",
       "0      A  ...   2    6  12  12   2   3   2   2   0   0  \n",
       "1      H  ...   3    5  14  11   7   3   2   1   0   0  \n",
       "2      H  ...   6    3   9   6   9   0   1   0   0   0  \n",
       "3      D  ...   3    2  13   7   8   7   2   2   0   0  \n",
       "4      D  ...   1    7  12   9   2   5   1   1   0   0  \n",
       "...   ..  ...  ..  ...  ..  ..  ..  ..  ..  ..  ..  ..  \n",
       "2275   A  ...   4    7   8  12   4  10   3   1   0   0  \n",
       "2276   D  ...   1    5   4  19   4   4   1   3   0   0  \n",
       "2277   A  ...   6    4  11  10   7   4   1   0   0   0  \n",
       "2278   D  ...   1    3  11  14   7   5   3   1   0   0  \n",
       "2279   H  ...   5    0   9   8   7   1   1   0   0   0  \n",
       "\n",
       "[2280 rows x 23 columns]"
      ]
     },
     "execution_count": 74,
     "metadata": {},
     "output_type": "execute_result"
    }
   ],
   "source": [
    "data = pd.read_csv(\"./data/EPL_Final_Dataset_Version_3.csv\")\n",
    "test_data = pd.read_csv(\"./data/EPL_Final_TestDataset_Version_3.csv\")\n",
    "\n",
    "data"
   ]
  },
  {
   "cell_type": "markdown",
   "metadata": {},
   "source": [
    "## Cleaning The Data"
   ]
  },
  {
   "cell_type": "code",
   "execution_count": 75,
   "metadata": {},
   "outputs": [
    {
     "name": "stdout",
     "output_type": "stream",
     "text": [
      "            HomeTeam     AwayTeam FTR\n",
      "0             Fulham      Arsenal   A\n",
      "1     Crystal Palace  Southampton   H\n",
      "2          Liverpool        Leeds   H\n",
      "3           West Ham    Newcastle   A\n",
      "4          West Brom    Leicester   A\n",
      "...              ...          ...  ..\n",
      "2275           Stoke     West Ham   H\n",
      "2276         Swansea     Man City   D\n",
      "2277         Watford   Sunderland   D\n",
      "2278       West Brom    Liverpool   D\n",
      "2279      Man United  Bournemouth   H\n",
      "\n",
      "[2280 rows x 3 columns]\n"
     ]
    }
   ],
   "source": [
    "n_matches = data.shape[0]\n",
    "n_features = data.shape[1] - 1\n",
    "\n",
    "useful_data = data.copy()\n",
    "useful_test_data = test_data.copy()\n",
    "\n",
    "useful_data = useful_data.drop([\"Div\",\"Date\"],axis=1)\n",
    "useful_test_data = useful_test_data.drop([\"Div\",\"Date\"],axis=1)\n",
    "\n",
    "table_features = data.iloc[:,:7]\n",
    "table_features = table_features.drop([\"Div\",\"Date\",\"FTHG\",\"FTAG\"],axis=1)\n",
    "\n",
    "print(table_features)"
   ]
  },
  {
   "cell_type": "markdown",
   "metadata": {},
   "source": [
    "## Constructing The Necessary Data Features"
   ]
  },
  {
   "cell_type": "code",
   "execution_count": 76,
   "metadata": {},
   "outputs": [
    {
     "name": "stdout",
     "output_type": "stream",
     "text": [
      "Teams From 2016 to 2021 :\n",
      "\n",
      " ['Fulham', 'Crystal Palace', 'Liverpool', 'West Ham', 'West Brom', 'Tottenham', 'Brighton', 'Sheffield United', 'Everton', 'Leeds', 'Man United', 'Arsenal', 'Southampton', 'Newcastle', 'Chelsea', 'Leicester', 'Aston Villa', 'Wolves', 'Burnley', 'Man City', 'Bournemouth', 'Watford', 'Norwich', 'Huddersfield', 'Cardiff', 'Stoke', 'Swansea', 'Hull', 'Middlesbrough', 'Sunderland']\n"
     ]
    }
   ],
   "source": [
    "team_list = useful_data[\"HomeTeam\"]\n",
    "\n",
    "team_names = []\n",
    "\n",
    "for team in team_list:\n",
    "    if team not in team_names:\n",
    "        team_names.append(team)\n",
    "        \n",
    "print(\"Teams From 2016 to 2021 :\\n\\n\",team_names)"
   ]
  },
  {
   "cell_type": "markdown",
   "metadata": {},
   "source": [
    "## Useful Informations About The Data And Teams"
   ]
  },
  {
   "cell_type": "code",
   "execution_count": 77,
   "metadata": {},
   "outputs": [
    {
     "name": "stdout",
     "output_type": "stream",
     "text": [
      "Total Number Of Games : 2280\n",
      "Number Of Features : 22\n",
      "Number Of Home Wins : 1014\n",
      "Home Win Rate : 0.44473684210526315 %\n"
     ]
    }
   ],
   "source": [
    "n_homewins = len(useful_data[useful_data.FTR == \"H\"])\n",
    "homewin_rate = float(n_homewins/n_matches)\n",
    "\n",
    "print(\"Total Number Of Games :\",n_matches)\n",
    "print(\"Number Of Features :\",n_features)\n",
    "print(\"Number Of Home Wins :\",n_homewins)\n",
    "print(\"Home Win Rate :\",homewin_rate,\"%\")"
   ]
  },
  {
   "cell_type": "markdown",
   "metadata": {},
   "source": [
    "## Getting The Team Data"
   ]
  },
  {
   "cell_type": "code",
   "execution_count": 78,
   "metadata": {},
   "outputs": [],
   "source": [
    "def getTeamDataByName(teamName):\n",
    "    print(\"========= Team Info\",teamName,\"=========\\n\")\n",
    "    \n",
    "    teamHomeData = useful_data[useful_data[\"HomeTeam\"] == teamName]\n",
    "    totalGoalsScored = teamHomeData[\"FTHG\"].sum()\n",
    "    \n",
    "    teamAwayData = useful_data[useful_data[\"AwayTeam\"] == teamName]\n",
    "    totalGoalsScored += teamAwayData[\"FTAG\"].sum()\n",
    "    \n",
    "    totalGames = pd.concat([teamHomeData,teamAwayData])\n",
    "    numberOfGames = len(totalGames.index)\n",
    "    \n",
    "    totalGoalsAllowed = teamHomeData[\"FTHG\"].sum()\n",
    "    totalGoalsAllowed += teamAwayData[\"FTHG\"].sum()\n",
    "    \n",
    "    totalYellowCards = teamHomeData['HY'].sum()\n",
    "    totalYellowCards += teamAwayData['AY'].sum()\n",
    "    \n",
    "    totalRedCards = teamHomeData['HR'].sum()\n",
    "    totalRedCards += teamAwayData['AR'].sum()\n",
    "    \n",
    "    totalFouls = teamHomeData['HF'].sum()\n",
    "    totalFouls += teamAwayData['AF'].sum()\n",
    "    \n",
    "    totalCorners = teamHomeData['HC'].sum()\n",
    "    totalCorners += teamAwayData['AC'].sum()\n",
    "    \n",
    "    totalShots = teamHomeData['HS'].sum()\n",
    "    totalShots += teamAwayData['AS'].sum()\n",
    "    \n",
    "    totalShotsAgainst = teamHomeData['AS'].sum()\n",
    "    totalShotsAgainst += teamAwayData['HS'].sum()\n",
    "    \n",
    "    if numberOfGames != 0:\n",
    "        HSPG = totalShots/numberOfGames\n",
    "        ASPG = totalShotsAgainst/numberOfGames\n",
    "        \n",
    "    gamesWon = totalGames[totalGames.FTR == \"H\"]\n",
    "    gamesLost = totalGames[totalGames.FTR == \"A\"]\n",
    "    gamesDraw = totalGames[totalGames.FTR == \"D\"]\n",
    "    \n",
    "    numberOfGamesWon = len(gamesWon.index)\n",
    "    numberOfGamesLost = len(gamesLost.index)\n",
    "    numberOfGamesDraw = len(gamesDraw.index)\n",
    "    \n",
    "    if numberOfGames != 0:\n",
    "        GWP = float(numberOfGamesWon/numberOfGames)\n",
    "        GLP = float(numberOfGamesLost/numberOfGames)\n",
    "        GDP = float(numberOfGamesDraw/numberOfGames)\n",
    "        \n",
    "    totalShotsOnTarget = teamHomeData[\"HST\"].sum()\n",
    "    totalShotsOnTarget += teamAwayData[\"AST\"].sum()\n",
    "    \n",
    "    goalSaves = totalShotsOnTarget - totalGoalsAllowed\n",
    "    \n",
    "    if totalShotsOnTarget != 0:\n",
    "        goalSavesPercent = float(goalSaves/totalShotsOnTarget)\n",
    "        \n",
    "    if goalSaves != 0:\n",
    "        saveRatio = float(totalShotsOnTarget/goalSaves)\n",
    "    \n",
    "    if totalShots != 0 :\n",
    "        scoringPercent = float((totalShots - totalGoalsScored)/totalShots)\n",
    "    \n",
    "    if totalGoalsScored != 0:\n",
    "        scoringRatio = float(totalShotsOnTarget / totalGoalsScored)\n",
    "        \n",
    "    print(\"Home Scoring Persentage :\",HSPG,\"%\")\n",
    "    print(\"Away Scoring Persentage :\",ASPG,\"%\")\n",
    "    print(\"Games Won Persentage :\",GWP,\"%\")\n",
    "    print(\"Games Lost Persentage :\",GLP,\"%\")\n",
    "    print(\"Games Draw Persentage :\",GDP,\"%\")\n",
    "        \n",
    "    if numberOfGames == 0: \n",
    "        gamesWon = 0\n",
    "        gamesLost = 0\n",
    "        gamesDraw = 0 \n",
    "        totalGoalsScored = 0 \n",
    "        totalShotsOnTarget = 0 \n",
    "        totalGoalsAllowed = 0 \n",
    "        totalYellowCards = 0 \n",
    "        totalRedCards = 0 \n",
    "        totalFouls = 0 \n",
    "        totalCorners = 0 \n",
    "        totalShots = 0 \n",
    "        totalShotsAgainst = 0 \n",
    "        HSPG = 0\n",
    "        ASPG = 0\n",
    "        goalSaves = 0 \n",
    "        goalSavesPercent = 0 \n",
    "        scoringPercent = 0 \n",
    "        saveRatio = 0 \n",
    "        scoringRatio = 0\n",
    "    \n",
    "    return[\n",
    "        teamName, \n",
    "        totalGoalsScored, \n",
    "        totalShotsOnTarget, \n",
    "        totalGoalsAllowed, \n",
    "        totalYellowCards, \n",
    "        totalRedCards,\n",
    "        totalFouls, \n",
    "        totalCorners, \n",
    "        totalShots, \n",
    "        totalShotsAgainst, \n",
    "        HSPG, \n",
    "        ASPG, \n",
    "        goalSaves, \n",
    "        goalSavesPercent, \n",
    "        scoringPercent,\n",
    "        saveRatio, \n",
    "        scoringRatio\n",
    "    ]"
   ]
  },
  {
   "cell_type": "code",
   "execution_count": 79,
   "metadata": {},
   "outputs": [
    {
     "name": "stdout",
     "output_type": "stream",
     "text": [
      "========= Team Info Man United =========\n",
      "\n",
      "Home Scoring Persentage : 13.692982456140351 %\n",
      "Away Scoring Persentage : 10.978070175438596 %\n",
      "Games Won Persentage : 0.41228070175438597 %\n",
      "Games Lost Persentage : 0.3157894736842105 %\n",
      "Games Draw Persentage : 0.2719298245614035 %\n",
      "['Man United', 375, 1187, 328, 414, 9, 2691, 1266, 3122, 2503, 13.692982456140351, 10.978070175438596, 859, 0.7236731255265375, 0.8798846893017297, 1.3818393480791618, 3.1653333333333333]\n"
     ]
    }
   ],
   "source": [
    "print(getTeamDataByName(\"Man United\"))"
   ]
  },
  {
   "cell_type": "markdown",
   "metadata": {},
   "source": [
    "## Constructing The New Teams Vector Data"
   ]
  },
  {
   "cell_type": "code",
   "execution_count": 80,
   "metadata": {},
   "outputs": [
    {
     "name": "stdout",
     "output_type": "stream",
     "text": [
      "========= Team Info Fulham =========\n",
      "\n",
      "Home Scoring Persentage : 11.776315789473685 %\n",
      "Away Scoring Persentage : 13.31578947368421 %\n",
      "Games Won Persentage : 0.40789473684210525 %\n",
      "Games Lost Persentage : 0.35526315789473684 %\n",
      "Games Draw Persentage : 0.23684210526315788 %\n",
      "========= Team Info Crystal Palace =========\n",
      "\n",
      "Home Scoring Persentage : 11.381578947368421 %\n",
      "Away Scoring Persentage : 13.697368421052632 %\n",
      "Games Won Persentage : 0.39473684210526316 %\n",
      "Games Lost Persentage : 0.38596491228070173 %\n",
      "Games Draw Persentage : 0.21929824561403508 %\n",
      "========= Team Info Liverpool =========\n",
      "\n",
      "Home Scoring Persentage : 16.135964912280702 %\n",
      "Away Scoring Persentage : 8.635964912280702 %\n",
      "Games Won Persentage : 0.43859649122807015 %\n",
      "Games Lost Persentage : 0.32894736842105265 %\n",
      "Games Draw Persentage : 0.2324561403508772 %\n",
      "========= Team Info West Ham =========\n",
      "\n",
      "Home Scoring Persentage : 12.06578947368421 %\n",
      "Away Scoring Persentage : 13.50438596491228 %\n",
      "Games Won Persentage : 0.4298245614035088 %\n",
      "Games Lost Persentage : 0.31140350877192985 %\n",
      "Games Draw Persentage : 0.25877192982456143 %\n",
      "========= Team Info West Brom =========\n",
      "\n",
      "Home Scoring Persentage : 9.861842105263158 %\n",
      "Away Scoring Persentage : 14.328947368421053 %\n",
      "Games Won Persentage : 0.40131578947368424 %\n",
      "Games Lost Persentage : 0.29605263157894735 %\n",
      "Games Draw Persentage : 0.3026315789473684 %\n",
      "========= Team Info Tottenham =========\n",
      "\n",
      "Home Scoring Persentage : 14.81140350877193 %\n",
      "Away Scoring Persentage : 11.451754385964913 %\n",
      "Games Won Persentage : 0.4692982456140351 %\n",
      "Games Lost Persentage : 0.31140350877192985 %\n",
      "Games Draw Persentage : 0.21929824561403508 %\n",
      "========= Team Info Brighton =========\n",
      "\n",
      "Home Scoring Persentage : 11.157894736842104 %\n",
      "Away Scoring Persentage : 13.111842105263158 %\n",
      "Games Won Persentage : 0.4144736842105263 %\n",
      "Games Lost Persentage : 0.2565789473684211 %\n",
      "Games Draw Persentage : 0.32894736842105265 %\n",
      "========= Team Info Sheffield United =========\n",
      "\n",
      "Home Scoring Persentage : 8.93421052631579 %\n",
      "Away Scoring Persentage : 12.789473684210526 %\n",
      "Games Won Persentage : 0.4868421052631579 %\n",
      "Games Lost Persentage : 0.32894736842105265 %\n",
      "Games Draw Persentage : 0.18421052631578946 %\n",
      "========= Team Info Everton =========\n",
      "\n",
      "Home Scoring Persentage : 11.907894736842104 %\n",
      "Away Scoring Persentage : 12.592105263157896 %\n",
      "Games Won Persentage : 0.44298245614035087 %\n",
      "Games Lost Persentage : 0.2894736842105263 %\n",
      "Games Draw Persentage : 0.2675438596491228 %\n",
      "========= Team Info Leeds =========\n",
      "\n",
      "Home Scoring Persentage : 13.736842105263158 %\n",
      "Away Scoring Persentage : 14.68421052631579 %\n",
      "Games Won Persentage : 0.4473684210526316 %\n",
      "Games Lost Persentage : 0.42105263157894735 %\n",
      "Games Draw Persentage : 0.13157894736842105 %\n",
      "========= Team Info Man United =========\n",
      "\n",
      "Home Scoring Persentage : 13.692982456140351 %\n",
      "Away Scoring Persentage : 10.978070175438596 %\n",
      "Games Won Persentage : 0.41228070175438597 %\n",
      "Games Lost Persentage : 0.3157894736842105 %\n",
      "Games Draw Persentage : 0.2719298245614035 %\n",
      "========= Team Info Arsenal =========\n",
      "\n",
      "Home Scoring Persentage : 13.442982456140351 %\n",
      "Away Scoring Persentage : 12.149122807017545 %\n",
      "Games Won Persentage : 0.5087719298245614 %\n",
      "Games Lost Persentage : 0.2675438596491228 %\n",
      "Games Draw Persentage : 0.2236842105263158 %\n",
      "========= Team Info Southampton =========\n",
      "\n",
      "Home Scoring Persentage : 12.81140350877193 %\n",
      "Away Scoring Persentage : 12.24561403508772 %\n",
      "Games Won Persentage : 0.3991228070175439 %\n",
      "Games Lost Persentage : 0.33771929824561403 %\n",
      "Games Draw Persentage : 0.2631578947368421 %\n",
      "========= Team Info Newcastle =========\n",
      "\n",
      "Home Scoring Persentage : 10.963157894736842 %\n",
      "Away Scoring Persentage : 14.005263157894737 %\n",
      "Games Won Persentage : 0.45789473684210524 %\n",
      "Games Lost Persentage : 0.29473684210526313 %\n",
      "Games Draw Persentage : 0.24736842105263157 %\n",
      "========= Team Info Chelsea =========\n",
      "\n",
      "Home Scoring Persentage : 15.355263157894736 %\n",
      "Away Scoring Persentage : 9.587719298245615 %\n",
      "Games Won Persentage : 0.43859649122807015 %\n",
      "Games Lost Persentage : 0.34649122807017546 %\n",
      "Games Draw Persentage : 0.2149122807017544 %\n",
      "========= Team Info Leicester =========\n",
      "\n",
      "Home Scoring Persentage : 12.776315789473685 %\n",
      "Away Scoring Persentage : 11.99561403508772 %\n",
      "Games Won Persentage : 0.43859649122807015 %\n",
      "Games Lost Persentage : 0.3333333333333333 %\n",
      "Games Draw Persentage : 0.22807017543859648 %\n",
      "========= Team Info Aston Villa =========\n",
      "\n",
      "Home Scoring Persentage : 11.824561403508772 %\n",
      "Away Scoring Persentage : 14.429824561403509 %\n",
      "Games Won Persentage : 0.43859649122807015 %\n",
      "Games Lost Persentage : 0.35964912280701755 %\n",
      "Games Draw Persentage : 0.20175438596491227 %\n",
      "========= Team Info Wolves =========\n",
      "\n",
      "Home Scoring Persentage : 12.236842105263158 %\n",
      "Away Scoring Persentage : 11.350877192982455 %\n",
      "Games Won Persentage : 0.41228070175438597 %\n",
      "Games Lost Persentage : 0.30701754385964913 %\n",
      "Games Draw Persentage : 0.2807017543859649 %\n",
      "========= Team Info Burnley =========\n",
      "\n",
      "Home Scoring Persentage : 10.0 %\n",
      "Away Scoring Persentage : 15.742105263157894 %\n",
      "Games Won Persentage : 0.43157894736842106 %\n",
      "Games Lost Persentage : 0.3368421052631579 %\n",
      "Games Draw Persentage : 0.23157894736842105 %\n",
      "========= Team Info Man City =========\n",
      "\n",
      "Home Scoring Persentage : 17.285087719298247 %\n",
      "Away Scoring Persentage : 7.337719298245614 %\n",
      "Games Won Persentage : 0.47368421052631576 %\n",
      "Games Lost Persentage : 0.38596491228070173 %\n",
      "Games Draw Persentage : 0.14035087719298245 %\n",
      "========= Team Info Bournemouth =========\n",
      "\n",
      "Home Scoring Persentage : 11.642105263157895 %\n",
      "Away Scoring Persentage : 13.76842105263158 %\n",
      "Games Won Persentage : 0.46842105263157896 %\n",
      "Games Lost Persentage : 0.30526315789473685 %\n",
      "Games Draw Persentage : 0.22631578947368422 %\n",
      "========= Team Info Watford =========\n",
      "\n",
      "Home Scoring Persentage : 11.378947368421052 %\n",
      "Away Scoring Persentage : 12.842105263157896 %\n",
      "Games Won Persentage : 0.4842105263157895 %\n",
      "Games Lost Persentage : 0.29473684210526313 %\n",
      "Games Draw Persentage : 0.22105263157894736 %\n",
      "========= Team Info Norwich =========\n",
      "\n",
      "Home Scoring Persentage : 10.842105263157896 %\n",
      "Away Scoring Persentage : 14.407894736842104 %\n",
      "Games Won Persentage : 0.5131578947368421 %\n",
      "Games Lost Persentage : 0.3157894736842105 %\n",
      "Games Draw Persentage : 0.17105263157894737 %\n",
      "========= Team Info Huddersfield =========\n",
      "\n",
      "Home Scoring Persentage : 10.0 %\n",
      "Away Scoring Persentage : 12.644736842105264 %\n",
      "Games Won Persentage : 0.4342105263157895 %\n",
      "Games Lost Persentage : 0.34210526315789475 %\n",
      "Games Draw Persentage : 0.2236842105263158 %\n",
      "========= Team Info Cardiff =========\n",
      "\n",
      "Home Scoring Persentage : 10.973684210526315 %\n",
      "Away Scoring Persentage : 15.026315789473685 %\n",
      "Games Won Persentage : 0.5 %\n",
      "Games Lost Persentage : 0.39473684210526316 %\n",
      "Games Draw Persentage : 0.10526315789473684 %\n",
      "========= Team Info Stoke =========\n",
      "\n",
      "Home Scoring Persentage : 10.75438596491228 %\n",
      "Away Scoring Persentage : 14.464912280701755 %\n",
      "Games Won Persentage : 0.42105263157894735 %\n",
      "Games Lost Persentage : 0.2982456140350877 %\n",
      "Games Draw Persentage : 0.2807017543859649 %\n",
      "========= Team Info Swansea =========\n",
      "\n",
      "Home Scoring Persentage : 10.24561403508772 %\n",
      "Away Scoring Persentage : 13.850877192982455 %\n",
      "Games Won Persentage : 0.49122807017543857 %\n",
      "Games Lost Persentage : 0.2894736842105263 %\n",
      "Games Draw Persentage : 0.21929824561403508 %\n",
      "========= Team Info Hull =========\n",
      "\n",
      "Home Scoring Persentage : 10.421052631578947 %\n",
      "Away Scoring Persentage : 16.263157894736842 %\n",
      "Games Won Persentage : 0.6052631578947368 %\n",
      "Games Lost Persentage : 0.21052631578947367 %\n",
      "Games Draw Persentage : 0.18421052631578946 %\n",
      "========= Team Info Middlesbrough =========\n",
      "\n",
      "Home Scoring Persentage : 9.18421052631579 %\n",
      "Away Scoring Persentage : 14.421052631578947 %\n",
      "Games Won Persentage : 0.39473684210526316 %\n",
      "Games Lost Persentage : 0.2631578947368421 %\n",
      "Games Draw Persentage : 0.34210526315789475 %\n",
      "========= Team Info Sunderland =========\n",
      "\n",
      "Home Scoring Persentage : 10.868421052631579 %\n",
      "Away Scoring Persentage : 16.36842105263158 %\n",
      "Games Won Persentage : 0.4473684210526316 %\n",
      "Games Lost Persentage : 0.3157894736842105 %\n",
      "Games Draw Persentage : 0.23684210526315788 %\n"
     ]
    }
   ],
   "source": [
    "newTeamsStatsList = []\n",
    "for team in team_names:\n",
    "    team_vector = getTeamDataByName(team) \n",
    "    newTeamsStatsList.append(team_vector)\n",
    "    \n",
    "teamStats = pd.DataFrame(newTeamsStatsList, columns=['TeamName', 'totalGoalsScored', 'totalShotsOnTarget', 'totalGoalsAllowed', \n",
    "            'totalYellowCards', 'totalRedCards','totalFouls', 'totalCorners', \n",
    "            'totalShots', 'totalShotsAgainst', 'HSPG', 'ASPG', 'goalSaves', 'goalSavesPercent', 'scoringPercent',\n",
    "            'saveRatio', 'scoringRatio'])"
   ]
  },
  {
   "cell_type": "code",
   "execution_count": 81,
   "metadata": {},
   "outputs": [
    {
     "data": {
      "text/html": [
       "<div>\n",
       "<style scoped>\n",
       "    .dataframe tbody tr th:only-of-type {\n",
       "        vertical-align: middle;\n",
       "    }\n",
       "\n",
       "    .dataframe tbody tr th {\n",
       "        vertical-align: top;\n",
       "    }\n",
       "\n",
       "    .dataframe thead th {\n",
       "        text-align: right;\n",
       "    }\n",
       "</style>\n",
       "<table border=\"1\" class=\"dataframe\">\n",
       "  <thead>\n",
       "    <tr style=\"text-align: right;\">\n",
       "      <th></th>\n",
       "      <th>TeamName</th>\n",
       "      <th>totalGoalsScored</th>\n",
       "      <th>totalShotsOnTarget</th>\n",
       "      <th>totalGoalsAllowed</th>\n",
       "      <th>totalYellowCards</th>\n",
       "      <th>totalRedCards</th>\n",
       "      <th>totalFouls</th>\n",
       "      <th>totalCorners</th>\n",
       "      <th>totalShots</th>\n",
       "      <th>totalShotsAgainst</th>\n",
       "      <th>HSPG</th>\n",
       "      <th>ASPG</th>\n",
       "      <th>goalSaves</th>\n",
       "      <th>goalSavesPercent</th>\n",
       "      <th>scoringPercent</th>\n",
       "      <th>saveRatio</th>\n",
       "      <th>scoringRatio</th>\n",
       "    </tr>\n",
       "  </thead>\n",
       "  <tbody>\n",
       "    <tr>\n",
       "      <th>0</th>\n",
       "      <td>Fulham</td>\n",
       "      <td>61</td>\n",
       "      <td>285</td>\n",
       "      <td>101</td>\n",
       "      <td>134</td>\n",
       "      <td>5</td>\n",
       "      <td>907</td>\n",
       "      <td>325</td>\n",
       "      <td>895</td>\n",
       "      <td>1012</td>\n",
       "      <td>11.776316</td>\n",
       "      <td>13.315789</td>\n",
       "      <td>184</td>\n",
       "      <td>0.645614</td>\n",
       "      <td>0.931844</td>\n",
       "      <td>1.548913</td>\n",
       "      <td>4.672131</td>\n",
       "    </tr>\n",
       "    <tr>\n",
       "      <th>1</th>\n",
       "      <td>Crystal Palace</td>\n",
       "      <td>257</td>\n",
       "      <td>838</td>\n",
       "      <td>314</td>\n",
       "      <td>381</td>\n",
       "      <td>7</td>\n",
       "      <td>2579</td>\n",
       "      <td>1163</td>\n",
       "      <td>2595</td>\n",
       "      <td>3123</td>\n",
       "      <td>11.381579</td>\n",
       "      <td>13.697368</td>\n",
       "      <td>524</td>\n",
       "      <td>0.625298</td>\n",
       "      <td>0.900963</td>\n",
       "      <td>1.599237</td>\n",
       "      <td>3.260700</td>\n",
       "    </tr>\n",
       "    <tr>\n",
       "      <th>2</th>\n",
       "      <td>Liverpool</td>\n",
       "      <td>467</td>\n",
       "      <td>1343</td>\n",
       "      <td>390</td>\n",
       "      <td>274</td>\n",
       "      <td>7</td>\n",
       "      <td>2205</td>\n",
       "      <td>1511</td>\n",
       "      <td>3679</td>\n",
       "      <td>1969</td>\n",
       "      <td>16.135965</td>\n",
       "      <td>8.635965</td>\n",
       "      <td>953</td>\n",
       "      <td>0.709605</td>\n",
       "      <td>0.873063</td>\n",
       "      <td>1.409234</td>\n",
       "      <td>2.875803</td>\n",
       "    </tr>\n",
       "    <tr>\n",
       "      <th>3</th>\n",
       "      <td>West Ham</td>\n",
       "      <td>323</td>\n",
       "      <td>940</td>\n",
       "      <td>353</td>\n",
       "      <td>374</td>\n",
       "      <td>17</td>\n",
       "      <td>2260</td>\n",
       "      <td>1102</td>\n",
       "      <td>2751</td>\n",
       "      <td>3079</td>\n",
       "      <td>12.065789</td>\n",
       "      <td>13.504386</td>\n",
       "      <td>587</td>\n",
       "      <td>0.624468</td>\n",
       "      <td>0.882588</td>\n",
       "      <td>1.601363</td>\n",
       "      <td>2.910217</td>\n",
       "    </tr>\n",
       "    <tr>\n",
       "      <th>4</th>\n",
       "      <td>West Brom</td>\n",
       "      <td>143</td>\n",
       "      <td>455</td>\n",
       "      <td>198</td>\n",
       "      <td>266</td>\n",
       "      <td>8</td>\n",
       "      <td>1685</td>\n",
       "      <td>667</td>\n",
       "      <td>1499</td>\n",
       "      <td>2178</td>\n",
       "      <td>9.861842</td>\n",
       "      <td>14.328947</td>\n",
       "      <td>257</td>\n",
       "      <td>0.564835</td>\n",
       "      <td>0.904603</td>\n",
       "      <td>1.770428</td>\n",
       "      <td>3.181818</td>\n",
       "    </tr>\n",
       "    <tr>\n",
       "      <th>5</th>\n",
       "      <td>Tottenham</td>\n",
       "      <td>425</td>\n",
       "      <td>1249</td>\n",
       "      <td>362</td>\n",
       "      <td>374</td>\n",
       "      <td>10</td>\n",
       "      <td>2505</td>\n",
       "      <td>1335</td>\n",
       "      <td>3377</td>\n",
       "      <td>2611</td>\n",
       "      <td>14.811404</td>\n",
       "      <td>11.451754</td>\n",
       "      <td>887</td>\n",
       "      <td>0.710168</td>\n",
       "      <td>0.874149</td>\n",
       "      <td>1.408117</td>\n",
       "      <td>2.938824</td>\n",
       "    </tr>\n",
       "    <tr>\n",
       "      <th>6</th>\n",
       "      <td>Brighton</td>\n",
       "      <td>148</td>\n",
       "      <td>511</td>\n",
       "      <td>197</td>\n",
       "      <td>215</td>\n",
       "      <td>14</td>\n",
       "      <td>1688</td>\n",
       "      <td>716</td>\n",
       "      <td>1696</td>\n",
       "      <td>1993</td>\n",
       "      <td>11.157895</td>\n",
       "      <td>13.111842</td>\n",
       "      <td>314</td>\n",
       "      <td>0.614481</td>\n",
       "      <td>0.912736</td>\n",
       "      <td>1.627389</td>\n",
       "      <td>3.452703</td>\n",
       "    </tr>\n",
       "    <tr>\n",
       "      <th>7</th>\n",
       "      <td>Sheffield United</td>\n",
       "      <td>59</td>\n",
       "      <td>214</td>\n",
       "      <td>96</td>\n",
       "      <td>134</td>\n",
       "      <td>5</td>\n",
       "      <td>869</td>\n",
       "      <td>383</td>\n",
       "      <td>679</td>\n",
       "      <td>972</td>\n",
       "      <td>8.934211</td>\n",
       "      <td>12.789474</td>\n",
       "      <td>118</td>\n",
       "      <td>0.551402</td>\n",
       "      <td>0.913108</td>\n",
       "      <td>1.813559</td>\n",
       "      <td>3.627119</td>\n",
       "    </tr>\n",
       "    <tr>\n",
       "      <th>8</th>\n",
       "      <td>Everton</td>\n",
       "      <td>310</td>\n",
       "      <td>968</td>\n",
       "      <td>352</td>\n",
       "      <td>349</td>\n",
       "      <td>19</td>\n",
       "      <td>2523</td>\n",
       "      <td>1149</td>\n",
       "      <td>2715</td>\n",
       "      <td>2871</td>\n",
       "      <td>11.907895</td>\n",
       "      <td>12.592105</td>\n",
       "      <td>616</td>\n",
       "      <td>0.636364</td>\n",
       "      <td>0.885820</td>\n",
       "      <td>1.571429</td>\n",
       "      <td>3.122581</td>\n",
       "    </tr>\n",
       "    <tr>\n",
       "      <th>9</th>\n",
       "      <td>Leeds</td>\n",
       "      <td>62</td>\n",
       "      <td>199</td>\n",
       "      <td>61</td>\n",
       "      <td>61</td>\n",
       "      <td>1</td>\n",
       "      <td>427</td>\n",
       "      <td>231</td>\n",
       "      <td>522</td>\n",
       "      <td>558</td>\n",
       "      <td>13.736842</td>\n",
       "      <td>14.684211</td>\n",
       "      <td>138</td>\n",
       "      <td>0.693467</td>\n",
       "      <td>0.881226</td>\n",
       "      <td>1.442029</td>\n",
       "      <td>3.209677</td>\n",
       "    </tr>\n",
       "    <tr>\n",
       "      <th>10</th>\n",
       "      <td>Man United</td>\n",
       "      <td>375</td>\n",
       "      <td>1187</td>\n",
       "      <td>328</td>\n",
       "      <td>414</td>\n",
       "      <td>9</td>\n",
       "      <td>2691</td>\n",
       "      <td>1266</td>\n",
       "      <td>3122</td>\n",
       "      <td>2503</td>\n",
       "      <td>13.692982</td>\n",
       "      <td>10.978070</td>\n",
       "      <td>859</td>\n",
       "      <td>0.723673</td>\n",
       "      <td>0.879885</td>\n",
       "      <td>1.381839</td>\n",
       "      <td>3.165333</td>\n",
       "    </tr>\n",
       "    <tr>\n",
       "      <th>11</th>\n",
       "      <td>Arsenal</td>\n",
       "      <td>400</td>\n",
       "      <td>1117</td>\n",
       "      <td>387</td>\n",
       "      <td>368</td>\n",
       "      <td>21</td>\n",
       "      <td>2308</td>\n",
       "      <td>1330</td>\n",
       "      <td>3065</td>\n",
       "      <td>2770</td>\n",
       "      <td>13.442982</td>\n",
       "      <td>12.149123</td>\n",
       "      <td>730</td>\n",
       "      <td>0.653536</td>\n",
       "      <td>0.869494</td>\n",
       "      <td>1.530137</td>\n",
       "      <td>2.792500</td>\n",
       "    </tr>\n",
       "    <tr>\n",
       "      <th>12</th>\n",
       "      <td>Southampton</td>\n",
       "      <td>280</td>\n",
       "      <td>1002</td>\n",
       "      <td>331</td>\n",
       "      <td>354</td>\n",
       "      <td>20</td>\n",
       "      <td>2552</td>\n",
       "      <td>1232</td>\n",
       "      <td>2921</td>\n",
       "      <td>2792</td>\n",
       "      <td>12.811404</td>\n",
       "      <td>12.245614</td>\n",
       "      <td>671</td>\n",
       "      <td>0.669661</td>\n",
       "      <td>0.904142</td>\n",
       "      <td>1.493294</td>\n",
       "      <td>3.578571</td>\n",
       "    </tr>\n",
       "    <tr>\n",
       "      <th>13</th>\n",
       "      <td>Newcastle</td>\n",
       "      <td>209</td>\n",
       "      <td>717</td>\n",
       "      <td>283</td>\n",
       "      <td>293</td>\n",
       "      <td>15</td>\n",
       "      <td>2003</td>\n",
       "      <td>818</td>\n",
       "      <td>2083</td>\n",
       "      <td>2661</td>\n",
       "      <td>10.963158</td>\n",
       "      <td>14.005263</td>\n",
       "      <td>434</td>\n",
       "      <td>0.605300</td>\n",
       "      <td>0.899664</td>\n",
       "      <td>1.652074</td>\n",
       "      <td>3.430622</td>\n",
       "    </tr>\n",
       "    <tr>\n",
       "      <th>14</th>\n",
       "      <td>Chelsea</td>\n",
       "      <td>396</td>\n",
       "      <td>1227</td>\n",
       "      <td>361</td>\n",
       "      <td>328</td>\n",
       "      <td>13</td>\n",
       "      <td>2323</td>\n",
       "      <td>1377</td>\n",
       "      <td>3501</td>\n",
       "      <td>2186</td>\n",
       "      <td>15.355263</td>\n",
       "      <td>9.587719</td>\n",
       "      <td>866</td>\n",
       "      <td>0.705786</td>\n",
       "      <td>0.886889</td>\n",
       "      <td>1.416859</td>\n",
       "      <td>3.098485</td>\n",
       "    </tr>\n",
       "    <tr>\n",
       "      <th>15</th>\n",
       "      <td>Leicester</td>\n",
       "      <td>358</td>\n",
       "      <td>1033</td>\n",
       "      <td>350</td>\n",
       "      <td>329</td>\n",
       "      <td>17</td>\n",
       "      <td>2406</td>\n",
       "      <td>1243</td>\n",
       "      <td>2913</td>\n",
       "      <td>2735</td>\n",
       "      <td>12.776316</td>\n",
       "      <td>11.995614</td>\n",
       "      <td>683</td>\n",
       "      <td>0.661181</td>\n",
       "      <td>0.877103</td>\n",
       "      <td>1.512445</td>\n",
       "      <td>2.885475</td>\n",
       "    </tr>\n",
       "    <tr>\n",
       "      <th>16</th>\n",
       "      <td>Aston Villa</td>\n",
       "      <td>123</td>\n",
       "      <td>448</td>\n",
       "      <td>162</td>\n",
       "      <td>206</td>\n",
       "      <td>7</td>\n",
       "      <td>1321</td>\n",
       "      <td>582</td>\n",
       "      <td>1348</td>\n",
       "      <td>1645</td>\n",
       "      <td>11.824561</td>\n",
       "      <td>14.429825</td>\n",
       "      <td>286</td>\n",
       "      <td>0.638393</td>\n",
       "      <td>0.908754</td>\n",
       "      <td>1.566434</td>\n",
       "      <td>3.642276</td>\n",
       "    </tr>\n",
       "    <tr>\n",
       "      <th>17</th>\n",
       "      <td>Wolves</td>\n",
       "      <td>134</td>\n",
       "      <td>450</td>\n",
       "      <td>149</td>\n",
       "      <td>182</td>\n",
       "      <td>3</td>\n",
       "      <td>1240</td>\n",
       "      <td>597</td>\n",
       "      <td>1395</td>\n",
       "      <td>1294</td>\n",
       "      <td>12.236842</td>\n",
       "      <td>11.350877</td>\n",
       "      <td>301</td>\n",
       "      <td>0.668889</td>\n",
       "      <td>0.903943</td>\n",
       "      <td>1.495017</td>\n",
       "      <td>3.358209</td>\n",
       "    </tr>\n",
       "    <tr>\n",
       "      <th>18</th>\n",
       "      <td>Burnley</td>\n",
       "      <td>196</td>\n",
       "      <td>626</td>\n",
       "      <td>252</td>\n",
       "      <td>320</td>\n",
       "      <td>3</td>\n",
       "      <td>1931</td>\n",
       "      <td>799</td>\n",
       "      <td>1900</td>\n",
       "      <td>2991</td>\n",
       "      <td>10.000000</td>\n",
       "      <td>15.742105</td>\n",
       "      <td>374</td>\n",
       "      <td>0.597444</td>\n",
       "      <td>0.896842</td>\n",
       "      <td>1.673797</td>\n",
       "      <td>3.193878</td>\n",
       "    </tr>\n",
       "    <tr>\n",
       "      <th>19</th>\n",
       "      <td>Man City</td>\n",
       "      <td>537</td>\n",
       "      <td>1430</td>\n",
       "      <td>405</td>\n",
       "      <td>340</td>\n",
       "      <td>13</td>\n",
       "      <td>2198</td>\n",
       "      <td>1653</td>\n",
       "      <td>3941</td>\n",
       "      <td>1673</td>\n",
       "      <td>17.285088</td>\n",
       "      <td>7.337719</td>\n",
       "      <td>1025</td>\n",
       "      <td>0.716783</td>\n",
       "      <td>0.863740</td>\n",
       "      <td>1.395122</td>\n",
       "      <td>2.662942</td>\n",
       "    </tr>\n",
       "    <tr>\n",
       "      <th>20</th>\n",
       "      <td>Bournemouth</td>\n",
       "      <td>241</td>\n",
       "      <td>746</td>\n",
       "      <td>318</td>\n",
       "      <td>291</td>\n",
       "      <td>9</td>\n",
       "      <td>1775</td>\n",
       "      <td>1015</td>\n",
       "      <td>2212</td>\n",
       "      <td>2616</td>\n",
       "      <td>11.642105</td>\n",
       "      <td>13.768421</td>\n",
       "      <td>428</td>\n",
       "      <td>0.573727</td>\n",
       "      <td>0.891049</td>\n",
       "      <td>1.742991</td>\n",
       "      <td>3.095436</td>\n",
       "    </tr>\n",
       "    <tr>\n",
       "      <th>21</th>\n",
       "      <td>Watford</td>\n",
       "      <td>212</td>\n",
       "      <td>683</td>\n",
       "      <td>291</td>\n",
       "      <td>372</td>\n",
       "      <td>19</td>\n",
       "      <td>2335</td>\n",
       "      <td>858</td>\n",
       "      <td>2162</td>\n",
       "      <td>2440</td>\n",
       "      <td>11.378947</td>\n",
       "      <td>12.842105</td>\n",
       "      <td>392</td>\n",
       "      <td>0.573939</td>\n",
       "      <td>0.901943</td>\n",
       "      <td>1.742347</td>\n",
       "      <td>3.221698</td>\n",
       "    </tr>\n",
       "    <tr>\n",
       "      <th>22</th>\n",
       "      <td>Norwich</td>\n",
       "      <td>65</td>\n",
       "      <td>257</td>\n",
       "      <td>120</td>\n",
       "      <td>128</td>\n",
       "      <td>6</td>\n",
       "      <td>780</td>\n",
       "      <td>350</td>\n",
       "      <td>824</td>\n",
       "      <td>1095</td>\n",
       "      <td>10.842105</td>\n",
       "      <td>14.407895</td>\n",
       "      <td>137</td>\n",
       "      <td>0.533074</td>\n",
       "      <td>0.921117</td>\n",
       "      <td>1.875912</td>\n",
       "      <td>3.953846</td>\n",
       "    </tr>\n",
       "    <tr>\n",
       "      <th>23</th>\n",
       "      <td>Huddersfield</td>\n",
       "      <td>50</td>\n",
       "      <td>229</td>\n",
       "      <td>104</td>\n",
       "      <td>116</td>\n",
       "      <td>7</td>\n",
       "      <td>816</td>\n",
       "      <td>327</td>\n",
       "      <td>760</td>\n",
       "      <td>961</td>\n",
       "      <td>10.000000</td>\n",
       "      <td>12.644737</td>\n",
       "      <td>125</td>\n",
       "      <td>0.545852</td>\n",
       "      <td>0.934211</td>\n",
       "      <td>1.832000</td>\n",
       "      <td>4.580000</td>\n",
       "    </tr>\n",
       "    <tr>\n",
       "      <th>24</th>\n",
       "      <td>Cardiff</td>\n",
       "      <td>34</td>\n",
       "      <td>126</td>\n",
       "      <td>52</td>\n",
       "      <td>65</td>\n",
       "      <td>1</td>\n",
       "      <td>384</td>\n",
       "      <td>168</td>\n",
       "      <td>417</td>\n",
       "      <td>571</td>\n",
       "      <td>10.973684</td>\n",
       "      <td>15.026316</td>\n",
       "      <td>74</td>\n",
       "      <td>0.587302</td>\n",
       "      <td>0.918465</td>\n",
       "      <td>1.702703</td>\n",
       "      <td>3.705882</td>\n",
       "    </tr>\n",
       "    <tr>\n",
       "      <th>25</th>\n",
       "      <td>Stoke</td>\n",
       "      <td>117</td>\n",
       "      <td>398</td>\n",
       "      <td>167</td>\n",
       "      <td>183</td>\n",
       "      <td>7</td>\n",
       "      <td>1289</td>\n",
       "      <td>477</td>\n",
       "      <td>1226</td>\n",
       "      <td>1649</td>\n",
       "      <td>10.754386</td>\n",
       "      <td>14.464912</td>\n",
       "      <td>231</td>\n",
       "      <td>0.580402</td>\n",
       "      <td>0.904568</td>\n",
       "      <td>1.722944</td>\n",
       "      <td>3.401709</td>\n",
       "    </tr>\n",
       "    <tr>\n",
       "      <th>26</th>\n",
       "      <td>Swansea</td>\n",
       "      <td>115</td>\n",
       "      <td>386</td>\n",
       "      <td>164</td>\n",
       "      <td>169</td>\n",
       "      <td>2</td>\n",
       "      <td>1170</td>\n",
       "      <td>509</td>\n",
       "      <td>1168</td>\n",
       "      <td>1579</td>\n",
       "      <td>10.245614</td>\n",
       "      <td>13.850877</td>\n",
       "      <td>222</td>\n",
       "      <td>0.575130</td>\n",
       "      <td>0.901541</td>\n",
       "      <td>1.738739</td>\n",
       "      <td>3.356522</td>\n",
       "    </tr>\n",
       "    <tr>\n",
       "      <th>27</th>\n",
       "      <td>Hull</td>\n",
       "      <td>37</td>\n",
       "      <td>127</td>\n",
       "      <td>73</td>\n",
       "      <td>67</td>\n",
       "      <td>5</td>\n",
       "      <td>403</td>\n",
       "      <td>179</td>\n",
       "      <td>396</td>\n",
       "      <td>618</td>\n",
       "      <td>10.421053</td>\n",
       "      <td>16.263158</td>\n",
       "      <td>54</td>\n",
       "      <td>0.425197</td>\n",
       "      <td>0.906566</td>\n",
       "      <td>2.351852</td>\n",
       "      <td>3.432432</td>\n",
       "    </tr>\n",
       "    <tr>\n",
       "      <th>28</th>\n",
       "      <td>Middlesbrough</td>\n",
       "      <td>27</td>\n",
       "      <td>100</td>\n",
       "      <td>47</td>\n",
       "      <td>76</td>\n",
       "      <td>1</td>\n",
       "      <td>478</td>\n",
       "      <td>141</td>\n",
       "      <td>349</td>\n",
       "      <td>548</td>\n",
       "      <td>9.184211</td>\n",
       "      <td>14.421053</td>\n",
       "      <td>53</td>\n",
       "      <td>0.530000</td>\n",
       "      <td>0.922636</td>\n",
       "      <td>1.886792</td>\n",
       "      <td>3.703704</td>\n",
       "    </tr>\n",
       "    <tr>\n",
       "      <th>29</th>\n",
       "      <td>Sunderland</td>\n",
       "      <td>77</td>\n",
       "      <td>264</td>\n",
       "      <td>116</td>\n",
       "      <td>138</td>\n",
       "      <td>6</td>\n",
       "      <td>833</td>\n",
       "      <td>320</td>\n",
       "      <td>826</td>\n",
       "      <td>1244</td>\n",
       "      <td>10.868421</td>\n",
       "      <td>16.368421</td>\n",
       "      <td>148</td>\n",
       "      <td>0.560606</td>\n",
       "      <td>0.906780</td>\n",
       "      <td>1.783784</td>\n",
       "      <td>3.428571</td>\n",
       "    </tr>\n",
       "  </tbody>\n",
       "</table>\n",
       "</div>"
      ],
      "text/plain": [
       "            TeamName  totalGoalsScored  totalShotsOnTarget  totalGoalsAllowed  \\\n",
       "0             Fulham                61                 285                101   \n",
       "1     Crystal Palace               257                 838                314   \n",
       "2          Liverpool               467                1343                390   \n",
       "3           West Ham               323                 940                353   \n",
       "4          West Brom               143                 455                198   \n",
       "5          Tottenham               425                1249                362   \n",
       "6           Brighton               148                 511                197   \n",
       "7   Sheffield United                59                 214                 96   \n",
       "8            Everton               310                 968                352   \n",
       "9              Leeds                62                 199                 61   \n",
       "10        Man United               375                1187                328   \n",
       "11           Arsenal               400                1117                387   \n",
       "12       Southampton               280                1002                331   \n",
       "13         Newcastle               209                 717                283   \n",
       "14           Chelsea               396                1227                361   \n",
       "15         Leicester               358                1033                350   \n",
       "16       Aston Villa               123                 448                162   \n",
       "17            Wolves               134                 450                149   \n",
       "18           Burnley               196                 626                252   \n",
       "19          Man City               537                1430                405   \n",
       "20       Bournemouth               241                 746                318   \n",
       "21           Watford               212                 683                291   \n",
       "22           Norwich                65                 257                120   \n",
       "23      Huddersfield                50                 229                104   \n",
       "24           Cardiff                34                 126                 52   \n",
       "25             Stoke               117                 398                167   \n",
       "26           Swansea               115                 386                164   \n",
       "27              Hull                37                 127                 73   \n",
       "28     Middlesbrough                27                 100                 47   \n",
       "29        Sunderland                77                 264                116   \n",
       "\n",
       "    totalYellowCards  totalRedCards  totalFouls  totalCorners  totalShots  \\\n",
       "0                134              5         907           325         895   \n",
       "1                381              7        2579          1163        2595   \n",
       "2                274              7        2205          1511        3679   \n",
       "3                374             17        2260          1102        2751   \n",
       "4                266              8        1685           667        1499   \n",
       "5                374             10        2505          1335        3377   \n",
       "6                215             14        1688           716        1696   \n",
       "7                134              5         869           383         679   \n",
       "8                349             19        2523          1149        2715   \n",
       "9                 61              1         427           231         522   \n",
       "10               414              9        2691          1266        3122   \n",
       "11               368             21        2308          1330        3065   \n",
       "12               354             20        2552          1232        2921   \n",
       "13               293             15        2003           818        2083   \n",
       "14               328             13        2323          1377        3501   \n",
       "15               329             17        2406          1243        2913   \n",
       "16               206              7        1321           582        1348   \n",
       "17               182              3        1240           597        1395   \n",
       "18               320              3        1931           799        1900   \n",
       "19               340             13        2198          1653        3941   \n",
       "20               291              9        1775          1015        2212   \n",
       "21               372             19        2335           858        2162   \n",
       "22               128              6         780           350         824   \n",
       "23               116              7         816           327         760   \n",
       "24                65              1         384           168         417   \n",
       "25               183              7        1289           477        1226   \n",
       "26               169              2        1170           509        1168   \n",
       "27                67              5         403           179         396   \n",
       "28                76              1         478           141         349   \n",
       "29               138              6         833           320         826   \n",
       "\n",
       "    totalShotsAgainst       HSPG       ASPG  goalSaves  goalSavesPercent  \\\n",
       "0                1012  11.776316  13.315789        184          0.645614   \n",
       "1                3123  11.381579  13.697368        524          0.625298   \n",
       "2                1969  16.135965   8.635965        953          0.709605   \n",
       "3                3079  12.065789  13.504386        587          0.624468   \n",
       "4                2178   9.861842  14.328947        257          0.564835   \n",
       "5                2611  14.811404  11.451754        887          0.710168   \n",
       "6                1993  11.157895  13.111842        314          0.614481   \n",
       "7                 972   8.934211  12.789474        118          0.551402   \n",
       "8                2871  11.907895  12.592105        616          0.636364   \n",
       "9                 558  13.736842  14.684211        138          0.693467   \n",
       "10               2503  13.692982  10.978070        859          0.723673   \n",
       "11               2770  13.442982  12.149123        730          0.653536   \n",
       "12               2792  12.811404  12.245614        671          0.669661   \n",
       "13               2661  10.963158  14.005263        434          0.605300   \n",
       "14               2186  15.355263   9.587719        866          0.705786   \n",
       "15               2735  12.776316  11.995614        683          0.661181   \n",
       "16               1645  11.824561  14.429825        286          0.638393   \n",
       "17               1294  12.236842  11.350877        301          0.668889   \n",
       "18               2991  10.000000  15.742105        374          0.597444   \n",
       "19               1673  17.285088   7.337719       1025          0.716783   \n",
       "20               2616  11.642105  13.768421        428          0.573727   \n",
       "21               2440  11.378947  12.842105        392          0.573939   \n",
       "22               1095  10.842105  14.407895        137          0.533074   \n",
       "23                961  10.000000  12.644737        125          0.545852   \n",
       "24                571  10.973684  15.026316         74          0.587302   \n",
       "25               1649  10.754386  14.464912        231          0.580402   \n",
       "26               1579  10.245614  13.850877        222          0.575130   \n",
       "27                618  10.421053  16.263158         54          0.425197   \n",
       "28                548   9.184211  14.421053         53          0.530000   \n",
       "29               1244  10.868421  16.368421        148          0.560606   \n",
       "\n",
       "    scoringPercent  saveRatio  scoringRatio  \n",
       "0         0.931844   1.548913      4.672131  \n",
       "1         0.900963   1.599237      3.260700  \n",
       "2         0.873063   1.409234      2.875803  \n",
       "3         0.882588   1.601363      2.910217  \n",
       "4         0.904603   1.770428      3.181818  \n",
       "5         0.874149   1.408117      2.938824  \n",
       "6         0.912736   1.627389      3.452703  \n",
       "7         0.913108   1.813559      3.627119  \n",
       "8         0.885820   1.571429      3.122581  \n",
       "9         0.881226   1.442029      3.209677  \n",
       "10        0.879885   1.381839      3.165333  \n",
       "11        0.869494   1.530137      2.792500  \n",
       "12        0.904142   1.493294      3.578571  \n",
       "13        0.899664   1.652074      3.430622  \n",
       "14        0.886889   1.416859      3.098485  \n",
       "15        0.877103   1.512445      2.885475  \n",
       "16        0.908754   1.566434      3.642276  \n",
       "17        0.903943   1.495017      3.358209  \n",
       "18        0.896842   1.673797      3.193878  \n",
       "19        0.863740   1.395122      2.662942  \n",
       "20        0.891049   1.742991      3.095436  \n",
       "21        0.901943   1.742347      3.221698  \n",
       "22        0.921117   1.875912      3.953846  \n",
       "23        0.934211   1.832000      4.580000  \n",
       "24        0.918465   1.702703      3.705882  \n",
       "25        0.904568   1.722944      3.401709  \n",
       "26        0.901541   1.738739      3.356522  \n",
       "27        0.906566   2.351852      3.432432  \n",
       "28        0.922636   1.886792      3.703704  \n",
       "29        0.906780   1.783784      3.428571  "
      ]
     },
     "execution_count": 81,
     "metadata": {},
     "output_type": "execute_result"
    }
   ],
   "source": [
    "teamStats"
   ]
  },
  {
   "cell_type": "markdown",
   "metadata": {},
   "source": [
    "## Ploting The Total Team Goals Scored"
   ]
  },
  {
   "cell_type": "code",
   "execution_count": 82,
   "metadata": {},
   "outputs": [
    {
     "data": {
      "application/vnd.plotly.v1+json": {
       "config": {
        "plotlyServerURL": "https://plot.ly"
       },
       "data": [
        {
         "alignmentgroup": "True",
         "hovertemplate": "TeamName=%{x}<br>totalGoalsScored=%{y}<extra></extra>",
         "legendgroup": "Fulham",
         "marker": {
          "color": "#636efa",
          "pattern": {
           "shape": ""
          }
         },
         "name": "Fulham",
         "offsetgroup": "Fulham",
         "orientation": "v",
         "showlegend": true,
         "textposition": "auto",
         "type": "bar",
         "x": [
          "Fulham"
         ],
         "xaxis": "x",
         "y": [
          61
         ],
         "yaxis": "y"
        },
        {
         "alignmentgroup": "True",
         "hovertemplate": "TeamName=%{x}<br>totalGoalsScored=%{y}<extra></extra>",
         "legendgroup": "Crystal Palace",
         "marker": {
          "color": "#EF553B",
          "pattern": {
           "shape": ""
          }
         },
         "name": "Crystal Palace",
         "offsetgroup": "Crystal Palace",
         "orientation": "v",
         "showlegend": true,
         "textposition": "auto",
         "type": "bar",
         "x": [
          "Crystal Palace"
         ],
         "xaxis": "x",
         "y": [
          257
         ],
         "yaxis": "y"
        },
        {
         "alignmentgroup": "True",
         "hovertemplate": "TeamName=%{x}<br>totalGoalsScored=%{y}<extra></extra>",
         "legendgroup": "Liverpool",
         "marker": {
          "color": "#00cc96",
          "pattern": {
           "shape": ""
          }
         },
         "name": "Liverpool",
         "offsetgroup": "Liverpool",
         "orientation": "v",
         "showlegend": true,
         "textposition": "auto",
         "type": "bar",
         "x": [
          "Liverpool"
         ],
         "xaxis": "x",
         "y": [
          467
         ],
         "yaxis": "y"
        },
        {
         "alignmentgroup": "True",
         "hovertemplate": "TeamName=%{x}<br>totalGoalsScored=%{y}<extra></extra>",
         "legendgroup": "West Ham",
         "marker": {
          "color": "#ab63fa",
          "pattern": {
           "shape": ""
          }
         },
         "name": "West Ham",
         "offsetgroup": "West Ham",
         "orientation": "v",
         "showlegend": true,
         "textposition": "auto",
         "type": "bar",
         "x": [
          "West Ham"
         ],
         "xaxis": "x",
         "y": [
          323
         ],
         "yaxis": "y"
        },
        {
         "alignmentgroup": "True",
         "hovertemplate": "TeamName=%{x}<br>totalGoalsScored=%{y}<extra></extra>",
         "legendgroup": "West Brom",
         "marker": {
          "color": "#FFA15A",
          "pattern": {
           "shape": ""
          }
         },
         "name": "West Brom",
         "offsetgroup": "West Brom",
         "orientation": "v",
         "showlegend": true,
         "textposition": "auto",
         "type": "bar",
         "x": [
          "West Brom"
         ],
         "xaxis": "x",
         "y": [
          143
         ],
         "yaxis": "y"
        },
        {
         "alignmentgroup": "True",
         "hovertemplate": "TeamName=%{x}<br>totalGoalsScored=%{y}<extra></extra>",
         "legendgroup": "Tottenham",
         "marker": {
          "color": "#19d3f3",
          "pattern": {
           "shape": ""
          }
         },
         "name": "Tottenham",
         "offsetgroup": "Tottenham",
         "orientation": "v",
         "showlegend": true,
         "textposition": "auto",
         "type": "bar",
         "x": [
          "Tottenham"
         ],
         "xaxis": "x",
         "y": [
          425
         ],
         "yaxis": "y"
        },
        {
         "alignmentgroup": "True",
         "hovertemplate": "TeamName=%{x}<br>totalGoalsScored=%{y}<extra></extra>",
         "legendgroup": "Brighton",
         "marker": {
          "color": "#FF6692",
          "pattern": {
           "shape": ""
          }
         },
         "name": "Brighton",
         "offsetgroup": "Brighton",
         "orientation": "v",
         "showlegend": true,
         "textposition": "auto",
         "type": "bar",
         "x": [
          "Brighton"
         ],
         "xaxis": "x",
         "y": [
          148
         ],
         "yaxis": "y"
        },
        {
         "alignmentgroup": "True",
         "hovertemplate": "TeamName=%{x}<br>totalGoalsScored=%{y}<extra></extra>",
         "legendgroup": "Sheffield United",
         "marker": {
          "color": "#B6E880",
          "pattern": {
           "shape": ""
          }
         },
         "name": "Sheffield United",
         "offsetgroup": "Sheffield United",
         "orientation": "v",
         "showlegend": true,
         "textposition": "auto",
         "type": "bar",
         "x": [
          "Sheffield United"
         ],
         "xaxis": "x",
         "y": [
          59
         ],
         "yaxis": "y"
        },
        {
         "alignmentgroup": "True",
         "hovertemplate": "TeamName=%{x}<br>totalGoalsScored=%{y}<extra></extra>",
         "legendgroup": "Everton",
         "marker": {
          "color": "#FF97FF",
          "pattern": {
           "shape": ""
          }
         },
         "name": "Everton",
         "offsetgroup": "Everton",
         "orientation": "v",
         "showlegend": true,
         "textposition": "auto",
         "type": "bar",
         "x": [
          "Everton"
         ],
         "xaxis": "x",
         "y": [
          310
         ],
         "yaxis": "y"
        },
        {
         "alignmentgroup": "True",
         "hovertemplate": "TeamName=%{x}<br>totalGoalsScored=%{y}<extra></extra>",
         "legendgroup": "Leeds",
         "marker": {
          "color": "#FECB52",
          "pattern": {
           "shape": ""
          }
         },
         "name": "Leeds",
         "offsetgroup": "Leeds",
         "orientation": "v",
         "showlegend": true,
         "textposition": "auto",
         "type": "bar",
         "x": [
          "Leeds"
         ],
         "xaxis": "x",
         "y": [
          62
         ],
         "yaxis": "y"
        },
        {
         "alignmentgroup": "True",
         "hovertemplate": "TeamName=%{x}<br>totalGoalsScored=%{y}<extra></extra>",
         "legendgroup": "Man United",
         "marker": {
          "color": "#636efa",
          "pattern": {
           "shape": ""
          }
         },
         "name": "Man United",
         "offsetgroup": "Man United",
         "orientation": "v",
         "showlegend": true,
         "textposition": "auto",
         "type": "bar",
         "x": [
          "Man United"
         ],
         "xaxis": "x",
         "y": [
          375
         ],
         "yaxis": "y"
        },
        {
         "alignmentgroup": "True",
         "hovertemplate": "TeamName=%{x}<br>totalGoalsScored=%{y}<extra></extra>",
         "legendgroup": "Arsenal",
         "marker": {
          "color": "#EF553B",
          "pattern": {
           "shape": ""
          }
         },
         "name": "Arsenal",
         "offsetgroup": "Arsenal",
         "orientation": "v",
         "showlegend": true,
         "textposition": "auto",
         "type": "bar",
         "x": [
          "Arsenal"
         ],
         "xaxis": "x",
         "y": [
          400
         ],
         "yaxis": "y"
        },
        {
         "alignmentgroup": "True",
         "hovertemplate": "TeamName=%{x}<br>totalGoalsScored=%{y}<extra></extra>",
         "legendgroup": "Southampton",
         "marker": {
          "color": "#00cc96",
          "pattern": {
           "shape": ""
          }
         },
         "name": "Southampton",
         "offsetgroup": "Southampton",
         "orientation": "v",
         "showlegend": true,
         "textposition": "auto",
         "type": "bar",
         "x": [
          "Southampton"
         ],
         "xaxis": "x",
         "y": [
          280
         ],
         "yaxis": "y"
        },
        {
         "alignmentgroup": "True",
         "hovertemplate": "TeamName=%{x}<br>totalGoalsScored=%{y}<extra></extra>",
         "legendgroup": "Newcastle",
         "marker": {
          "color": "#ab63fa",
          "pattern": {
           "shape": ""
          }
         },
         "name": "Newcastle",
         "offsetgroup": "Newcastle",
         "orientation": "v",
         "showlegend": true,
         "textposition": "auto",
         "type": "bar",
         "x": [
          "Newcastle"
         ],
         "xaxis": "x",
         "y": [
          209
         ],
         "yaxis": "y"
        },
        {
         "alignmentgroup": "True",
         "hovertemplate": "TeamName=%{x}<br>totalGoalsScored=%{y}<extra></extra>",
         "legendgroup": "Chelsea",
         "marker": {
          "color": "#FFA15A",
          "pattern": {
           "shape": ""
          }
         },
         "name": "Chelsea",
         "offsetgroup": "Chelsea",
         "orientation": "v",
         "showlegend": true,
         "textposition": "auto",
         "type": "bar",
         "x": [
          "Chelsea"
         ],
         "xaxis": "x",
         "y": [
          396
         ],
         "yaxis": "y"
        },
        {
         "alignmentgroup": "True",
         "hovertemplate": "TeamName=%{x}<br>totalGoalsScored=%{y}<extra></extra>",
         "legendgroup": "Leicester",
         "marker": {
          "color": "#19d3f3",
          "pattern": {
           "shape": ""
          }
         },
         "name": "Leicester",
         "offsetgroup": "Leicester",
         "orientation": "v",
         "showlegend": true,
         "textposition": "auto",
         "type": "bar",
         "x": [
          "Leicester"
         ],
         "xaxis": "x",
         "y": [
          358
         ],
         "yaxis": "y"
        },
        {
         "alignmentgroup": "True",
         "hovertemplate": "TeamName=%{x}<br>totalGoalsScored=%{y}<extra></extra>",
         "legendgroup": "Aston Villa",
         "marker": {
          "color": "#FF6692",
          "pattern": {
           "shape": ""
          }
         },
         "name": "Aston Villa",
         "offsetgroup": "Aston Villa",
         "orientation": "v",
         "showlegend": true,
         "textposition": "auto",
         "type": "bar",
         "x": [
          "Aston Villa"
         ],
         "xaxis": "x",
         "y": [
          123
         ],
         "yaxis": "y"
        },
        {
         "alignmentgroup": "True",
         "hovertemplate": "TeamName=%{x}<br>totalGoalsScored=%{y}<extra></extra>",
         "legendgroup": "Wolves",
         "marker": {
          "color": "#B6E880",
          "pattern": {
           "shape": ""
          }
         },
         "name": "Wolves",
         "offsetgroup": "Wolves",
         "orientation": "v",
         "showlegend": true,
         "textposition": "auto",
         "type": "bar",
         "x": [
          "Wolves"
         ],
         "xaxis": "x",
         "y": [
          134
         ],
         "yaxis": "y"
        },
        {
         "alignmentgroup": "True",
         "hovertemplate": "TeamName=%{x}<br>totalGoalsScored=%{y}<extra></extra>",
         "legendgroup": "Burnley",
         "marker": {
          "color": "#FF97FF",
          "pattern": {
           "shape": ""
          }
         },
         "name": "Burnley",
         "offsetgroup": "Burnley",
         "orientation": "v",
         "showlegend": true,
         "textposition": "auto",
         "type": "bar",
         "x": [
          "Burnley"
         ],
         "xaxis": "x",
         "y": [
          196
         ],
         "yaxis": "y"
        },
        {
         "alignmentgroup": "True",
         "hovertemplate": "TeamName=%{x}<br>totalGoalsScored=%{y}<extra></extra>",
         "legendgroup": "Man City",
         "marker": {
          "color": "#FECB52",
          "pattern": {
           "shape": ""
          }
         },
         "name": "Man City",
         "offsetgroup": "Man City",
         "orientation": "v",
         "showlegend": true,
         "textposition": "auto",
         "type": "bar",
         "x": [
          "Man City"
         ],
         "xaxis": "x",
         "y": [
          537
         ],
         "yaxis": "y"
        },
        {
         "alignmentgroup": "True",
         "hovertemplate": "TeamName=%{x}<br>totalGoalsScored=%{y}<extra></extra>",
         "legendgroup": "Bournemouth",
         "marker": {
          "color": "#636efa",
          "pattern": {
           "shape": ""
          }
         },
         "name": "Bournemouth",
         "offsetgroup": "Bournemouth",
         "orientation": "v",
         "showlegend": true,
         "textposition": "auto",
         "type": "bar",
         "x": [
          "Bournemouth"
         ],
         "xaxis": "x",
         "y": [
          241
         ],
         "yaxis": "y"
        },
        {
         "alignmentgroup": "True",
         "hovertemplate": "TeamName=%{x}<br>totalGoalsScored=%{y}<extra></extra>",
         "legendgroup": "Watford",
         "marker": {
          "color": "#EF553B",
          "pattern": {
           "shape": ""
          }
         },
         "name": "Watford",
         "offsetgroup": "Watford",
         "orientation": "v",
         "showlegend": true,
         "textposition": "auto",
         "type": "bar",
         "x": [
          "Watford"
         ],
         "xaxis": "x",
         "y": [
          212
         ],
         "yaxis": "y"
        },
        {
         "alignmentgroup": "True",
         "hovertemplate": "TeamName=%{x}<br>totalGoalsScored=%{y}<extra></extra>",
         "legendgroup": "Norwich",
         "marker": {
          "color": "#00cc96",
          "pattern": {
           "shape": ""
          }
         },
         "name": "Norwich",
         "offsetgroup": "Norwich",
         "orientation": "v",
         "showlegend": true,
         "textposition": "auto",
         "type": "bar",
         "x": [
          "Norwich"
         ],
         "xaxis": "x",
         "y": [
          65
         ],
         "yaxis": "y"
        },
        {
         "alignmentgroup": "True",
         "hovertemplate": "TeamName=%{x}<br>totalGoalsScored=%{y}<extra></extra>",
         "legendgroup": "Huddersfield",
         "marker": {
          "color": "#ab63fa",
          "pattern": {
           "shape": ""
          }
         },
         "name": "Huddersfield",
         "offsetgroup": "Huddersfield",
         "orientation": "v",
         "showlegend": true,
         "textposition": "auto",
         "type": "bar",
         "x": [
          "Huddersfield"
         ],
         "xaxis": "x",
         "y": [
          50
         ],
         "yaxis": "y"
        },
        {
         "alignmentgroup": "True",
         "hovertemplate": "TeamName=%{x}<br>totalGoalsScored=%{y}<extra></extra>",
         "legendgroup": "Cardiff",
         "marker": {
          "color": "#FFA15A",
          "pattern": {
           "shape": ""
          }
         },
         "name": "Cardiff",
         "offsetgroup": "Cardiff",
         "orientation": "v",
         "showlegend": true,
         "textposition": "auto",
         "type": "bar",
         "x": [
          "Cardiff"
         ],
         "xaxis": "x",
         "y": [
          34
         ],
         "yaxis": "y"
        },
        {
         "alignmentgroup": "True",
         "hovertemplate": "TeamName=%{x}<br>totalGoalsScored=%{y}<extra></extra>",
         "legendgroup": "Stoke",
         "marker": {
          "color": "#19d3f3",
          "pattern": {
           "shape": ""
          }
         },
         "name": "Stoke",
         "offsetgroup": "Stoke",
         "orientation": "v",
         "showlegend": true,
         "textposition": "auto",
         "type": "bar",
         "x": [
          "Stoke"
         ],
         "xaxis": "x",
         "y": [
          117
         ],
         "yaxis": "y"
        },
        {
         "alignmentgroup": "True",
         "hovertemplate": "TeamName=%{x}<br>totalGoalsScored=%{y}<extra></extra>",
         "legendgroup": "Swansea",
         "marker": {
          "color": "#FF6692",
          "pattern": {
           "shape": ""
          }
         },
         "name": "Swansea",
         "offsetgroup": "Swansea",
         "orientation": "v",
         "showlegend": true,
         "textposition": "auto",
         "type": "bar",
         "x": [
          "Swansea"
         ],
         "xaxis": "x",
         "y": [
          115
         ],
         "yaxis": "y"
        },
        {
         "alignmentgroup": "True",
         "hovertemplate": "TeamName=%{x}<br>totalGoalsScored=%{y}<extra></extra>",
         "legendgroup": "Hull",
         "marker": {
          "color": "#B6E880",
          "pattern": {
           "shape": ""
          }
         },
         "name": "Hull",
         "offsetgroup": "Hull",
         "orientation": "v",
         "showlegend": true,
         "textposition": "auto",
         "type": "bar",
         "x": [
          "Hull"
         ],
         "xaxis": "x",
         "y": [
          37
         ],
         "yaxis": "y"
        },
        {
         "alignmentgroup": "True",
         "hovertemplate": "TeamName=%{x}<br>totalGoalsScored=%{y}<extra></extra>",
         "legendgroup": "Middlesbrough",
         "marker": {
          "color": "#FF97FF",
          "pattern": {
           "shape": ""
          }
         },
         "name": "Middlesbrough",
         "offsetgroup": "Middlesbrough",
         "orientation": "v",
         "showlegend": true,
         "textposition": "auto",
         "type": "bar",
         "x": [
          "Middlesbrough"
         ],
         "xaxis": "x",
         "y": [
          27
         ],
         "yaxis": "y"
        },
        {
         "alignmentgroup": "True",
         "hovertemplate": "TeamName=%{x}<br>totalGoalsScored=%{y}<extra></extra>",
         "legendgroup": "Sunderland",
         "marker": {
          "color": "#FECB52",
          "pattern": {
           "shape": ""
          }
         },
         "name": "Sunderland",
         "offsetgroup": "Sunderland",
         "orientation": "v",
         "showlegend": true,
         "textposition": "auto",
         "type": "bar",
         "x": [
          "Sunderland"
         ],
         "xaxis": "x",
         "y": [
          77
         ],
         "yaxis": "y"
        }
       ],
       "layout": {
        "barmode": "relative",
        "legend": {
         "title": {
          "text": "TeamName"
         },
         "tracegroupgap": 0
        },
        "margin": {
         "t": 60
        },
        "template": {
         "data": {
          "bar": [
           {
            "error_x": {
             "color": "#2a3f5f"
            },
            "error_y": {
             "color": "#2a3f5f"
            },
            "marker": {
             "line": {
              "color": "#E5ECF6",
              "width": 0.5
             },
             "pattern": {
              "fillmode": "overlay",
              "size": 10,
              "solidity": 0.2
             }
            },
            "type": "bar"
           }
          ],
          "barpolar": [
           {
            "marker": {
             "line": {
              "color": "#E5ECF6",
              "width": 0.5
             },
             "pattern": {
              "fillmode": "overlay",
              "size": 10,
              "solidity": 0.2
             }
            },
            "type": "barpolar"
           }
          ],
          "carpet": [
           {
            "aaxis": {
             "endlinecolor": "#2a3f5f",
             "gridcolor": "white",
             "linecolor": "white",
             "minorgridcolor": "white",
             "startlinecolor": "#2a3f5f"
            },
            "baxis": {
             "endlinecolor": "#2a3f5f",
             "gridcolor": "white",
             "linecolor": "white",
             "minorgridcolor": "white",
             "startlinecolor": "#2a3f5f"
            },
            "type": "carpet"
           }
          ],
          "choropleth": [
           {
            "colorbar": {
             "outlinewidth": 0,
             "ticks": ""
            },
            "type": "choropleth"
           }
          ],
          "contour": [
           {
            "colorbar": {
             "outlinewidth": 0,
             "ticks": ""
            },
            "colorscale": [
             [
              0,
              "#0d0887"
             ],
             [
              0.1111111111111111,
              "#46039f"
             ],
             [
              0.2222222222222222,
              "#7201a8"
             ],
             [
              0.3333333333333333,
              "#9c179e"
             ],
             [
              0.4444444444444444,
              "#bd3786"
             ],
             [
              0.5555555555555556,
              "#d8576b"
             ],
             [
              0.6666666666666666,
              "#ed7953"
             ],
             [
              0.7777777777777778,
              "#fb9f3a"
             ],
             [
              0.8888888888888888,
              "#fdca26"
             ],
             [
              1,
              "#f0f921"
             ]
            ],
            "type": "contour"
           }
          ],
          "contourcarpet": [
           {
            "colorbar": {
             "outlinewidth": 0,
             "ticks": ""
            },
            "type": "contourcarpet"
           }
          ],
          "heatmap": [
           {
            "colorbar": {
             "outlinewidth": 0,
             "ticks": ""
            },
            "colorscale": [
             [
              0,
              "#0d0887"
             ],
             [
              0.1111111111111111,
              "#46039f"
             ],
             [
              0.2222222222222222,
              "#7201a8"
             ],
             [
              0.3333333333333333,
              "#9c179e"
             ],
             [
              0.4444444444444444,
              "#bd3786"
             ],
             [
              0.5555555555555556,
              "#d8576b"
             ],
             [
              0.6666666666666666,
              "#ed7953"
             ],
             [
              0.7777777777777778,
              "#fb9f3a"
             ],
             [
              0.8888888888888888,
              "#fdca26"
             ],
             [
              1,
              "#f0f921"
             ]
            ],
            "type": "heatmap"
           }
          ],
          "heatmapgl": [
           {
            "colorbar": {
             "outlinewidth": 0,
             "ticks": ""
            },
            "colorscale": [
             [
              0,
              "#0d0887"
             ],
             [
              0.1111111111111111,
              "#46039f"
             ],
             [
              0.2222222222222222,
              "#7201a8"
             ],
             [
              0.3333333333333333,
              "#9c179e"
             ],
             [
              0.4444444444444444,
              "#bd3786"
             ],
             [
              0.5555555555555556,
              "#d8576b"
             ],
             [
              0.6666666666666666,
              "#ed7953"
             ],
             [
              0.7777777777777778,
              "#fb9f3a"
             ],
             [
              0.8888888888888888,
              "#fdca26"
             ],
             [
              1,
              "#f0f921"
             ]
            ],
            "type": "heatmapgl"
           }
          ],
          "histogram": [
           {
            "marker": {
             "pattern": {
              "fillmode": "overlay",
              "size": 10,
              "solidity": 0.2
             }
            },
            "type": "histogram"
           }
          ],
          "histogram2d": [
           {
            "colorbar": {
             "outlinewidth": 0,
             "ticks": ""
            },
            "colorscale": [
             [
              0,
              "#0d0887"
             ],
             [
              0.1111111111111111,
              "#46039f"
             ],
             [
              0.2222222222222222,
              "#7201a8"
             ],
             [
              0.3333333333333333,
              "#9c179e"
             ],
             [
              0.4444444444444444,
              "#bd3786"
             ],
             [
              0.5555555555555556,
              "#d8576b"
             ],
             [
              0.6666666666666666,
              "#ed7953"
             ],
             [
              0.7777777777777778,
              "#fb9f3a"
             ],
             [
              0.8888888888888888,
              "#fdca26"
             ],
             [
              1,
              "#f0f921"
             ]
            ],
            "type": "histogram2d"
           }
          ],
          "histogram2dcontour": [
           {
            "colorbar": {
             "outlinewidth": 0,
             "ticks": ""
            },
            "colorscale": [
             [
              0,
              "#0d0887"
             ],
             [
              0.1111111111111111,
              "#46039f"
             ],
             [
              0.2222222222222222,
              "#7201a8"
             ],
             [
              0.3333333333333333,
              "#9c179e"
             ],
             [
              0.4444444444444444,
              "#bd3786"
             ],
             [
              0.5555555555555556,
              "#d8576b"
             ],
             [
              0.6666666666666666,
              "#ed7953"
             ],
             [
              0.7777777777777778,
              "#fb9f3a"
             ],
             [
              0.8888888888888888,
              "#fdca26"
             ],
             [
              1,
              "#f0f921"
             ]
            ],
            "type": "histogram2dcontour"
           }
          ],
          "mesh3d": [
           {
            "colorbar": {
             "outlinewidth": 0,
             "ticks": ""
            },
            "type": "mesh3d"
           }
          ],
          "parcoords": [
           {
            "line": {
             "colorbar": {
              "outlinewidth": 0,
              "ticks": ""
             }
            },
            "type": "parcoords"
           }
          ],
          "pie": [
           {
            "automargin": true,
            "type": "pie"
           }
          ],
          "scatter": [
           {
            "fillpattern": {
             "fillmode": "overlay",
             "size": 10,
             "solidity": 0.2
            },
            "type": "scatter"
           }
          ],
          "scatter3d": [
           {
            "line": {
             "colorbar": {
              "outlinewidth": 0,
              "ticks": ""
             }
            },
            "marker": {
             "colorbar": {
              "outlinewidth": 0,
              "ticks": ""
             }
            },
            "type": "scatter3d"
           }
          ],
          "scattercarpet": [
           {
            "marker": {
             "colorbar": {
              "outlinewidth": 0,
              "ticks": ""
             }
            },
            "type": "scattercarpet"
           }
          ],
          "scattergeo": [
           {
            "marker": {
             "colorbar": {
              "outlinewidth": 0,
              "ticks": ""
             }
            },
            "type": "scattergeo"
           }
          ],
          "scattergl": [
           {
            "marker": {
             "colorbar": {
              "outlinewidth": 0,
              "ticks": ""
             }
            },
            "type": "scattergl"
           }
          ],
          "scattermapbox": [
           {
            "marker": {
             "colorbar": {
              "outlinewidth": 0,
              "ticks": ""
             }
            },
            "type": "scattermapbox"
           }
          ],
          "scatterpolar": [
           {
            "marker": {
             "colorbar": {
              "outlinewidth": 0,
              "ticks": ""
             }
            },
            "type": "scatterpolar"
           }
          ],
          "scatterpolargl": [
           {
            "marker": {
             "colorbar": {
              "outlinewidth": 0,
              "ticks": ""
             }
            },
            "type": "scatterpolargl"
           }
          ],
          "scatterternary": [
           {
            "marker": {
             "colorbar": {
              "outlinewidth": 0,
              "ticks": ""
             }
            },
            "type": "scatterternary"
           }
          ],
          "surface": [
           {
            "colorbar": {
             "outlinewidth": 0,
             "ticks": ""
            },
            "colorscale": [
             [
              0,
              "#0d0887"
             ],
             [
              0.1111111111111111,
              "#46039f"
             ],
             [
              0.2222222222222222,
              "#7201a8"
             ],
             [
              0.3333333333333333,
              "#9c179e"
             ],
             [
              0.4444444444444444,
              "#bd3786"
             ],
             [
              0.5555555555555556,
              "#d8576b"
             ],
             [
              0.6666666666666666,
              "#ed7953"
             ],
             [
              0.7777777777777778,
              "#fb9f3a"
             ],
             [
              0.8888888888888888,
              "#fdca26"
             ],
             [
              1,
              "#f0f921"
             ]
            ],
            "type": "surface"
           }
          ],
          "table": [
           {
            "cells": {
             "fill": {
              "color": "#EBF0F8"
             },
             "line": {
              "color": "white"
             }
            },
            "header": {
             "fill": {
              "color": "#C8D4E3"
             },
             "line": {
              "color": "white"
             }
            },
            "type": "table"
           }
          ]
         },
         "layout": {
          "annotationdefaults": {
           "arrowcolor": "#2a3f5f",
           "arrowhead": 0,
           "arrowwidth": 1
          },
          "autotypenumbers": "strict",
          "coloraxis": {
           "colorbar": {
            "outlinewidth": 0,
            "ticks": ""
           }
          },
          "colorscale": {
           "diverging": [
            [
             0,
             "#8e0152"
            ],
            [
             0.1,
             "#c51b7d"
            ],
            [
             0.2,
             "#de77ae"
            ],
            [
             0.3,
             "#f1b6da"
            ],
            [
             0.4,
             "#fde0ef"
            ],
            [
             0.5,
             "#f7f7f7"
            ],
            [
             0.6,
             "#e6f5d0"
            ],
            [
             0.7,
             "#b8e186"
            ],
            [
             0.8,
             "#7fbc41"
            ],
            [
             0.9,
             "#4d9221"
            ],
            [
             1,
             "#276419"
            ]
           ],
           "sequential": [
            [
             0,
             "#0d0887"
            ],
            [
             0.1111111111111111,
             "#46039f"
            ],
            [
             0.2222222222222222,
             "#7201a8"
            ],
            [
             0.3333333333333333,
             "#9c179e"
            ],
            [
             0.4444444444444444,
             "#bd3786"
            ],
            [
             0.5555555555555556,
             "#d8576b"
            ],
            [
             0.6666666666666666,
             "#ed7953"
            ],
            [
             0.7777777777777778,
             "#fb9f3a"
            ],
            [
             0.8888888888888888,
             "#fdca26"
            ],
            [
             1,
             "#f0f921"
            ]
           ],
           "sequentialminus": [
            [
             0,
             "#0d0887"
            ],
            [
             0.1111111111111111,
             "#46039f"
            ],
            [
             0.2222222222222222,
             "#7201a8"
            ],
            [
             0.3333333333333333,
             "#9c179e"
            ],
            [
             0.4444444444444444,
             "#bd3786"
            ],
            [
             0.5555555555555556,
             "#d8576b"
            ],
            [
             0.6666666666666666,
             "#ed7953"
            ],
            [
             0.7777777777777778,
             "#fb9f3a"
            ],
            [
             0.8888888888888888,
             "#fdca26"
            ],
            [
             1,
             "#f0f921"
            ]
           ]
          },
          "colorway": [
           "#636efa",
           "#EF553B",
           "#00cc96",
           "#ab63fa",
           "#FFA15A",
           "#19d3f3",
           "#FF6692",
           "#B6E880",
           "#FF97FF",
           "#FECB52"
          ],
          "font": {
           "color": "#2a3f5f"
          },
          "geo": {
           "bgcolor": "white",
           "lakecolor": "white",
           "landcolor": "#E5ECF6",
           "showlakes": true,
           "showland": true,
           "subunitcolor": "white"
          },
          "hoverlabel": {
           "align": "left"
          },
          "hovermode": "closest",
          "mapbox": {
           "style": "light"
          },
          "paper_bgcolor": "white",
          "plot_bgcolor": "#E5ECF6",
          "polar": {
           "angularaxis": {
            "gridcolor": "white",
            "linecolor": "white",
            "ticks": ""
           },
           "bgcolor": "#E5ECF6",
           "radialaxis": {
            "gridcolor": "white",
            "linecolor": "white",
            "ticks": ""
           }
          },
          "scene": {
           "xaxis": {
            "backgroundcolor": "#E5ECF6",
            "gridcolor": "white",
            "gridwidth": 2,
            "linecolor": "white",
            "showbackground": true,
            "ticks": "",
            "zerolinecolor": "white"
           },
           "yaxis": {
            "backgroundcolor": "#E5ECF6",
            "gridcolor": "white",
            "gridwidth": 2,
            "linecolor": "white",
            "showbackground": true,
            "ticks": "",
            "zerolinecolor": "white"
           },
           "zaxis": {
            "backgroundcolor": "#E5ECF6",
            "gridcolor": "white",
            "gridwidth": 2,
            "linecolor": "white",
            "showbackground": true,
            "ticks": "",
            "zerolinecolor": "white"
           }
          },
          "shapedefaults": {
           "line": {
            "color": "#2a3f5f"
           }
          },
          "ternary": {
           "aaxis": {
            "gridcolor": "white",
            "linecolor": "white",
            "ticks": ""
           },
           "baxis": {
            "gridcolor": "white",
            "linecolor": "white",
            "ticks": ""
           },
           "bgcolor": "#E5ECF6",
           "caxis": {
            "gridcolor": "white",
            "linecolor": "white",
            "ticks": ""
           }
          },
          "title": {
           "x": 0.05
          },
          "xaxis": {
           "automargin": true,
           "gridcolor": "white",
           "linecolor": "white",
           "ticks": "",
           "title": {
            "standoff": 15
           },
           "zerolinecolor": "white",
           "zerolinewidth": 2
          },
          "yaxis": {
           "automargin": true,
           "gridcolor": "white",
           "linecolor": "white",
           "ticks": "",
           "title": {
            "standoff": 15
           },
           "zerolinecolor": "white",
           "zerolinewidth": 2
          }
         }
        },
        "xaxis": {
         "anchor": "y",
         "categoryarray": [
          "Fulham",
          "Crystal Palace",
          "Liverpool",
          "West Ham",
          "West Brom",
          "Tottenham",
          "Brighton",
          "Sheffield United",
          "Everton",
          "Leeds",
          "Man United",
          "Arsenal",
          "Southampton",
          "Newcastle",
          "Chelsea",
          "Leicester",
          "Aston Villa",
          "Wolves",
          "Burnley",
          "Man City",
          "Bournemouth",
          "Watford",
          "Norwich",
          "Huddersfield",
          "Cardiff",
          "Stoke",
          "Swansea",
          "Hull",
          "Middlesbrough",
          "Sunderland"
         ],
         "categoryorder": "array",
         "domain": [
          0,
          1
         ],
         "title": {
          "text": "TeamName"
         }
        },
        "yaxis": {
         "anchor": "x",
         "domain": [
          0,
          1
         ],
         "title": {
          "text": "totalGoalsScored"
         }
        }
       }
      }
     },
     "metadata": {},
     "output_type": "display_data"
    }
   ],
   "source": [
    "figure = px.bar(teamStats,x=teamStats.TeamName,y=teamStats.totalGoalsScored,color='TeamName')\n",
    "figure.show()"
   ]
  },
  {
   "cell_type": "markdown",
   "metadata": {},
   "source": [
    "## Ploting The Total Team SOT"
   ]
  },
  {
   "cell_type": "code",
   "execution_count": 83,
   "metadata": {},
   "outputs": [
    {
     "data": {
      "application/vnd.plotly.v1+json": {
       "config": {
        "plotlyServerURL": "https://plot.ly"
       },
       "data": [
        {
         "alignmentgroup": "True",
         "hovertemplate": "TeamName=%{x}<br>totalShotsOnTarget=%{y}<extra></extra>",
         "legendgroup": "Fulham",
         "marker": {
          "color": "#636efa",
          "pattern": {
           "shape": ""
          }
         },
         "name": "Fulham",
         "offsetgroup": "Fulham",
         "orientation": "v",
         "showlegend": true,
         "textposition": "auto",
         "type": "bar",
         "x": [
          "Fulham"
         ],
         "xaxis": "x",
         "y": [
          285
         ],
         "yaxis": "y"
        },
        {
         "alignmentgroup": "True",
         "hovertemplate": "TeamName=%{x}<br>totalShotsOnTarget=%{y}<extra></extra>",
         "legendgroup": "Crystal Palace",
         "marker": {
          "color": "#EF553B",
          "pattern": {
           "shape": ""
          }
         },
         "name": "Crystal Palace",
         "offsetgroup": "Crystal Palace",
         "orientation": "v",
         "showlegend": true,
         "textposition": "auto",
         "type": "bar",
         "x": [
          "Crystal Palace"
         ],
         "xaxis": "x",
         "y": [
          838
         ],
         "yaxis": "y"
        },
        {
         "alignmentgroup": "True",
         "hovertemplate": "TeamName=%{x}<br>totalShotsOnTarget=%{y}<extra></extra>",
         "legendgroup": "Liverpool",
         "marker": {
          "color": "#00cc96",
          "pattern": {
           "shape": ""
          }
         },
         "name": "Liverpool",
         "offsetgroup": "Liverpool",
         "orientation": "v",
         "showlegend": true,
         "textposition": "auto",
         "type": "bar",
         "x": [
          "Liverpool"
         ],
         "xaxis": "x",
         "y": [
          1343
         ],
         "yaxis": "y"
        },
        {
         "alignmentgroup": "True",
         "hovertemplate": "TeamName=%{x}<br>totalShotsOnTarget=%{y}<extra></extra>",
         "legendgroup": "West Ham",
         "marker": {
          "color": "#ab63fa",
          "pattern": {
           "shape": ""
          }
         },
         "name": "West Ham",
         "offsetgroup": "West Ham",
         "orientation": "v",
         "showlegend": true,
         "textposition": "auto",
         "type": "bar",
         "x": [
          "West Ham"
         ],
         "xaxis": "x",
         "y": [
          940
         ],
         "yaxis": "y"
        },
        {
         "alignmentgroup": "True",
         "hovertemplate": "TeamName=%{x}<br>totalShotsOnTarget=%{y}<extra></extra>",
         "legendgroup": "West Brom",
         "marker": {
          "color": "#FFA15A",
          "pattern": {
           "shape": ""
          }
         },
         "name": "West Brom",
         "offsetgroup": "West Brom",
         "orientation": "v",
         "showlegend": true,
         "textposition": "auto",
         "type": "bar",
         "x": [
          "West Brom"
         ],
         "xaxis": "x",
         "y": [
          455
         ],
         "yaxis": "y"
        },
        {
         "alignmentgroup": "True",
         "hovertemplate": "TeamName=%{x}<br>totalShotsOnTarget=%{y}<extra></extra>",
         "legendgroup": "Tottenham",
         "marker": {
          "color": "#19d3f3",
          "pattern": {
           "shape": ""
          }
         },
         "name": "Tottenham",
         "offsetgroup": "Tottenham",
         "orientation": "v",
         "showlegend": true,
         "textposition": "auto",
         "type": "bar",
         "x": [
          "Tottenham"
         ],
         "xaxis": "x",
         "y": [
          1249
         ],
         "yaxis": "y"
        },
        {
         "alignmentgroup": "True",
         "hovertemplate": "TeamName=%{x}<br>totalShotsOnTarget=%{y}<extra></extra>",
         "legendgroup": "Brighton",
         "marker": {
          "color": "#FF6692",
          "pattern": {
           "shape": ""
          }
         },
         "name": "Brighton",
         "offsetgroup": "Brighton",
         "orientation": "v",
         "showlegend": true,
         "textposition": "auto",
         "type": "bar",
         "x": [
          "Brighton"
         ],
         "xaxis": "x",
         "y": [
          511
         ],
         "yaxis": "y"
        },
        {
         "alignmentgroup": "True",
         "hovertemplate": "TeamName=%{x}<br>totalShotsOnTarget=%{y}<extra></extra>",
         "legendgroup": "Sheffield United",
         "marker": {
          "color": "#B6E880",
          "pattern": {
           "shape": ""
          }
         },
         "name": "Sheffield United",
         "offsetgroup": "Sheffield United",
         "orientation": "v",
         "showlegend": true,
         "textposition": "auto",
         "type": "bar",
         "x": [
          "Sheffield United"
         ],
         "xaxis": "x",
         "y": [
          214
         ],
         "yaxis": "y"
        },
        {
         "alignmentgroup": "True",
         "hovertemplate": "TeamName=%{x}<br>totalShotsOnTarget=%{y}<extra></extra>",
         "legendgroup": "Everton",
         "marker": {
          "color": "#FF97FF",
          "pattern": {
           "shape": ""
          }
         },
         "name": "Everton",
         "offsetgroup": "Everton",
         "orientation": "v",
         "showlegend": true,
         "textposition": "auto",
         "type": "bar",
         "x": [
          "Everton"
         ],
         "xaxis": "x",
         "y": [
          968
         ],
         "yaxis": "y"
        },
        {
         "alignmentgroup": "True",
         "hovertemplate": "TeamName=%{x}<br>totalShotsOnTarget=%{y}<extra></extra>",
         "legendgroup": "Leeds",
         "marker": {
          "color": "#FECB52",
          "pattern": {
           "shape": ""
          }
         },
         "name": "Leeds",
         "offsetgroup": "Leeds",
         "orientation": "v",
         "showlegend": true,
         "textposition": "auto",
         "type": "bar",
         "x": [
          "Leeds"
         ],
         "xaxis": "x",
         "y": [
          199
         ],
         "yaxis": "y"
        },
        {
         "alignmentgroup": "True",
         "hovertemplate": "TeamName=%{x}<br>totalShotsOnTarget=%{y}<extra></extra>",
         "legendgroup": "Man United",
         "marker": {
          "color": "#636efa",
          "pattern": {
           "shape": ""
          }
         },
         "name": "Man United",
         "offsetgroup": "Man United",
         "orientation": "v",
         "showlegend": true,
         "textposition": "auto",
         "type": "bar",
         "x": [
          "Man United"
         ],
         "xaxis": "x",
         "y": [
          1187
         ],
         "yaxis": "y"
        },
        {
         "alignmentgroup": "True",
         "hovertemplate": "TeamName=%{x}<br>totalShotsOnTarget=%{y}<extra></extra>",
         "legendgroup": "Arsenal",
         "marker": {
          "color": "#EF553B",
          "pattern": {
           "shape": ""
          }
         },
         "name": "Arsenal",
         "offsetgroup": "Arsenal",
         "orientation": "v",
         "showlegend": true,
         "textposition": "auto",
         "type": "bar",
         "x": [
          "Arsenal"
         ],
         "xaxis": "x",
         "y": [
          1117
         ],
         "yaxis": "y"
        },
        {
         "alignmentgroup": "True",
         "hovertemplate": "TeamName=%{x}<br>totalShotsOnTarget=%{y}<extra></extra>",
         "legendgroup": "Southampton",
         "marker": {
          "color": "#00cc96",
          "pattern": {
           "shape": ""
          }
         },
         "name": "Southampton",
         "offsetgroup": "Southampton",
         "orientation": "v",
         "showlegend": true,
         "textposition": "auto",
         "type": "bar",
         "x": [
          "Southampton"
         ],
         "xaxis": "x",
         "y": [
          1002
         ],
         "yaxis": "y"
        },
        {
         "alignmentgroup": "True",
         "hovertemplate": "TeamName=%{x}<br>totalShotsOnTarget=%{y}<extra></extra>",
         "legendgroup": "Newcastle",
         "marker": {
          "color": "#ab63fa",
          "pattern": {
           "shape": ""
          }
         },
         "name": "Newcastle",
         "offsetgroup": "Newcastle",
         "orientation": "v",
         "showlegend": true,
         "textposition": "auto",
         "type": "bar",
         "x": [
          "Newcastle"
         ],
         "xaxis": "x",
         "y": [
          717
         ],
         "yaxis": "y"
        },
        {
         "alignmentgroup": "True",
         "hovertemplate": "TeamName=%{x}<br>totalShotsOnTarget=%{y}<extra></extra>",
         "legendgroup": "Chelsea",
         "marker": {
          "color": "#FFA15A",
          "pattern": {
           "shape": ""
          }
         },
         "name": "Chelsea",
         "offsetgroup": "Chelsea",
         "orientation": "v",
         "showlegend": true,
         "textposition": "auto",
         "type": "bar",
         "x": [
          "Chelsea"
         ],
         "xaxis": "x",
         "y": [
          1227
         ],
         "yaxis": "y"
        },
        {
         "alignmentgroup": "True",
         "hovertemplate": "TeamName=%{x}<br>totalShotsOnTarget=%{y}<extra></extra>",
         "legendgroup": "Leicester",
         "marker": {
          "color": "#19d3f3",
          "pattern": {
           "shape": ""
          }
         },
         "name": "Leicester",
         "offsetgroup": "Leicester",
         "orientation": "v",
         "showlegend": true,
         "textposition": "auto",
         "type": "bar",
         "x": [
          "Leicester"
         ],
         "xaxis": "x",
         "y": [
          1033
         ],
         "yaxis": "y"
        },
        {
         "alignmentgroup": "True",
         "hovertemplate": "TeamName=%{x}<br>totalShotsOnTarget=%{y}<extra></extra>",
         "legendgroup": "Aston Villa",
         "marker": {
          "color": "#FF6692",
          "pattern": {
           "shape": ""
          }
         },
         "name": "Aston Villa",
         "offsetgroup": "Aston Villa",
         "orientation": "v",
         "showlegend": true,
         "textposition": "auto",
         "type": "bar",
         "x": [
          "Aston Villa"
         ],
         "xaxis": "x",
         "y": [
          448
         ],
         "yaxis": "y"
        },
        {
         "alignmentgroup": "True",
         "hovertemplate": "TeamName=%{x}<br>totalShotsOnTarget=%{y}<extra></extra>",
         "legendgroup": "Wolves",
         "marker": {
          "color": "#B6E880",
          "pattern": {
           "shape": ""
          }
         },
         "name": "Wolves",
         "offsetgroup": "Wolves",
         "orientation": "v",
         "showlegend": true,
         "textposition": "auto",
         "type": "bar",
         "x": [
          "Wolves"
         ],
         "xaxis": "x",
         "y": [
          450
         ],
         "yaxis": "y"
        },
        {
         "alignmentgroup": "True",
         "hovertemplate": "TeamName=%{x}<br>totalShotsOnTarget=%{y}<extra></extra>",
         "legendgroup": "Burnley",
         "marker": {
          "color": "#FF97FF",
          "pattern": {
           "shape": ""
          }
         },
         "name": "Burnley",
         "offsetgroup": "Burnley",
         "orientation": "v",
         "showlegend": true,
         "textposition": "auto",
         "type": "bar",
         "x": [
          "Burnley"
         ],
         "xaxis": "x",
         "y": [
          626
         ],
         "yaxis": "y"
        },
        {
         "alignmentgroup": "True",
         "hovertemplate": "TeamName=%{x}<br>totalShotsOnTarget=%{y}<extra></extra>",
         "legendgroup": "Man City",
         "marker": {
          "color": "#FECB52",
          "pattern": {
           "shape": ""
          }
         },
         "name": "Man City",
         "offsetgroup": "Man City",
         "orientation": "v",
         "showlegend": true,
         "textposition": "auto",
         "type": "bar",
         "x": [
          "Man City"
         ],
         "xaxis": "x",
         "y": [
          1430
         ],
         "yaxis": "y"
        },
        {
         "alignmentgroup": "True",
         "hovertemplate": "TeamName=%{x}<br>totalShotsOnTarget=%{y}<extra></extra>",
         "legendgroup": "Bournemouth",
         "marker": {
          "color": "#636efa",
          "pattern": {
           "shape": ""
          }
         },
         "name": "Bournemouth",
         "offsetgroup": "Bournemouth",
         "orientation": "v",
         "showlegend": true,
         "textposition": "auto",
         "type": "bar",
         "x": [
          "Bournemouth"
         ],
         "xaxis": "x",
         "y": [
          746
         ],
         "yaxis": "y"
        },
        {
         "alignmentgroup": "True",
         "hovertemplate": "TeamName=%{x}<br>totalShotsOnTarget=%{y}<extra></extra>",
         "legendgroup": "Watford",
         "marker": {
          "color": "#EF553B",
          "pattern": {
           "shape": ""
          }
         },
         "name": "Watford",
         "offsetgroup": "Watford",
         "orientation": "v",
         "showlegend": true,
         "textposition": "auto",
         "type": "bar",
         "x": [
          "Watford"
         ],
         "xaxis": "x",
         "y": [
          683
         ],
         "yaxis": "y"
        },
        {
         "alignmentgroup": "True",
         "hovertemplate": "TeamName=%{x}<br>totalShotsOnTarget=%{y}<extra></extra>",
         "legendgroup": "Norwich",
         "marker": {
          "color": "#00cc96",
          "pattern": {
           "shape": ""
          }
         },
         "name": "Norwich",
         "offsetgroup": "Norwich",
         "orientation": "v",
         "showlegend": true,
         "textposition": "auto",
         "type": "bar",
         "x": [
          "Norwich"
         ],
         "xaxis": "x",
         "y": [
          257
         ],
         "yaxis": "y"
        },
        {
         "alignmentgroup": "True",
         "hovertemplate": "TeamName=%{x}<br>totalShotsOnTarget=%{y}<extra></extra>",
         "legendgroup": "Huddersfield",
         "marker": {
          "color": "#ab63fa",
          "pattern": {
           "shape": ""
          }
         },
         "name": "Huddersfield",
         "offsetgroup": "Huddersfield",
         "orientation": "v",
         "showlegend": true,
         "textposition": "auto",
         "type": "bar",
         "x": [
          "Huddersfield"
         ],
         "xaxis": "x",
         "y": [
          229
         ],
         "yaxis": "y"
        },
        {
         "alignmentgroup": "True",
         "hovertemplate": "TeamName=%{x}<br>totalShotsOnTarget=%{y}<extra></extra>",
         "legendgroup": "Cardiff",
         "marker": {
          "color": "#FFA15A",
          "pattern": {
           "shape": ""
          }
         },
         "name": "Cardiff",
         "offsetgroup": "Cardiff",
         "orientation": "v",
         "showlegend": true,
         "textposition": "auto",
         "type": "bar",
         "x": [
          "Cardiff"
         ],
         "xaxis": "x",
         "y": [
          126
         ],
         "yaxis": "y"
        },
        {
         "alignmentgroup": "True",
         "hovertemplate": "TeamName=%{x}<br>totalShotsOnTarget=%{y}<extra></extra>",
         "legendgroup": "Stoke",
         "marker": {
          "color": "#19d3f3",
          "pattern": {
           "shape": ""
          }
         },
         "name": "Stoke",
         "offsetgroup": "Stoke",
         "orientation": "v",
         "showlegend": true,
         "textposition": "auto",
         "type": "bar",
         "x": [
          "Stoke"
         ],
         "xaxis": "x",
         "y": [
          398
         ],
         "yaxis": "y"
        },
        {
         "alignmentgroup": "True",
         "hovertemplate": "TeamName=%{x}<br>totalShotsOnTarget=%{y}<extra></extra>",
         "legendgroup": "Swansea",
         "marker": {
          "color": "#FF6692",
          "pattern": {
           "shape": ""
          }
         },
         "name": "Swansea",
         "offsetgroup": "Swansea",
         "orientation": "v",
         "showlegend": true,
         "textposition": "auto",
         "type": "bar",
         "x": [
          "Swansea"
         ],
         "xaxis": "x",
         "y": [
          386
         ],
         "yaxis": "y"
        },
        {
         "alignmentgroup": "True",
         "hovertemplate": "TeamName=%{x}<br>totalShotsOnTarget=%{y}<extra></extra>",
         "legendgroup": "Hull",
         "marker": {
          "color": "#B6E880",
          "pattern": {
           "shape": ""
          }
         },
         "name": "Hull",
         "offsetgroup": "Hull",
         "orientation": "v",
         "showlegend": true,
         "textposition": "auto",
         "type": "bar",
         "x": [
          "Hull"
         ],
         "xaxis": "x",
         "y": [
          127
         ],
         "yaxis": "y"
        },
        {
         "alignmentgroup": "True",
         "hovertemplate": "TeamName=%{x}<br>totalShotsOnTarget=%{y}<extra></extra>",
         "legendgroup": "Middlesbrough",
         "marker": {
          "color": "#FF97FF",
          "pattern": {
           "shape": ""
          }
         },
         "name": "Middlesbrough",
         "offsetgroup": "Middlesbrough",
         "orientation": "v",
         "showlegend": true,
         "textposition": "auto",
         "type": "bar",
         "x": [
          "Middlesbrough"
         ],
         "xaxis": "x",
         "y": [
          100
         ],
         "yaxis": "y"
        },
        {
         "alignmentgroup": "True",
         "hovertemplate": "TeamName=%{x}<br>totalShotsOnTarget=%{y}<extra></extra>",
         "legendgroup": "Sunderland",
         "marker": {
          "color": "#FECB52",
          "pattern": {
           "shape": ""
          }
         },
         "name": "Sunderland",
         "offsetgroup": "Sunderland",
         "orientation": "v",
         "showlegend": true,
         "textposition": "auto",
         "type": "bar",
         "x": [
          "Sunderland"
         ],
         "xaxis": "x",
         "y": [
          264
         ],
         "yaxis": "y"
        }
       ],
       "layout": {
        "barmode": "relative",
        "legend": {
         "title": {
          "text": "TeamName"
         },
         "tracegroupgap": 0
        },
        "margin": {
         "t": 60
        },
        "template": {
         "data": {
          "bar": [
           {
            "error_x": {
             "color": "#2a3f5f"
            },
            "error_y": {
             "color": "#2a3f5f"
            },
            "marker": {
             "line": {
              "color": "#E5ECF6",
              "width": 0.5
             },
             "pattern": {
              "fillmode": "overlay",
              "size": 10,
              "solidity": 0.2
             }
            },
            "type": "bar"
           }
          ],
          "barpolar": [
           {
            "marker": {
             "line": {
              "color": "#E5ECF6",
              "width": 0.5
             },
             "pattern": {
              "fillmode": "overlay",
              "size": 10,
              "solidity": 0.2
             }
            },
            "type": "barpolar"
           }
          ],
          "carpet": [
           {
            "aaxis": {
             "endlinecolor": "#2a3f5f",
             "gridcolor": "white",
             "linecolor": "white",
             "minorgridcolor": "white",
             "startlinecolor": "#2a3f5f"
            },
            "baxis": {
             "endlinecolor": "#2a3f5f",
             "gridcolor": "white",
             "linecolor": "white",
             "minorgridcolor": "white",
             "startlinecolor": "#2a3f5f"
            },
            "type": "carpet"
           }
          ],
          "choropleth": [
           {
            "colorbar": {
             "outlinewidth": 0,
             "ticks": ""
            },
            "type": "choropleth"
           }
          ],
          "contour": [
           {
            "colorbar": {
             "outlinewidth": 0,
             "ticks": ""
            },
            "colorscale": [
             [
              0,
              "#0d0887"
             ],
             [
              0.1111111111111111,
              "#46039f"
             ],
             [
              0.2222222222222222,
              "#7201a8"
             ],
             [
              0.3333333333333333,
              "#9c179e"
             ],
             [
              0.4444444444444444,
              "#bd3786"
             ],
             [
              0.5555555555555556,
              "#d8576b"
             ],
             [
              0.6666666666666666,
              "#ed7953"
             ],
             [
              0.7777777777777778,
              "#fb9f3a"
             ],
             [
              0.8888888888888888,
              "#fdca26"
             ],
             [
              1,
              "#f0f921"
             ]
            ],
            "type": "contour"
           }
          ],
          "contourcarpet": [
           {
            "colorbar": {
             "outlinewidth": 0,
             "ticks": ""
            },
            "type": "contourcarpet"
           }
          ],
          "heatmap": [
           {
            "colorbar": {
             "outlinewidth": 0,
             "ticks": ""
            },
            "colorscale": [
             [
              0,
              "#0d0887"
             ],
             [
              0.1111111111111111,
              "#46039f"
             ],
             [
              0.2222222222222222,
              "#7201a8"
             ],
             [
              0.3333333333333333,
              "#9c179e"
             ],
             [
              0.4444444444444444,
              "#bd3786"
             ],
             [
              0.5555555555555556,
              "#d8576b"
             ],
             [
              0.6666666666666666,
              "#ed7953"
             ],
             [
              0.7777777777777778,
              "#fb9f3a"
             ],
             [
              0.8888888888888888,
              "#fdca26"
             ],
             [
              1,
              "#f0f921"
             ]
            ],
            "type": "heatmap"
           }
          ],
          "heatmapgl": [
           {
            "colorbar": {
             "outlinewidth": 0,
             "ticks": ""
            },
            "colorscale": [
             [
              0,
              "#0d0887"
             ],
             [
              0.1111111111111111,
              "#46039f"
             ],
             [
              0.2222222222222222,
              "#7201a8"
             ],
             [
              0.3333333333333333,
              "#9c179e"
             ],
             [
              0.4444444444444444,
              "#bd3786"
             ],
             [
              0.5555555555555556,
              "#d8576b"
             ],
             [
              0.6666666666666666,
              "#ed7953"
             ],
             [
              0.7777777777777778,
              "#fb9f3a"
             ],
             [
              0.8888888888888888,
              "#fdca26"
             ],
             [
              1,
              "#f0f921"
             ]
            ],
            "type": "heatmapgl"
           }
          ],
          "histogram": [
           {
            "marker": {
             "pattern": {
              "fillmode": "overlay",
              "size": 10,
              "solidity": 0.2
             }
            },
            "type": "histogram"
           }
          ],
          "histogram2d": [
           {
            "colorbar": {
             "outlinewidth": 0,
             "ticks": ""
            },
            "colorscale": [
             [
              0,
              "#0d0887"
             ],
             [
              0.1111111111111111,
              "#46039f"
             ],
             [
              0.2222222222222222,
              "#7201a8"
             ],
             [
              0.3333333333333333,
              "#9c179e"
             ],
             [
              0.4444444444444444,
              "#bd3786"
             ],
             [
              0.5555555555555556,
              "#d8576b"
             ],
             [
              0.6666666666666666,
              "#ed7953"
             ],
             [
              0.7777777777777778,
              "#fb9f3a"
             ],
             [
              0.8888888888888888,
              "#fdca26"
             ],
             [
              1,
              "#f0f921"
             ]
            ],
            "type": "histogram2d"
           }
          ],
          "histogram2dcontour": [
           {
            "colorbar": {
             "outlinewidth": 0,
             "ticks": ""
            },
            "colorscale": [
             [
              0,
              "#0d0887"
             ],
             [
              0.1111111111111111,
              "#46039f"
             ],
             [
              0.2222222222222222,
              "#7201a8"
             ],
             [
              0.3333333333333333,
              "#9c179e"
             ],
             [
              0.4444444444444444,
              "#bd3786"
             ],
             [
              0.5555555555555556,
              "#d8576b"
             ],
             [
              0.6666666666666666,
              "#ed7953"
             ],
             [
              0.7777777777777778,
              "#fb9f3a"
             ],
             [
              0.8888888888888888,
              "#fdca26"
             ],
             [
              1,
              "#f0f921"
             ]
            ],
            "type": "histogram2dcontour"
           }
          ],
          "mesh3d": [
           {
            "colorbar": {
             "outlinewidth": 0,
             "ticks": ""
            },
            "type": "mesh3d"
           }
          ],
          "parcoords": [
           {
            "line": {
             "colorbar": {
              "outlinewidth": 0,
              "ticks": ""
             }
            },
            "type": "parcoords"
           }
          ],
          "pie": [
           {
            "automargin": true,
            "type": "pie"
           }
          ],
          "scatter": [
           {
            "fillpattern": {
             "fillmode": "overlay",
             "size": 10,
             "solidity": 0.2
            },
            "type": "scatter"
           }
          ],
          "scatter3d": [
           {
            "line": {
             "colorbar": {
              "outlinewidth": 0,
              "ticks": ""
             }
            },
            "marker": {
             "colorbar": {
              "outlinewidth": 0,
              "ticks": ""
             }
            },
            "type": "scatter3d"
           }
          ],
          "scattercarpet": [
           {
            "marker": {
             "colorbar": {
              "outlinewidth": 0,
              "ticks": ""
             }
            },
            "type": "scattercarpet"
           }
          ],
          "scattergeo": [
           {
            "marker": {
             "colorbar": {
              "outlinewidth": 0,
              "ticks": ""
             }
            },
            "type": "scattergeo"
           }
          ],
          "scattergl": [
           {
            "marker": {
             "colorbar": {
              "outlinewidth": 0,
              "ticks": ""
             }
            },
            "type": "scattergl"
           }
          ],
          "scattermapbox": [
           {
            "marker": {
             "colorbar": {
              "outlinewidth": 0,
              "ticks": ""
             }
            },
            "type": "scattermapbox"
           }
          ],
          "scatterpolar": [
           {
            "marker": {
             "colorbar": {
              "outlinewidth": 0,
              "ticks": ""
             }
            },
            "type": "scatterpolar"
           }
          ],
          "scatterpolargl": [
           {
            "marker": {
             "colorbar": {
              "outlinewidth": 0,
              "ticks": ""
             }
            },
            "type": "scatterpolargl"
           }
          ],
          "scatterternary": [
           {
            "marker": {
             "colorbar": {
              "outlinewidth": 0,
              "ticks": ""
             }
            },
            "type": "scatterternary"
           }
          ],
          "surface": [
           {
            "colorbar": {
             "outlinewidth": 0,
             "ticks": ""
            },
            "colorscale": [
             [
              0,
              "#0d0887"
             ],
             [
              0.1111111111111111,
              "#46039f"
             ],
             [
              0.2222222222222222,
              "#7201a8"
             ],
             [
              0.3333333333333333,
              "#9c179e"
             ],
             [
              0.4444444444444444,
              "#bd3786"
             ],
             [
              0.5555555555555556,
              "#d8576b"
             ],
             [
              0.6666666666666666,
              "#ed7953"
             ],
             [
              0.7777777777777778,
              "#fb9f3a"
             ],
             [
              0.8888888888888888,
              "#fdca26"
             ],
             [
              1,
              "#f0f921"
             ]
            ],
            "type": "surface"
           }
          ],
          "table": [
           {
            "cells": {
             "fill": {
              "color": "#EBF0F8"
             },
             "line": {
              "color": "white"
             }
            },
            "header": {
             "fill": {
              "color": "#C8D4E3"
             },
             "line": {
              "color": "white"
             }
            },
            "type": "table"
           }
          ]
         },
         "layout": {
          "annotationdefaults": {
           "arrowcolor": "#2a3f5f",
           "arrowhead": 0,
           "arrowwidth": 1
          },
          "autotypenumbers": "strict",
          "coloraxis": {
           "colorbar": {
            "outlinewidth": 0,
            "ticks": ""
           }
          },
          "colorscale": {
           "diverging": [
            [
             0,
             "#8e0152"
            ],
            [
             0.1,
             "#c51b7d"
            ],
            [
             0.2,
             "#de77ae"
            ],
            [
             0.3,
             "#f1b6da"
            ],
            [
             0.4,
             "#fde0ef"
            ],
            [
             0.5,
             "#f7f7f7"
            ],
            [
             0.6,
             "#e6f5d0"
            ],
            [
             0.7,
             "#b8e186"
            ],
            [
             0.8,
             "#7fbc41"
            ],
            [
             0.9,
             "#4d9221"
            ],
            [
             1,
             "#276419"
            ]
           ],
           "sequential": [
            [
             0,
             "#0d0887"
            ],
            [
             0.1111111111111111,
             "#46039f"
            ],
            [
             0.2222222222222222,
             "#7201a8"
            ],
            [
             0.3333333333333333,
             "#9c179e"
            ],
            [
             0.4444444444444444,
             "#bd3786"
            ],
            [
             0.5555555555555556,
             "#d8576b"
            ],
            [
             0.6666666666666666,
             "#ed7953"
            ],
            [
             0.7777777777777778,
             "#fb9f3a"
            ],
            [
             0.8888888888888888,
             "#fdca26"
            ],
            [
             1,
             "#f0f921"
            ]
           ],
           "sequentialminus": [
            [
             0,
             "#0d0887"
            ],
            [
             0.1111111111111111,
             "#46039f"
            ],
            [
             0.2222222222222222,
             "#7201a8"
            ],
            [
             0.3333333333333333,
             "#9c179e"
            ],
            [
             0.4444444444444444,
             "#bd3786"
            ],
            [
             0.5555555555555556,
             "#d8576b"
            ],
            [
             0.6666666666666666,
             "#ed7953"
            ],
            [
             0.7777777777777778,
             "#fb9f3a"
            ],
            [
             0.8888888888888888,
             "#fdca26"
            ],
            [
             1,
             "#f0f921"
            ]
           ]
          },
          "colorway": [
           "#636efa",
           "#EF553B",
           "#00cc96",
           "#ab63fa",
           "#FFA15A",
           "#19d3f3",
           "#FF6692",
           "#B6E880",
           "#FF97FF",
           "#FECB52"
          ],
          "font": {
           "color": "#2a3f5f"
          },
          "geo": {
           "bgcolor": "white",
           "lakecolor": "white",
           "landcolor": "#E5ECF6",
           "showlakes": true,
           "showland": true,
           "subunitcolor": "white"
          },
          "hoverlabel": {
           "align": "left"
          },
          "hovermode": "closest",
          "mapbox": {
           "style": "light"
          },
          "paper_bgcolor": "white",
          "plot_bgcolor": "#E5ECF6",
          "polar": {
           "angularaxis": {
            "gridcolor": "white",
            "linecolor": "white",
            "ticks": ""
           },
           "bgcolor": "#E5ECF6",
           "radialaxis": {
            "gridcolor": "white",
            "linecolor": "white",
            "ticks": ""
           }
          },
          "scene": {
           "xaxis": {
            "backgroundcolor": "#E5ECF6",
            "gridcolor": "white",
            "gridwidth": 2,
            "linecolor": "white",
            "showbackground": true,
            "ticks": "",
            "zerolinecolor": "white"
           },
           "yaxis": {
            "backgroundcolor": "#E5ECF6",
            "gridcolor": "white",
            "gridwidth": 2,
            "linecolor": "white",
            "showbackground": true,
            "ticks": "",
            "zerolinecolor": "white"
           },
           "zaxis": {
            "backgroundcolor": "#E5ECF6",
            "gridcolor": "white",
            "gridwidth": 2,
            "linecolor": "white",
            "showbackground": true,
            "ticks": "",
            "zerolinecolor": "white"
           }
          },
          "shapedefaults": {
           "line": {
            "color": "#2a3f5f"
           }
          },
          "ternary": {
           "aaxis": {
            "gridcolor": "white",
            "linecolor": "white",
            "ticks": ""
           },
           "baxis": {
            "gridcolor": "white",
            "linecolor": "white",
            "ticks": ""
           },
           "bgcolor": "#E5ECF6",
           "caxis": {
            "gridcolor": "white",
            "linecolor": "white",
            "ticks": ""
           }
          },
          "title": {
           "x": 0.05
          },
          "xaxis": {
           "automargin": true,
           "gridcolor": "white",
           "linecolor": "white",
           "ticks": "",
           "title": {
            "standoff": 15
           },
           "zerolinecolor": "white",
           "zerolinewidth": 2
          },
          "yaxis": {
           "automargin": true,
           "gridcolor": "white",
           "linecolor": "white",
           "ticks": "",
           "title": {
            "standoff": 15
           },
           "zerolinecolor": "white",
           "zerolinewidth": 2
          }
         }
        },
        "xaxis": {
         "anchor": "y",
         "categoryarray": [
          "Fulham",
          "Crystal Palace",
          "Liverpool",
          "West Ham",
          "West Brom",
          "Tottenham",
          "Brighton",
          "Sheffield United",
          "Everton",
          "Leeds",
          "Man United",
          "Arsenal",
          "Southampton",
          "Newcastle",
          "Chelsea",
          "Leicester",
          "Aston Villa",
          "Wolves",
          "Burnley",
          "Man City",
          "Bournemouth",
          "Watford",
          "Norwich",
          "Huddersfield",
          "Cardiff",
          "Stoke",
          "Swansea",
          "Hull",
          "Middlesbrough",
          "Sunderland"
         ],
         "categoryorder": "array",
         "domain": [
          0,
          1
         ],
         "title": {
          "text": "TeamName"
         }
        },
        "yaxis": {
         "anchor": "x",
         "domain": [
          0,
          1
         ],
         "title": {
          "text": "totalShotsOnTarget"
         }
        }
       }
      }
     },
     "metadata": {},
     "output_type": "display_data"
    }
   ],
   "source": [
    "figure = px.bar(teamStats,x=teamStats.TeamName,y=teamStats.totalShotsOnTarget,color='TeamName')\n",
    "figure.show()"
   ]
  },
  {
   "cell_type": "markdown",
   "metadata": {},
   "source": [
    "## Ploting The Total Team Home Shots Per Game"
   ]
  },
  {
   "cell_type": "code",
   "execution_count": 84,
   "metadata": {},
   "outputs": [
    {
     "data": {
      "application/vnd.plotly.v1+json": {
       "config": {
        "plotlyServerURL": "https://plot.ly"
       },
       "data": [
        {
         "alignmentgroup": "True",
         "hovertemplate": "TeamName=%{x}<br>HSPG=%{y}<extra></extra>",
         "legendgroup": "Fulham",
         "marker": {
          "color": "#636efa",
          "pattern": {
           "shape": ""
          }
         },
         "name": "Fulham",
         "offsetgroup": "Fulham",
         "orientation": "v",
         "showlegend": true,
         "textposition": "auto",
         "type": "bar",
         "x": [
          "Fulham"
         ],
         "xaxis": "x",
         "y": [
          11.776315789473685
         ],
         "yaxis": "y"
        },
        {
         "alignmentgroup": "True",
         "hovertemplate": "TeamName=%{x}<br>HSPG=%{y}<extra></extra>",
         "legendgroup": "Crystal Palace",
         "marker": {
          "color": "#EF553B",
          "pattern": {
           "shape": ""
          }
         },
         "name": "Crystal Palace",
         "offsetgroup": "Crystal Palace",
         "orientation": "v",
         "showlegend": true,
         "textposition": "auto",
         "type": "bar",
         "x": [
          "Crystal Palace"
         ],
         "xaxis": "x",
         "y": [
          11.381578947368421
         ],
         "yaxis": "y"
        },
        {
         "alignmentgroup": "True",
         "hovertemplate": "TeamName=%{x}<br>HSPG=%{y}<extra></extra>",
         "legendgroup": "Liverpool",
         "marker": {
          "color": "#00cc96",
          "pattern": {
           "shape": ""
          }
         },
         "name": "Liverpool",
         "offsetgroup": "Liverpool",
         "orientation": "v",
         "showlegend": true,
         "textposition": "auto",
         "type": "bar",
         "x": [
          "Liverpool"
         ],
         "xaxis": "x",
         "y": [
          16.135964912280702
         ],
         "yaxis": "y"
        },
        {
         "alignmentgroup": "True",
         "hovertemplate": "TeamName=%{x}<br>HSPG=%{y}<extra></extra>",
         "legendgroup": "West Ham",
         "marker": {
          "color": "#ab63fa",
          "pattern": {
           "shape": ""
          }
         },
         "name": "West Ham",
         "offsetgroup": "West Ham",
         "orientation": "v",
         "showlegend": true,
         "textposition": "auto",
         "type": "bar",
         "x": [
          "West Ham"
         ],
         "xaxis": "x",
         "y": [
          12.06578947368421
         ],
         "yaxis": "y"
        },
        {
         "alignmentgroup": "True",
         "hovertemplate": "TeamName=%{x}<br>HSPG=%{y}<extra></extra>",
         "legendgroup": "West Brom",
         "marker": {
          "color": "#FFA15A",
          "pattern": {
           "shape": ""
          }
         },
         "name": "West Brom",
         "offsetgroup": "West Brom",
         "orientation": "v",
         "showlegend": true,
         "textposition": "auto",
         "type": "bar",
         "x": [
          "West Brom"
         ],
         "xaxis": "x",
         "y": [
          9.861842105263158
         ],
         "yaxis": "y"
        },
        {
         "alignmentgroup": "True",
         "hovertemplate": "TeamName=%{x}<br>HSPG=%{y}<extra></extra>",
         "legendgroup": "Tottenham",
         "marker": {
          "color": "#19d3f3",
          "pattern": {
           "shape": ""
          }
         },
         "name": "Tottenham",
         "offsetgroup": "Tottenham",
         "orientation": "v",
         "showlegend": true,
         "textposition": "auto",
         "type": "bar",
         "x": [
          "Tottenham"
         ],
         "xaxis": "x",
         "y": [
          14.81140350877193
         ],
         "yaxis": "y"
        },
        {
         "alignmentgroup": "True",
         "hovertemplate": "TeamName=%{x}<br>HSPG=%{y}<extra></extra>",
         "legendgroup": "Brighton",
         "marker": {
          "color": "#FF6692",
          "pattern": {
           "shape": ""
          }
         },
         "name": "Brighton",
         "offsetgroup": "Brighton",
         "orientation": "v",
         "showlegend": true,
         "textposition": "auto",
         "type": "bar",
         "x": [
          "Brighton"
         ],
         "xaxis": "x",
         "y": [
          11.157894736842104
         ],
         "yaxis": "y"
        },
        {
         "alignmentgroup": "True",
         "hovertemplate": "TeamName=%{x}<br>HSPG=%{y}<extra></extra>",
         "legendgroup": "Sheffield United",
         "marker": {
          "color": "#B6E880",
          "pattern": {
           "shape": ""
          }
         },
         "name": "Sheffield United",
         "offsetgroup": "Sheffield United",
         "orientation": "v",
         "showlegend": true,
         "textposition": "auto",
         "type": "bar",
         "x": [
          "Sheffield United"
         ],
         "xaxis": "x",
         "y": [
          8.93421052631579
         ],
         "yaxis": "y"
        },
        {
         "alignmentgroup": "True",
         "hovertemplate": "TeamName=%{x}<br>HSPG=%{y}<extra></extra>",
         "legendgroup": "Everton",
         "marker": {
          "color": "#FF97FF",
          "pattern": {
           "shape": ""
          }
         },
         "name": "Everton",
         "offsetgroup": "Everton",
         "orientation": "v",
         "showlegend": true,
         "textposition": "auto",
         "type": "bar",
         "x": [
          "Everton"
         ],
         "xaxis": "x",
         "y": [
          11.907894736842104
         ],
         "yaxis": "y"
        },
        {
         "alignmentgroup": "True",
         "hovertemplate": "TeamName=%{x}<br>HSPG=%{y}<extra></extra>",
         "legendgroup": "Leeds",
         "marker": {
          "color": "#FECB52",
          "pattern": {
           "shape": ""
          }
         },
         "name": "Leeds",
         "offsetgroup": "Leeds",
         "orientation": "v",
         "showlegend": true,
         "textposition": "auto",
         "type": "bar",
         "x": [
          "Leeds"
         ],
         "xaxis": "x",
         "y": [
          13.736842105263158
         ],
         "yaxis": "y"
        },
        {
         "alignmentgroup": "True",
         "hovertemplate": "TeamName=%{x}<br>HSPG=%{y}<extra></extra>",
         "legendgroup": "Man United",
         "marker": {
          "color": "#636efa",
          "pattern": {
           "shape": ""
          }
         },
         "name": "Man United",
         "offsetgroup": "Man United",
         "orientation": "v",
         "showlegend": true,
         "textposition": "auto",
         "type": "bar",
         "x": [
          "Man United"
         ],
         "xaxis": "x",
         "y": [
          13.692982456140351
         ],
         "yaxis": "y"
        },
        {
         "alignmentgroup": "True",
         "hovertemplate": "TeamName=%{x}<br>HSPG=%{y}<extra></extra>",
         "legendgroup": "Arsenal",
         "marker": {
          "color": "#EF553B",
          "pattern": {
           "shape": ""
          }
         },
         "name": "Arsenal",
         "offsetgroup": "Arsenal",
         "orientation": "v",
         "showlegend": true,
         "textposition": "auto",
         "type": "bar",
         "x": [
          "Arsenal"
         ],
         "xaxis": "x",
         "y": [
          13.442982456140351
         ],
         "yaxis": "y"
        },
        {
         "alignmentgroup": "True",
         "hovertemplate": "TeamName=%{x}<br>HSPG=%{y}<extra></extra>",
         "legendgroup": "Southampton",
         "marker": {
          "color": "#00cc96",
          "pattern": {
           "shape": ""
          }
         },
         "name": "Southampton",
         "offsetgroup": "Southampton",
         "orientation": "v",
         "showlegend": true,
         "textposition": "auto",
         "type": "bar",
         "x": [
          "Southampton"
         ],
         "xaxis": "x",
         "y": [
          12.81140350877193
         ],
         "yaxis": "y"
        },
        {
         "alignmentgroup": "True",
         "hovertemplate": "TeamName=%{x}<br>HSPG=%{y}<extra></extra>",
         "legendgroup": "Newcastle",
         "marker": {
          "color": "#ab63fa",
          "pattern": {
           "shape": ""
          }
         },
         "name": "Newcastle",
         "offsetgroup": "Newcastle",
         "orientation": "v",
         "showlegend": true,
         "textposition": "auto",
         "type": "bar",
         "x": [
          "Newcastle"
         ],
         "xaxis": "x",
         "y": [
          10.963157894736842
         ],
         "yaxis": "y"
        },
        {
         "alignmentgroup": "True",
         "hovertemplate": "TeamName=%{x}<br>HSPG=%{y}<extra></extra>",
         "legendgroup": "Chelsea",
         "marker": {
          "color": "#FFA15A",
          "pattern": {
           "shape": ""
          }
         },
         "name": "Chelsea",
         "offsetgroup": "Chelsea",
         "orientation": "v",
         "showlegend": true,
         "textposition": "auto",
         "type": "bar",
         "x": [
          "Chelsea"
         ],
         "xaxis": "x",
         "y": [
          15.355263157894736
         ],
         "yaxis": "y"
        },
        {
         "alignmentgroup": "True",
         "hovertemplate": "TeamName=%{x}<br>HSPG=%{y}<extra></extra>",
         "legendgroup": "Leicester",
         "marker": {
          "color": "#19d3f3",
          "pattern": {
           "shape": ""
          }
         },
         "name": "Leicester",
         "offsetgroup": "Leicester",
         "orientation": "v",
         "showlegend": true,
         "textposition": "auto",
         "type": "bar",
         "x": [
          "Leicester"
         ],
         "xaxis": "x",
         "y": [
          12.776315789473685
         ],
         "yaxis": "y"
        },
        {
         "alignmentgroup": "True",
         "hovertemplate": "TeamName=%{x}<br>HSPG=%{y}<extra></extra>",
         "legendgroup": "Aston Villa",
         "marker": {
          "color": "#FF6692",
          "pattern": {
           "shape": ""
          }
         },
         "name": "Aston Villa",
         "offsetgroup": "Aston Villa",
         "orientation": "v",
         "showlegend": true,
         "textposition": "auto",
         "type": "bar",
         "x": [
          "Aston Villa"
         ],
         "xaxis": "x",
         "y": [
          11.824561403508772
         ],
         "yaxis": "y"
        },
        {
         "alignmentgroup": "True",
         "hovertemplate": "TeamName=%{x}<br>HSPG=%{y}<extra></extra>",
         "legendgroup": "Wolves",
         "marker": {
          "color": "#B6E880",
          "pattern": {
           "shape": ""
          }
         },
         "name": "Wolves",
         "offsetgroup": "Wolves",
         "orientation": "v",
         "showlegend": true,
         "textposition": "auto",
         "type": "bar",
         "x": [
          "Wolves"
         ],
         "xaxis": "x",
         "y": [
          12.236842105263158
         ],
         "yaxis": "y"
        },
        {
         "alignmentgroup": "True",
         "hovertemplate": "TeamName=%{x}<br>HSPG=%{y}<extra></extra>",
         "legendgroup": "Burnley",
         "marker": {
          "color": "#FF97FF",
          "pattern": {
           "shape": ""
          }
         },
         "name": "Burnley",
         "offsetgroup": "Burnley",
         "orientation": "v",
         "showlegend": true,
         "textposition": "auto",
         "type": "bar",
         "x": [
          "Burnley"
         ],
         "xaxis": "x",
         "y": [
          10
         ],
         "yaxis": "y"
        },
        {
         "alignmentgroup": "True",
         "hovertemplate": "TeamName=%{x}<br>HSPG=%{y}<extra></extra>",
         "legendgroup": "Man City",
         "marker": {
          "color": "#FECB52",
          "pattern": {
           "shape": ""
          }
         },
         "name": "Man City",
         "offsetgroup": "Man City",
         "orientation": "v",
         "showlegend": true,
         "textposition": "auto",
         "type": "bar",
         "x": [
          "Man City"
         ],
         "xaxis": "x",
         "y": [
          17.285087719298247
         ],
         "yaxis": "y"
        },
        {
         "alignmentgroup": "True",
         "hovertemplate": "TeamName=%{x}<br>HSPG=%{y}<extra></extra>",
         "legendgroup": "Bournemouth",
         "marker": {
          "color": "#636efa",
          "pattern": {
           "shape": ""
          }
         },
         "name": "Bournemouth",
         "offsetgroup": "Bournemouth",
         "orientation": "v",
         "showlegend": true,
         "textposition": "auto",
         "type": "bar",
         "x": [
          "Bournemouth"
         ],
         "xaxis": "x",
         "y": [
          11.642105263157895
         ],
         "yaxis": "y"
        },
        {
         "alignmentgroup": "True",
         "hovertemplate": "TeamName=%{x}<br>HSPG=%{y}<extra></extra>",
         "legendgroup": "Watford",
         "marker": {
          "color": "#EF553B",
          "pattern": {
           "shape": ""
          }
         },
         "name": "Watford",
         "offsetgroup": "Watford",
         "orientation": "v",
         "showlegend": true,
         "textposition": "auto",
         "type": "bar",
         "x": [
          "Watford"
         ],
         "xaxis": "x",
         "y": [
          11.378947368421052
         ],
         "yaxis": "y"
        },
        {
         "alignmentgroup": "True",
         "hovertemplate": "TeamName=%{x}<br>HSPG=%{y}<extra></extra>",
         "legendgroup": "Norwich",
         "marker": {
          "color": "#00cc96",
          "pattern": {
           "shape": ""
          }
         },
         "name": "Norwich",
         "offsetgroup": "Norwich",
         "orientation": "v",
         "showlegend": true,
         "textposition": "auto",
         "type": "bar",
         "x": [
          "Norwich"
         ],
         "xaxis": "x",
         "y": [
          10.842105263157896
         ],
         "yaxis": "y"
        },
        {
         "alignmentgroup": "True",
         "hovertemplate": "TeamName=%{x}<br>HSPG=%{y}<extra></extra>",
         "legendgroup": "Huddersfield",
         "marker": {
          "color": "#ab63fa",
          "pattern": {
           "shape": ""
          }
         },
         "name": "Huddersfield",
         "offsetgroup": "Huddersfield",
         "orientation": "v",
         "showlegend": true,
         "textposition": "auto",
         "type": "bar",
         "x": [
          "Huddersfield"
         ],
         "xaxis": "x",
         "y": [
          10
         ],
         "yaxis": "y"
        },
        {
         "alignmentgroup": "True",
         "hovertemplate": "TeamName=%{x}<br>HSPG=%{y}<extra></extra>",
         "legendgroup": "Cardiff",
         "marker": {
          "color": "#FFA15A",
          "pattern": {
           "shape": ""
          }
         },
         "name": "Cardiff",
         "offsetgroup": "Cardiff",
         "orientation": "v",
         "showlegend": true,
         "textposition": "auto",
         "type": "bar",
         "x": [
          "Cardiff"
         ],
         "xaxis": "x",
         "y": [
          10.973684210526315
         ],
         "yaxis": "y"
        },
        {
         "alignmentgroup": "True",
         "hovertemplate": "TeamName=%{x}<br>HSPG=%{y}<extra></extra>",
         "legendgroup": "Stoke",
         "marker": {
          "color": "#19d3f3",
          "pattern": {
           "shape": ""
          }
         },
         "name": "Stoke",
         "offsetgroup": "Stoke",
         "orientation": "v",
         "showlegend": true,
         "textposition": "auto",
         "type": "bar",
         "x": [
          "Stoke"
         ],
         "xaxis": "x",
         "y": [
          10.75438596491228
         ],
         "yaxis": "y"
        },
        {
         "alignmentgroup": "True",
         "hovertemplate": "TeamName=%{x}<br>HSPG=%{y}<extra></extra>",
         "legendgroup": "Swansea",
         "marker": {
          "color": "#FF6692",
          "pattern": {
           "shape": ""
          }
         },
         "name": "Swansea",
         "offsetgroup": "Swansea",
         "orientation": "v",
         "showlegend": true,
         "textposition": "auto",
         "type": "bar",
         "x": [
          "Swansea"
         ],
         "xaxis": "x",
         "y": [
          10.24561403508772
         ],
         "yaxis": "y"
        },
        {
         "alignmentgroup": "True",
         "hovertemplate": "TeamName=%{x}<br>HSPG=%{y}<extra></extra>",
         "legendgroup": "Hull",
         "marker": {
          "color": "#B6E880",
          "pattern": {
           "shape": ""
          }
         },
         "name": "Hull",
         "offsetgroup": "Hull",
         "orientation": "v",
         "showlegend": true,
         "textposition": "auto",
         "type": "bar",
         "x": [
          "Hull"
         ],
         "xaxis": "x",
         "y": [
          10.421052631578947
         ],
         "yaxis": "y"
        },
        {
         "alignmentgroup": "True",
         "hovertemplate": "TeamName=%{x}<br>HSPG=%{y}<extra></extra>",
         "legendgroup": "Middlesbrough",
         "marker": {
          "color": "#FF97FF",
          "pattern": {
           "shape": ""
          }
         },
         "name": "Middlesbrough",
         "offsetgroup": "Middlesbrough",
         "orientation": "v",
         "showlegend": true,
         "textposition": "auto",
         "type": "bar",
         "x": [
          "Middlesbrough"
         ],
         "xaxis": "x",
         "y": [
          9.18421052631579
         ],
         "yaxis": "y"
        },
        {
         "alignmentgroup": "True",
         "hovertemplate": "TeamName=%{x}<br>HSPG=%{y}<extra></extra>",
         "legendgroup": "Sunderland",
         "marker": {
          "color": "#FECB52",
          "pattern": {
           "shape": ""
          }
         },
         "name": "Sunderland",
         "offsetgroup": "Sunderland",
         "orientation": "v",
         "showlegend": true,
         "textposition": "auto",
         "type": "bar",
         "x": [
          "Sunderland"
         ],
         "xaxis": "x",
         "y": [
          10.868421052631579
         ],
         "yaxis": "y"
        }
       ],
       "layout": {
        "barmode": "relative",
        "legend": {
         "title": {
          "text": "TeamName"
         },
         "tracegroupgap": 0
        },
        "margin": {
         "t": 60
        },
        "template": {
         "data": {
          "bar": [
           {
            "error_x": {
             "color": "#2a3f5f"
            },
            "error_y": {
             "color": "#2a3f5f"
            },
            "marker": {
             "line": {
              "color": "#E5ECF6",
              "width": 0.5
             },
             "pattern": {
              "fillmode": "overlay",
              "size": 10,
              "solidity": 0.2
             }
            },
            "type": "bar"
           }
          ],
          "barpolar": [
           {
            "marker": {
             "line": {
              "color": "#E5ECF6",
              "width": 0.5
             },
             "pattern": {
              "fillmode": "overlay",
              "size": 10,
              "solidity": 0.2
             }
            },
            "type": "barpolar"
           }
          ],
          "carpet": [
           {
            "aaxis": {
             "endlinecolor": "#2a3f5f",
             "gridcolor": "white",
             "linecolor": "white",
             "minorgridcolor": "white",
             "startlinecolor": "#2a3f5f"
            },
            "baxis": {
             "endlinecolor": "#2a3f5f",
             "gridcolor": "white",
             "linecolor": "white",
             "minorgridcolor": "white",
             "startlinecolor": "#2a3f5f"
            },
            "type": "carpet"
           }
          ],
          "choropleth": [
           {
            "colorbar": {
             "outlinewidth": 0,
             "ticks": ""
            },
            "type": "choropleth"
           }
          ],
          "contour": [
           {
            "colorbar": {
             "outlinewidth": 0,
             "ticks": ""
            },
            "colorscale": [
             [
              0,
              "#0d0887"
             ],
             [
              0.1111111111111111,
              "#46039f"
             ],
             [
              0.2222222222222222,
              "#7201a8"
             ],
             [
              0.3333333333333333,
              "#9c179e"
             ],
             [
              0.4444444444444444,
              "#bd3786"
             ],
             [
              0.5555555555555556,
              "#d8576b"
             ],
             [
              0.6666666666666666,
              "#ed7953"
             ],
             [
              0.7777777777777778,
              "#fb9f3a"
             ],
             [
              0.8888888888888888,
              "#fdca26"
             ],
             [
              1,
              "#f0f921"
             ]
            ],
            "type": "contour"
           }
          ],
          "contourcarpet": [
           {
            "colorbar": {
             "outlinewidth": 0,
             "ticks": ""
            },
            "type": "contourcarpet"
           }
          ],
          "heatmap": [
           {
            "colorbar": {
             "outlinewidth": 0,
             "ticks": ""
            },
            "colorscale": [
             [
              0,
              "#0d0887"
             ],
             [
              0.1111111111111111,
              "#46039f"
             ],
             [
              0.2222222222222222,
              "#7201a8"
             ],
             [
              0.3333333333333333,
              "#9c179e"
             ],
             [
              0.4444444444444444,
              "#bd3786"
             ],
             [
              0.5555555555555556,
              "#d8576b"
             ],
             [
              0.6666666666666666,
              "#ed7953"
             ],
             [
              0.7777777777777778,
              "#fb9f3a"
             ],
             [
              0.8888888888888888,
              "#fdca26"
             ],
             [
              1,
              "#f0f921"
             ]
            ],
            "type": "heatmap"
           }
          ],
          "heatmapgl": [
           {
            "colorbar": {
             "outlinewidth": 0,
             "ticks": ""
            },
            "colorscale": [
             [
              0,
              "#0d0887"
             ],
             [
              0.1111111111111111,
              "#46039f"
             ],
             [
              0.2222222222222222,
              "#7201a8"
             ],
             [
              0.3333333333333333,
              "#9c179e"
             ],
             [
              0.4444444444444444,
              "#bd3786"
             ],
             [
              0.5555555555555556,
              "#d8576b"
             ],
             [
              0.6666666666666666,
              "#ed7953"
             ],
             [
              0.7777777777777778,
              "#fb9f3a"
             ],
             [
              0.8888888888888888,
              "#fdca26"
             ],
             [
              1,
              "#f0f921"
             ]
            ],
            "type": "heatmapgl"
           }
          ],
          "histogram": [
           {
            "marker": {
             "pattern": {
              "fillmode": "overlay",
              "size": 10,
              "solidity": 0.2
             }
            },
            "type": "histogram"
           }
          ],
          "histogram2d": [
           {
            "colorbar": {
             "outlinewidth": 0,
             "ticks": ""
            },
            "colorscale": [
             [
              0,
              "#0d0887"
             ],
             [
              0.1111111111111111,
              "#46039f"
             ],
             [
              0.2222222222222222,
              "#7201a8"
             ],
             [
              0.3333333333333333,
              "#9c179e"
             ],
             [
              0.4444444444444444,
              "#bd3786"
             ],
             [
              0.5555555555555556,
              "#d8576b"
             ],
             [
              0.6666666666666666,
              "#ed7953"
             ],
             [
              0.7777777777777778,
              "#fb9f3a"
             ],
             [
              0.8888888888888888,
              "#fdca26"
             ],
             [
              1,
              "#f0f921"
             ]
            ],
            "type": "histogram2d"
           }
          ],
          "histogram2dcontour": [
           {
            "colorbar": {
             "outlinewidth": 0,
             "ticks": ""
            },
            "colorscale": [
             [
              0,
              "#0d0887"
             ],
             [
              0.1111111111111111,
              "#46039f"
             ],
             [
              0.2222222222222222,
              "#7201a8"
             ],
             [
              0.3333333333333333,
              "#9c179e"
             ],
             [
              0.4444444444444444,
              "#bd3786"
             ],
             [
              0.5555555555555556,
              "#d8576b"
             ],
             [
              0.6666666666666666,
              "#ed7953"
             ],
             [
              0.7777777777777778,
              "#fb9f3a"
             ],
             [
              0.8888888888888888,
              "#fdca26"
             ],
             [
              1,
              "#f0f921"
             ]
            ],
            "type": "histogram2dcontour"
           }
          ],
          "mesh3d": [
           {
            "colorbar": {
             "outlinewidth": 0,
             "ticks": ""
            },
            "type": "mesh3d"
           }
          ],
          "parcoords": [
           {
            "line": {
             "colorbar": {
              "outlinewidth": 0,
              "ticks": ""
             }
            },
            "type": "parcoords"
           }
          ],
          "pie": [
           {
            "automargin": true,
            "type": "pie"
           }
          ],
          "scatter": [
           {
            "fillpattern": {
             "fillmode": "overlay",
             "size": 10,
             "solidity": 0.2
            },
            "type": "scatter"
           }
          ],
          "scatter3d": [
           {
            "line": {
             "colorbar": {
              "outlinewidth": 0,
              "ticks": ""
             }
            },
            "marker": {
             "colorbar": {
              "outlinewidth": 0,
              "ticks": ""
             }
            },
            "type": "scatter3d"
           }
          ],
          "scattercarpet": [
           {
            "marker": {
             "colorbar": {
              "outlinewidth": 0,
              "ticks": ""
             }
            },
            "type": "scattercarpet"
           }
          ],
          "scattergeo": [
           {
            "marker": {
             "colorbar": {
              "outlinewidth": 0,
              "ticks": ""
             }
            },
            "type": "scattergeo"
           }
          ],
          "scattergl": [
           {
            "marker": {
             "colorbar": {
              "outlinewidth": 0,
              "ticks": ""
             }
            },
            "type": "scattergl"
           }
          ],
          "scattermapbox": [
           {
            "marker": {
             "colorbar": {
              "outlinewidth": 0,
              "ticks": ""
             }
            },
            "type": "scattermapbox"
           }
          ],
          "scatterpolar": [
           {
            "marker": {
             "colorbar": {
              "outlinewidth": 0,
              "ticks": ""
             }
            },
            "type": "scatterpolar"
           }
          ],
          "scatterpolargl": [
           {
            "marker": {
             "colorbar": {
              "outlinewidth": 0,
              "ticks": ""
             }
            },
            "type": "scatterpolargl"
           }
          ],
          "scatterternary": [
           {
            "marker": {
             "colorbar": {
              "outlinewidth": 0,
              "ticks": ""
             }
            },
            "type": "scatterternary"
           }
          ],
          "surface": [
           {
            "colorbar": {
             "outlinewidth": 0,
             "ticks": ""
            },
            "colorscale": [
             [
              0,
              "#0d0887"
             ],
             [
              0.1111111111111111,
              "#46039f"
             ],
             [
              0.2222222222222222,
              "#7201a8"
             ],
             [
              0.3333333333333333,
              "#9c179e"
             ],
             [
              0.4444444444444444,
              "#bd3786"
             ],
             [
              0.5555555555555556,
              "#d8576b"
             ],
             [
              0.6666666666666666,
              "#ed7953"
             ],
             [
              0.7777777777777778,
              "#fb9f3a"
             ],
             [
              0.8888888888888888,
              "#fdca26"
             ],
             [
              1,
              "#f0f921"
             ]
            ],
            "type": "surface"
           }
          ],
          "table": [
           {
            "cells": {
             "fill": {
              "color": "#EBF0F8"
             },
             "line": {
              "color": "white"
             }
            },
            "header": {
             "fill": {
              "color": "#C8D4E3"
             },
             "line": {
              "color": "white"
             }
            },
            "type": "table"
           }
          ]
         },
         "layout": {
          "annotationdefaults": {
           "arrowcolor": "#2a3f5f",
           "arrowhead": 0,
           "arrowwidth": 1
          },
          "autotypenumbers": "strict",
          "coloraxis": {
           "colorbar": {
            "outlinewidth": 0,
            "ticks": ""
           }
          },
          "colorscale": {
           "diverging": [
            [
             0,
             "#8e0152"
            ],
            [
             0.1,
             "#c51b7d"
            ],
            [
             0.2,
             "#de77ae"
            ],
            [
             0.3,
             "#f1b6da"
            ],
            [
             0.4,
             "#fde0ef"
            ],
            [
             0.5,
             "#f7f7f7"
            ],
            [
             0.6,
             "#e6f5d0"
            ],
            [
             0.7,
             "#b8e186"
            ],
            [
             0.8,
             "#7fbc41"
            ],
            [
             0.9,
             "#4d9221"
            ],
            [
             1,
             "#276419"
            ]
           ],
           "sequential": [
            [
             0,
             "#0d0887"
            ],
            [
             0.1111111111111111,
             "#46039f"
            ],
            [
             0.2222222222222222,
             "#7201a8"
            ],
            [
             0.3333333333333333,
             "#9c179e"
            ],
            [
             0.4444444444444444,
             "#bd3786"
            ],
            [
             0.5555555555555556,
             "#d8576b"
            ],
            [
             0.6666666666666666,
             "#ed7953"
            ],
            [
             0.7777777777777778,
             "#fb9f3a"
            ],
            [
             0.8888888888888888,
             "#fdca26"
            ],
            [
             1,
             "#f0f921"
            ]
           ],
           "sequentialminus": [
            [
             0,
             "#0d0887"
            ],
            [
             0.1111111111111111,
             "#46039f"
            ],
            [
             0.2222222222222222,
             "#7201a8"
            ],
            [
             0.3333333333333333,
             "#9c179e"
            ],
            [
             0.4444444444444444,
             "#bd3786"
            ],
            [
             0.5555555555555556,
             "#d8576b"
            ],
            [
             0.6666666666666666,
             "#ed7953"
            ],
            [
             0.7777777777777778,
             "#fb9f3a"
            ],
            [
             0.8888888888888888,
             "#fdca26"
            ],
            [
             1,
             "#f0f921"
            ]
           ]
          },
          "colorway": [
           "#636efa",
           "#EF553B",
           "#00cc96",
           "#ab63fa",
           "#FFA15A",
           "#19d3f3",
           "#FF6692",
           "#B6E880",
           "#FF97FF",
           "#FECB52"
          ],
          "font": {
           "color": "#2a3f5f"
          },
          "geo": {
           "bgcolor": "white",
           "lakecolor": "white",
           "landcolor": "#E5ECF6",
           "showlakes": true,
           "showland": true,
           "subunitcolor": "white"
          },
          "hoverlabel": {
           "align": "left"
          },
          "hovermode": "closest",
          "mapbox": {
           "style": "light"
          },
          "paper_bgcolor": "white",
          "plot_bgcolor": "#E5ECF6",
          "polar": {
           "angularaxis": {
            "gridcolor": "white",
            "linecolor": "white",
            "ticks": ""
           },
           "bgcolor": "#E5ECF6",
           "radialaxis": {
            "gridcolor": "white",
            "linecolor": "white",
            "ticks": ""
           }
          },
          "scene": {
           "xaxis": {
            "backgroundcolor": "#E5ECF6",
            "gridcolor": "white",
            "gridwidth": 2,
            "linecolor": "white",
            "showbackground": true,
            "ticks": "",
            "zerolinecolor": "white"
           },
           "yaxis": {
            "backgroundcolor": "#E5ECF6",
            "gridcolor": "white",
            "gridwidth": 2,
            "linecolor": "white",
            "showbackground": true,
            "ticks": "",
            "zerolinecolor": "white"
           },
           "zaxis": {
            "backgroundcolor": "#E5ECF6",
            "gridcolor": "white",
            "gridwidth": 2,
            "linecolor": "white",
            "showbackground": true,
            "ticks": "",
            "zerolinecolor": "white"
           }
          },
          "shapedefaults": {
           "line": {
            "color": "#2a3f5f"
           }
          },
          "ternary": {
           "aaxis": {
            "gridcolor": "white",
            "linecolor": "white",
            "ticks": ""
           },
           "baxis": {
            "gridcolor": "white",
            "linecolor": "white",
            "ticks": ""
           },
           "bgcolor": "#E5ECF6",
           "caxis": {
            "gridcolor": "white",
            "linecolor": "white",
            "ticks": ""
           }
          },
          "title": {
           "x": 0.05
          },
          "xaxis": {
           "automargin": true,
           "gridcolor": "white",
           "linecolor": "white",
           "ticks": "",
           "title": {
            "standoff": 15
           },
           "zerolinecolor": "white",
           "zerolinewidth": 2
          },
          "yaxis": {
           "automargin": true,
           "gridcolor": "white",
           "linecolor": "white",
           "ticks": "",
           "title": {
            "standoff": 15
           },
           "zerolinecolor": "white",
           "zerolinewidth": 2
          }
         }
        },
        "xaxis": {
         "anchor": "y",
         "categoryarray": [
          "Fulham",
          "Crystal Palace",
          "Liverpool",
          "West Ham",
          "West Brom",
          "Tottenham",
          "Brighton",
          "Sheffield United",
          "Everton",
          "Leeds",
          "Man United",
          "Arsenal",
          "Southampton",
          "Newcastle",
          "Chelsea",
          "Leicester",
          "Aston Villa",
          "Wolves",
          "Burnley",
          "Man City",
          "Bournemouth",
          "Watford",
          "Norwich",
          "Huddersfield",
          "Cardiff",
          "Stoke",
          "Swansea",
          "Hull",
          "Middlesbrough",
          "Sunderland"
         ],
         "categoryorder": "array",
         "domain": [
          0,
          1
         ],
         "title": {
          "text": "TeamName"
         }
        },
        "yaxis": {
         "anchor": "x",
         "domain": [
          0,
          1
         ],
         "title": {
          "text": "HSPG"
         }
        }
       }
      }
     },
     "metadata": {},
     "output_type": "display_data"
    }
   ],
   "source": [
    "figure = px.bar(teamStats,x=teamStats.TeamName,y=teamStats.HSPG,color='TeamName')\n",
    "figure.show()"
   ]
  },
  {
   "cell_type": "code",
   "execution_count": 85,
   "metadata": {},
   "outputs": [
    {
     "data": {
      "image/png": "[encoded data removed]",
      "text/plain": [
       "<Figure size 1440x1440 with 100 Axes>"
      ]
     },
     "metadata": {
      "needs_background": "light"
     },
     "output_type": "display_data"
    }
   ],
   "source": [
    "scatter_matrix(data[['FTHG','FTAG','HTHG','HTAG','HS','AS','HST','AST','HC','AC']],figsize=(20,20));"
   ]
  },
  {
   "cell_type": "code",
   "execution_count": 86,
   "metadata": {},
   "outputs": [
    {
     "data": {
      "text/html": [
       "<div>\n",
       "<style scoped>\n",
       "    .dataframe tbody tr th:only-of-type {\n",
       "        vertical-align: middle;\n",
       "    }\n",
       "\n",
       "    .dataframe tbody tr th {\n",
       "        vertical-align: top;\n",
       "    }\n",
       "\n",
       "    .dataframe thead th {\n",
       "        text-align: right;\n",
       "    }\n",
       "</style>\n",
       "<table border=\"1\" class=\"dataframe\">\n",
       "  <thead>\n",
       "    <tr style=\"text-align: right;\">\n",
       "      <th></th>\n",
       "      <th>HomeTeam</th>\n",
       "      <th>AwayTeam</th>\n",
       "      <th>FTHG</th>\n",
       "      <th>FTAG</th>\n",
       "      <th>FTR</th>\n",
       "      <th>HTHG</th>\n",
       "      <th>HTAG</th>\n",
       "      <th>HTR</th>\n",
       "      <th>Referee</th>\n",
       "      <th>HS</th>\n",
       "      <th>...</th>\n",
       "      <th>HST</th>\n",
       "      <th>AST</th>\n",
       "      <th>HF</th>\n",
       "      <th>AF</th>\n",
       "      <th>HC</th>\n",
       "      <th>AC</th>\n",
       "      <th>HY</th>\n",
       "      <th>AY</th>\n",
       "      <th>HR</th>\n",
       "      <th>AR</th>\n",
       "    </tr>\n",
       "  </thead>\n",
       "  <tbody>\n",
       "    <tr>\n",
       "      <th>0</th>\n",
       "      <td>Fulham</td>\n",
       "      <td>Arsenal</td>\n",
       "      <td>0</td>\n",
       "      <td>3</td>\n",
       "      <td>A</td>\n",
       "      <td>0</td>\n",
       "      <td>1</td>\n",
       "      <td>A</td>\n",
       "      <td>C Kavanagh</td>\n",
       "      <td>5</td>\n",
       "      <td>...</td>\n",
       "      <td>2</td>\n",
       "      <td>6</td>\n",
       "      <td>12</td>\n",
       "      <td>12</td>\n",
       "      <td>2</td>\n",
       "      <td>3</td>\n",
       "      <td>2</td>\n",
       "      <td>2</td>\n",
       "      <td>0</td>\n",
       "      <td>0</td>\n",
       "    </tr>\n",
       "    <tr>\n",
       "      <th>1</th>\n",
       "      <td>Crystal Palace</td>\n",
       "      <td>Southampton</td>\n",
       "      <td>1</td>\n",
       "      <td>0</td>\n",
       "      <td>H</td>\n",
       "      <td>1</td>\n",
       "      <td>0</td>\n",
       "      <td>H</td>\n",
       "      <td>J Moss</td>\n",
       "      <td>5</td>\n",
       "      <td>...</td>\n",
       "      <td>3</td>\n",
       "      <td>5</td>\n",
       "      <td>14</td>\n",
       "      <td>11</td>\n",
       "      <td>7</td>\n",
       "      <td>3</td>\n",
       "      <td>2</td>\n",
       "      <td>1</td>\n",
       "      <td>0</td>\n",
       "      <td>0</td>\n",
       "    </tr>\n",
       "    <tr>\n",
       "      <th>2</th>\n",
       "      <td>Liverpool</td>\n",
       "      <td>Leeds</td>\n",
       "      <td>4</td>\n",
       "      <td>3</td>\n",
       "      <td>H</td>\n",
       "      <td>3</td>\n",
       "      <td>2</td>\n",
       "      <td>H</td>\n",
       "      <td>M Oliver</td>\n",
       "      <td>22</td>\n",
       "      <td>...</td>\n",
       "      <td>6</td>\n",
       "      <td>3</td>\n",
       "      <td>9</td>\n",
       "      <td>6</td>\n",
       "      <td>9</td>\n",
       "      <td>0</td>\n",
       "      <td>1</td>\n",
       "      <td>0</td>\n",
       "      <td>0</td>\n",
       "      <td>0</td>\n",
       "    </tr>\n",
       "    <tr>\n",
       "      <th>3</th>\n",
       "      <td>West Ham</td>\n",
       "      <td>Newcastle</td>\n",
       "      <td>0</td>\n",
       "      <td>2</td>\n",
       "      <td>A</td>\n",
       "      <td>0</td>\n",
       "      <td>0</td>\n",
       "      <td>D</td>\n",
       "      <td>S Attwell</td>\n",
       "      <td>15</td>\n",
       "      <td>...</td>\n",
       "      <td>3</td>\n",
       "      <td>2</td>\n",
       "      <td>13</td>\n",
       "      <td>7</td>\n",
       "      <td>8</td>\n",
       "      <td>7</td>\n",
       "      <td>2</td>\n",
       "      <td>2</td>\n",
       "      <td>0</td>\n",
       "      <td>0</td>\n",
       "    </tr>\n",
       "    <tr>\n",
       "      <th>4</th>\n",
       "      <td>West Brom</td>\n",
       "      <td>Leicester</td>\n",
       "      <td>0</td>\n",
       "      <td>3</td>\n",
       "      <td>A</td>\n",
       "      <td>0</td>\n",
       "      <td>0</td>\n",
       "      <td>D</td>\n",
       "      <td>A Taylor</td>\n",
       "      <td>7</td>\n",
       "      <td>...</td>\n",
       "      <td>1</td>\n",
       "      <td>7</td>\n",
       "      <td>12</td>\n",
       "      <td>9</td>\n",
       "      <td>2</td>\n",
       "      <td>5</td>\n",
       "      <td>1</td>\n",
       "      <td>1</td>\n",
       "      <td>0</td>\n",
       "      <td>0</td>\n",
       "    </tr>\n",
       "    <tr>\n",
       "      <th>...</th>\n",
       "      <td>...</td>\n",
       "      <td>...</td>\n",
       "      <td>...</td>\n",
       "      <td>...</td>\n",
       "      <td>...</td>\n",
       "      <td>...</td>\n",
       "      <td>...</td>\n",
       "      <td>...</td>\n",
       "      <td>...</td>\n",
       "      <td>...</td>\n",
       "      <td>...</td>\n",
       "      <td>...</td>\n",
       "      <td>...</td>\n",
       "      <td>...</td>\n",
       "      <td>...</td>\n",
       "      <td>...</td>\n",
       "      <td>...</td>\n",
       "      <td>...</td>\n",
       "      <td>...</td>\n",
       "      <td>...</td>\n",
       "      <td>...</td>\n",
       "    </tr>\n",
       "    <tr>\n",
       "      <th>2275</th>\n",
       "      <td>Stoke</td>\n",
       "      <td>West Ham</td>\n",
       "      <td>2</td>\n",
       "      <td>1</td>\n",
       "      <td>H</td>\n",
       "      <td>0</td>\n",
       "      <td>1</td>\n",
       "      <td>A</td>\n",
       "      <td>M Jones</td>\n",
       "      <td>7</td>\n",
       "      <td>...</td>\n",
       "      <td>4</td>\n",
       "      <td>7</td>\n",
       "      <td>8</td>\n",
       "      <td>12</td>\n",
       "      <td>4</td>\n",
       "      <td>10</td>\n",
       "      <td>3</td>\n",
       "      <td>1</td>\n",
       "      <td>0</td>\n",
       "      <td>0</td>\n",
       "    </tr>\n",
       "    <tr>\n",
       "      <th>2276</th>\n",
       "      <td>Swansea</td>\n",
       "      <td>Man City</td>\n",
       "      <td>1</td>\n",
       "      <td>1</td>\n",
       "      <td>D</td>\n",
       "      <td>1</td>\n",
       "      <td>1</td>\n",
       "      <td>D</td>\n",
       "      <td>M Dean</td>\n",
       "      <td>4</td>\n",
       "      <td>...</td>\n",
       "      <td>1</td>\n",
       "      <td>5</td>\n",
       "      <td>4</td>\n",
       "      <td>19</td>\n",
       "      <td>4</td>\n",
       "      <td>4</td>\n",
       "      <td>1</td>\n",
       "      <td>3</td>\n",
       "      <td>0</td>\n",
       "      <td>0</td>\n",
       "    </tr>\n",
       "    <tr>\n",
       "      <th>2277</th>\n",
       "      <td>Watford</td>\n",
       "      <td>Sunderland</td>\n",
       "      <td>2</td>\n",
       "      <td>2</td>\n",
       "      <td>D</td>\n",
       "      <td>0</td>\n",
       "      <td>1</td>\n",
       "      <td>A</td>\n",
       "      <td>K Friend</td>\n",
       "      <td>21</td>\n",
       "      <td>...</td>\n",
       "      <td>6</td>\n",
       "      <td>4</td>\n",
       "      <td>11</td>\n",
       "      <td>10</td>\n",
       "      <td>7</td>\n",
       "      <td>4</td>\n",
       "      <td>1</td>\n",
       "      <td>0</td>\n",
       "      <td>0</td>\n",
       "      <td>0</td>\n",
       "    </tr>\n",
       "    <tr>\n",
       "      <th>2278</th>\n",
       "      <td>West Brom</td>\n",
       "      <td>Liverpool</td>\n",
       "      <td>1</td>\n",
       "      <td>1</td>\n",
       "      <td>D</td>\n",
       "      <td>1</td>\n",
       "      <td>1</td>\n",
       "      <td>D</td>\n",
       "      <td>R Madley</td>\n",
       "      <td>13</td>\n",
       "      <td>...</td>\n",
       "      <td>1</td>\n",
       "      <td>3</td>\n",
       "      <td>11</td>\n",
       "      <td>14</td>\n",
       "      <td>7</td>\n",
       "      <td>5</td>\n",
       "      <td>3</td>\n",
       "      <td>1</td>\n",
       "      <td>0</td>\n",
       "      <td>0</td>\n",
       "    </tr>\n",
       "    <tr>\n",
       "      <th>2279</th>\n",
       "      <td>Man United</td>\n",
       "      <td>Bournemouth</td>\n",
       "      <td>3</td>\n",
       "      <td>1</td>\n",
       "      <td>H</td>\n",
       "      <td>1</td>\n",
       "      <td>0</td>\n",
       "      <td>H</td>\n",
       "      <td>J Moss</td>\n",
       "      <td>12</td>\n",
       "      <td>...</td>\n",
       "      <td>5</td>\n",
       "      <td>0</td>\n",
       "      <td>9</td>\n",
       "      <td>8</td>\n",
       "      <td>7</td>\n",
       "      <td>1</td>\n",
       "      <td>1</td>\n",
       "      <td>0</td>\n",
       "      <td>0</td>\n",
       "      <td>0</td>\n",
       "    </tr>\n",
       "  </tbody>\n",
       "</table>\n",
       "<p>2280 rows × 21 columns</p>\n",
       "</div>"
      ],
      "text/plain": [
       "            HomeTeam     AwayTeam  FTHG  FTAG FTR  HTHG  HTAG HTR     Referee  \\\n",
       "0             Fulham      Arsenal     0     3   A     0     1   A  C Kavanagh   \n",
       "1     Crystal Palace  Southampton     1     0   H     1     0   H      J Moss   \n",
       "2          Liverpool        Leeds     4     3   H     3     2   H    M Oliver   \n",
       "3           West Ham    Newcastle     0     2   A     0     0   D   S Attwell   \n",
       "4          West Brom    Leicester     0     3   A     0     0   D    A Taylor   \n",
       "...              ...          ...   ...   ...  ..   ...   ...  ..         ...   \n",
       "2275           Stoke     West Ham     2     1   H     0     1   A     M Jones   \n",
       "2276         Swansea     Man City     1     1   D     1     1   D      M Dean   \n",
       "2277         Watford   Sunderland     2     2   D     0     1   A    K Friend   \n",
       "2278       West Brom    Liverpool     1     1   D     1     1   D    R Madley   \n",
       "2279      Man United  Bournemouth     3     1   H     1     0   H      J Moss   \n",
       "\n",
       "      HS  ...  HST  AST  HF  AF  HC  AC  HY  AY  HR  AR  \n",
       "0      5  ...    2    6  12  12   2   3   2   2   0   0  \n",
       "1      5  ...    3    5  14  11   7   3   2   1   0   0  \n",
       "2     22  ...    6    3   9   6   9   0   1   0   0   0  \n",
       "3     15  ...    3    2  13   7   8   7   2   2   0   0  \n",
       "4      7  ...    1    7  12   9   2   5   1   1   0   0  \n",
       "...   ..  ...  ...  ...  ..  ..  ..  ..  ..  ..  ..  ..  \n",
       "2275   7  ...    4    7   8  12   4  10   3   1   0   0  \n",
       "2276   4  ...    1    5   4  19   4   4   1   3   0   0  \n",
       "2277  21  ...    6    4  11  10   7   4   1   0   0   0  \n",
       "2278  13  ...    1    3  11  14   7   5   3   1   0   0  \n",
       "2279  12  ...    5    0   9   8   7   1   1   0   0   0  \n",
       "\n",
       "[2280 rows x 21 columns]"
      ]
     },
     "execution_count": 86,
     "metadata": {},
     "output_type": "execute_result"
    }
   ],
   "source": [
    "filteredData = useful_data[(useful_data.HomeTeam.isin(team_names))]\n",
    "useful_data = filteredData[(filteredData.AwayTeam.isin(team_names))]\n",
    "\n",
    "useful_data"
   ]
  },
  {
   "cell_type": "markdown",
   "metadata": {},
   "source": [
    "## Tronsform Data And Drop Unnecessary Columns"
   ]
  },
  {
   "cell_type": "code",
   "execution_count": 87,
   "metadata": {},
   "outputs": [],
   "source": [
    "def transformResult(row):\n",
    "    if(row.FTR == 'H'):\n",
    "        return 1\n",
    "    elif(row.FTR == 'A'):\n",
    "        return -1\n",
    "    else:\n",
    "        return 0"
   ]
  },
  {
   "cell_type": "code",
   "execution_count": 88,
   "metadata": {},
   "outputs": [
    {
     "name": "stderr",
     "output_type": "stream",
     "text": [
      "C:\\Users\\amine\\AppData\\Local\\Temp\\ipykernel_17140\\2993657005.py:1: FutureWarning:\n",
      "\n",
      "In a future version of pandas all arguments of DataFrame.drop except for the argument 'labels' will be keyword-only.\n",
      "\n",
      "C:\\Users\\amine\\AppData\\Local\\Temp\\ipykernel_17140\\2993657005.py:4: FutureWarning:\n",
      "\n",
      "In a future version of pandas all arguments of DataFrame.drop except for the argument 'labels' will be keyword-only.\n",
      "\n"
     ]
    }
   ],
   "source": [
    "\n",
    "useful_data = useful_data.drop(['HTR','Referee'],1)\n",
    "useful_data[\"Result\"] = useful_data.apply(lambda row: transformResult(row),axis=1)\n",
    "\n",
    "useful_test_data = useful_test_data.drop(['HTR','Referee'],1)\n",
    "useful_test_data[\"Result\"] = useful_test_data.apply(lambda row: transformResult(row),axis=1)"
   ]
  },
  {
   "cell_type": "markdown",
   "metadata": {},
   "source": [
    "## Preparing The Training And Testing Data"
   ]
  },
  {
   "cell_type": "code",
   "execution_count": 89,
   "metadata": {},
   "outputs": [
    {
     "data": {
      "text/html": [
       "<div>\n",
       "<style scoped>\n",
       "    .dataframe tbody tr th:only-of-type {\n",
       "        vertical-align: middle;\n",
       "    }\n",
       "\n",
       "    .dataframe tbody tr th {\n",
       "        vertical-align: top;\n",
       "    }\n",
       "\n",
       "    .dataframe thead th {\n",
       "        text-align: right;\n",
       "    }\n",
       "</style>\n",
       "<table border=\"1\" class=\"dataframe\">\n",
       "  <thead>\n",
       "    <tr style=\"text-align: right;\">\n",
       "      <th></th>\n",
       "      <th>FTHG</th>\n",
       "      <th>FTAG</th>\n",
       "      <th>HTHG</th>\n",
       "      <th>HTAG</th>\n",
       "      <th>HS</th>\n",
       "      <th>AS</th>\n",
       "      <th>HST</th>\n",
       "      <th>HF</th>\n",
       "      <th>AF</th>\n",
       "      <th>HY</th>\n",
       "      <th>AY</th>\n",
       "      <th>HR</th>\n",
       "      <th>AR</th>\n",
       "      <th>HC</th>\n",
       "      <th>AC</th>\n",
       "      <th>AST</th>\n",
       "    </tr>\n",
       "  </thead>\n",
       "  <tbody>\n",
       "    <tr>\n",
       "      <th>0</th>\n",
       "      <td>2</td>\n",
       "      <td>0</td>\n",
       "      <td>1</td>\n",
       "      <td>0</td>\n",
       "      <td>8</td>\n",
       "      <td>22</td>\n",
       "      <td>3</td>\n",
       "      <td>12</td>\n",
       "      <td>8</td>\n",
       "      <td>0</td>\n",
       "      <td>0</td>\n",
       "      <td>0</td>\n",
       "      <td>0</td>\n",
       "      <td>2</td>\n",
       "      <td>5</td>\n",
       "      <td>4</td>\n",
       "    </tr>\n",
       "    <tr>\n",
       "      <th>1</th>\n",
       "      <td>5</td>\n",
       "      <td>1</td>\n",
       "      <td>1</td>\n",
       "      <td>0</td>\n",
       "      <td>16</td>\n",
       "      <td>10</td>\n",
       "      <td>8</td>\n",
       "      <td>11</td>\n",
       "      <td>9</td>\n",
       "      <td>1</td>\n",
       "      <td>2</td>\n",
       "      <td>0</td>\n",
       "      <td>0</td>\n",
       "      <td>5</td>\n",
       "      <td>4</td>\n",
       "      <td>3</td>\n",
       "    </tr>\n",
       "    <tr>\n",
       "      <th>2</th>\n",
       "      <td>1</td>\n",
       "      <td>2</td>\n",
       "      <td>1</td>\n",
       "      <td>0</td>\n",
       "      <td>14</td>\n",
       "      <td>14</td>\n",
       "      <td>3</td>\n",
       "      <td>10</td>\n",
       "      <td>7</td>\n",
       "      <td>2</td>\n",
       "      <td>1</td>\n",
       "      <td>0</td>\n",
       "      <td>0</td>\n",
       "      <td>7</td>\n",
       "      <td>6</td>\n",
       "      <td>8</td>\n",
       "    </tr>\n",
       "    <tr>\n",
       "      <th>3</th>\n",
       "      <td>3</td>\n",
       "      <td>0</td>\n",
       "      <td>2</td>\n",
       "      <td>0</td>\n",
       "      <td>13</td>\n",
       "      <td>4</td>\n",
       "      <td>6</td>\n",
       "      <td>15</td>\n",
       "      <td>11</td>\n",
       "      <td>0</td>\n",
       "      <td>0</td>\n",
       "      <td>0</td>\n",
       "      <td>0</td>\n",
       "      <td>5</td>\n",
       "      <td>2</td>\n",
       "      <td>1</td>\n",
       "    </tr>\n",
       "    <tr>\n",
       "      <th>4</th>\n",
       "      <td>3</td>\n",
       "      <td>1</td>\n",
       "      <td>0</td>\n",
       "      <td>1</td>\n",
       "      <td>14</td>\n",
       "      <td>6</td>\n",
       "      <td>6</td>\n",
       "      <td>13</td>\n",
       "      <td>15</td>\n",
       "      <td>2</td>\n",
       "      <td>0</td>\n",
       "      <td>0</td>\n",
       "      <td>0</td>\n",
       "      <td>6</td>\n",
       "      <td>8</td>\n",
       "      <td>3</td>\n",
       "    </tr>\n",
       "    <tr>\n",
       "      <th>...</th>\n",
       "      <td>...</td>\n",
       "      <td>...</td>\n",
       "      <td>...</td>\n",
       "      <td>...</td>\n",
       "      <td>...</td>\n",
       "      <td>...</td>\n",
       "      <td>...</td>\n",
       "      <td>...</td>\n",
       "      <td>...</td>\n",
       "      <td>...</td>\n",
       "      <td>...</td>\n",
       "      <td>...</td>\n",
       "      <td>...</td>\n",
       "      <td>...</td>\n",
       "      <td>...</td>\n",
       "      <td>...</td>\n",
       "    </tr>\n",
       "    <tr>\n",
       "      <th>375</th>\n",
       "      <td>1</td>\n",
       "      <td>0</td>\n",
       "      <td>1</td>\n",
       "      <td>0</td>\n",
       "      <td>6</td>\n",
       "      <td>10</td>\n",
       "      <td>3</td>\n",
       "      <td>12</td>\n",
       "      <td>22</td>\n",
       "      <td>2</td>\n",
       "      <td>4</td>\n",
       "      <td>0</td>\n",
       "      <td>0</td>\n",
       "      <td>3</td>\n",
       "      <td>6</td>\n",
       "      <td>4</td>\n",
       "    </tr>\n",
       "    <tr>\n",
       "      <th>376</th>\n",
       "      <td>4</td>\n",
       "      <td>1</td>\n",
       "      <td>0</td>\n",
       "      <td>0</td>\n",
       "      <td>12</td>\n",
       "      <td>7</td>\n",
       "      <td>6</td>\n",
       "      <td>10</td>\n",
       "      <td>5</td>\n",
       "      <td>0</td>\n",
       "      <td>1</td>\n",
       "      <td>0</td>\n",
       "      <td>0</td>\n",
       "      <td>3</td>\n",
       "      <td>3</td>\n",
       "      <td>2</td>\n",
       "    </tr>\n",
       "    <tr>\n",
       "      <th>377</th>\n",
       "      <td>3</td>\n",
       "      <td>1</td>\n",
       "      <td>1</td>\n",
       "      <td>1</td>\n",
       "      <td>29</td>\n",
       "      <td>7</td>\n",
       "      <td>8</td>\n",
       "      <td>6</td>\n",
       "      <td>3</td>\n",
       "      <td>1</td>\n",
       "      <td>0</td>\n",
       "      <td>0</td>\n",
       "      <td>0</td>\n",
       "      <td>5</td>\n",
       "      <td>3</td>\n",
       "      <td>5</td>\n",
       "    </tr>\n",
       "    <tr>\n",
       "      <th>378</th>\n",
       "      <td>3</td>\n",
       "      <td>2</td>\n",
       "      <td>0</td>\n",
       "      <td>1</td>\n",
       "      <td>24</td>\n",
       "      <td>4</td>\n",
       "      <td>5</td>\n",
       "      <td>5</td>\n",
       "      <td>11</td>\n",
       "      <td>0</td>\n",
       "      <td>1</td>\n",
       "      <td>0</td>\n",
       "      <td>0</td>\n",
       "      <td>13</td>\n",
       "      <td>1</td>\n",
       "      <td>2</td>\n",
       "    </tr>\n",
       "    <tr>\n",
       "      <th>379</th>\n",
       "      <td>0</td>\n",
       "      <td>5</td>\n",
       "      <td>0</td>\n",
       "      <td>2</td>\n",
       "      <td>9</td>\n",
       "      <td>19</td>\n",
       "      <td>0</td>\n",
       "      <td>13</td>\n",
       "      <td>7</td>\n",
       "      <td>3</td>\n",
       "      <td>1</td>\n",
       "      <td>0</td>\n",
       "      <td>0</td>\n",
       "      <td>3</td>\n",
       "      <td>2</td>\n",
       "      <td>13</td>\n",
       "    </tr>\n",
       "  </tbody>\n",
       "</table>\n",
       "<p>380 rows × 16 columns</p>\n",
       "</div>"
      ],
      "text/plain": [
       "     FTHG  FTAG  HTHG  HTAG  HS  AS  HST  HF  AF  HY  AY  HR  AR  HC  AC  AST\n",
       "0       2     0     1     0   8  22    3  12   8   0   0   0   0   2   5    4\n",
       "1       5     1     1     0  16  10    8  11   9   1   2   0   0   5   4    3\n",
       "2       1     2     1     0  14  14    3  10   7   2   1   0   0   7   6    8\n",
       "3       3     0     2     0  13   4    6  15  11   0   0   0   0   5   2    1\n",
       "4       3     1     0     1  14   6    6  13  15   2   0   0   0   6   8    3\n",
       "..    ...   ...   ...   ...  ..  ..  ...  ..  ..  ..  ..  ..  ..  ..  ..  ...\n",
       "375     1     0     1     0   6  10    3  12  22   2   4   0   0   3   6    4\n",
       "376     4     1     0     0  12   7    6  10   5   0   1   0   0   3   3    2\n",
       "377     3     1     1     1  29   7    8   6   3   1   0   0   0   5   3    5\n",
       "378     3     2     0     1  24   4    5   5  11   0   1   0   0  13   1    2\n",
       "379     0     5     0     2   9  19    0  13   7   3   1   0   0   3   2   13\n",
       "\n",
       "[380 rows x 16 columns]"
      ]
     },
     "execution_count": 89,
     "metadata": {},
     "output_type": "execute_result"
    }
   ],
   "source": [
    "X_train = useful_data[['FTHG','FTAG','HTHG','HTAG','HS','AS','HST','HF','AF','HY','AY','HR','AR','HC','AC','AST']]\n",
    "y_train = useful_data['Result']\n",
    "\n",
    "X_test = useful_test_data[['FTHG','FTAG','HTHG','HTAG','HS','AS','HST','HF','AF','HY','AY','HR','AR','HC','AC','AST']]\n",
    "y_test = useful_test_data['Result']\n",
    "\n",
    "X_test"
   ]
  },
  {
   "cell_type": "code",
   "execution_count": 90,
   "metadata": {},
   "outputs": [
    {
     "name": "stdout",
     "output_type": "stream",
     "text": [
      "0.9921052631578947\n"
     ]
    }
   ],
   "source": [
    "clf_B = SVC(kernel='poly',probability=True)\n",
    "clf_C = KNeighborsClassifier(n_neighbors = 10)\n",
    "clf_D = DecisionTreeClassifier(max_depth=5)\n",
    "clf_E = RandomForestClassifier(n_estimators=10, max_depth=5, random_state=0)\n",
    "\n",
    "y_pred = clf_B.fit(X_train,y_train).predict(X_test)\n",
    "score = accuracy_score(y_pred,y_test)\n",
    "\n",
    "print(score)\n",
    "\n",
    "model = clf_E.fit(X_train,y_train)"
   ]
  },
  {
   "cell_type": "code",
   "execution_count": 91,
   "metadata": {},
   "outputs": [],
   "source": [
    "model.predict(X_test[:200])\n",
    "pred_prob = model.predict_proba(X_test[:200])"
   ]
  },
  {
   "cell_type": "code",
   "execution_count": 92,
   "metadata": {},
   "outputs": [
    {
     "data": {
      "text/html": [
       "<div>\n",
       "<style scoped>\n",
       "    .dataframe tbody tr th:only-of-type {\n",
       "        vertical-align: middle;\n",
       "    }\n",
       "\n",
       "    .dataframe tbody tr th {\n",
       "        vertical-align: top;\n",
       "    }\n",
       "\n",
       "    .dataframe thead th {\n",
       "        text-align: right;\n",
       "    }\n",
       "</style>\n",
       "<table border=\"1\" class=\"dataframe\">\n",
       "  <thead>\n",
       "    <tr style=\"text-align: right;\">\n",
       "      <th></th>\n",
       "      <th>FTHG</th>\n",
       "      <th>FTAG</th>\n",
       "      <th>HTHG</th>\n",
       "      <th>HTAG</th>\n",
       "      <th>HS</th>\n",
       "      <th>AS</th>\n",
       "      <th>HST</th>\n",
       "      <th>HF</th>\n",
       "      <th>AF</th>\n",
       "      <th>HY</th>\n",
       "      <th>AY</th>\n",
       "      <th>HR</th>\n",
       "      <th>AR</th>\n",
       "      <th>HC</th>\n",
       "      <th>AC</th>\n",
       "      <th>AST</th>\n",
       "    </tr>\n",
       "  </thead>\n",
       "  <tbody>\n",
       "    <tr>\n",
       "      <th>200</th>\n",
       "      <td>2</td>\n",
       "      <td>3</td>\n",
       "      <td>1</td>\n",
       "      <td>2</td>\n",
       "      <td>15</td>\n",
       "      <td>18</td>\n",
       "      <td>5</td>\n",
       "      <td>6</td>\n",
       "      <td>9</td>\n",
       "      <td>3</td>\n",
       "      <td>2</td>\n",
       "      <td>0</td>\n",
       "      <td>0</td>\n",
       "      <td>4</td>\n",
       "      <td>3</td>\n",
       "      <td>5</td>\n",
       "    </tr>\n",
       "    <tr>\n",
       "      <th>201</th>\n",
       "      <td>1</td>\n",
       "      <td>1</td>\n",
       "      <td>0</td>\n",
       "      <td>1</td>\n",
       "      <td>10</td>\n",
       "      <td>15</td>\n",
       "      <td>2</td>\n",
       "      <td>8</td>\n",
       "      <td>5</td>\n",
       "      <td>1</td>\n",
       "      <td>2</td>\n",
       "      <td>0</td>\n",
       "      <td>0</td>\n",
       "      <td>5</td>\n",
       "      <td>7</td>\n",
       "      <td>3</td>\n",
       "    </tr>\n",
       "    <tr>\n",
       "      <th>202</th>\n",
       "      <td>2</td>\n",
       "      <td>3</td>\n",
       "      <td>1</td>\n",
       "      <td>1</td>\n",
       "      <td>14</td>\n",
       "      <td>27</td>\n",
       "      <td>4</td>\n",
       "      <td>6</td>\n",
       "      <td>12</td>\n",
       "      <td>1</td>\n",
       "      <td>2</td>\n",
       "      <td>0</td>\n",
       "      <td>0</td>\n",
       "      <td>3</td>\n",
       "      <td>8</td>\n",
       "      <td>10</td>\n",
       "    </tr>\n",
       "    <tr>\n",
       "      <th>203</th>\n",
       "      <td>1</td>\n",
       "      <td>3</td>\n",
       "      <td>0</td>\n",
       "      <td>0</td>\n",
       "      <td>18</td>\n",
       "      <td>13</td>\n",
       "      <td>8</td>\n",
       "      <td>7</td>\n",
       "      <td>9</td>\n",
       "      <td>0</td>\n",
       "      <td>0</td>\n",
       "      <td>0</td>\n",
       "      <td>0</td>\n",
       "      <td>6</td>\n",
       "      <td>9</td>\n",
       "      <td>5</td>\n",
       "    </tr>\n",
       "    <tr>\n",
       "      <th>204</th>\n",
       "      <td>0</td>\n",
       "      <td>3</td>\n",
       "      <td>0</td>\n",
       "      <td>0</td>\n",
       "      <td>15</td>\n",
       "      <td>7</td>\n",
       "      <td>4</td>\n",
       "      <td>16</td>\n",
       "      <td>11</td>\n",
       "      <td>0</td>\n",
       "      <td>1</td>\n",
       "      <td>1</td>\n",
       "      <td>0</td>\n",
       "      <td>5</td>\n",
       "      <td>1</td>\n",
       "      <td>2</td>\n",
       "    </tr>\n",
       "    <tr>\n",
       "      <th>...</th>\n",
       "      <td>...</td>\n",
       "      <td>...</td>\n",
       "      <td>...</td>\n",
       "      <td>...</td>\n",
       "      <td>...</td>\n",
       "      <td>...</td>\n",
       "      <td>...</td>\n",
       "      <td>...</td>\n",
       "      <td>...</td>\n",
       "      <td>...</td>\n",
       "      <td>...</td>\n",
       "      <td>...</td>\n",
       "      <td>...</td>\n",
       "      <td>...</td>\n",
       "      <td>...</td>\n",
       "      <td>...</td>\n",
       "    </tr>\n",
       "    <tr>\n",
       "      <th>375</th>\n",
       "      <td>1</td>\n",
       "      <td>0</td>\n",
       "      <td>1</td>\n",
       "      <td>0</td>\n",
       "      <td>6</td>\n",
       "      <td>10</td>\n",
       "      <td>3</td>\n",
       "      <td>12</td>\n",
       "      <td>22</td>\n",
       "      <td>2</td>\n",
       "      <td>4</td>\n",
       "      <td>0</td>\n",
       "      <td>0</td>\n",
       "      <td>3</td>\n",
       "      <td>6</td>\n",
       "      <td>4</td>\n",
       "    </tr>\n",
       "    <tr>\n",
       "      <th>376</th>\n",
       "      <td>4</td>\n",
       "      <td>1</td>\n",
       "      <td>0</td>\n",
       "      <td>0</td>\n",
       "      <td>12</td>\n",
       "      <td>7</td>\n",
       "      <td>6</td>\n",
       "      <td>10</td>\n",
       "      <td>5</td>\n",
       "      <td>0</td>\n",
       "      <td>1</td>\n",
       "      <td>0</td>\n",
       "      <td>0</td>\n",
       "      <td>3</td>\n",
       "      <td>3</td>\n",
       "      <td>2</td>\n",
       "    </tr>\n",
       "    <tr>\n",
       "      <th>377</th>\n",
       "      <td>3</td>\n",
       "      <td>1</td>\n",
       "      <td>1</td>\n",
       "      <td>1</td>\n",
       "      <td>29</td>\n",
       "      <td>7</td>\n",
       "      <td>8</td>\n",
       "      <td>6</td>\n",
       "      <td>3</td>\n",
       "      <td>1</td>\n",
       "      <td>0</td>\n",
       "      <td>0</td>\n",
       "      <td>0</td>\n",
       "      <td>5</td>\n",
       "      <td>3</td>\n",
       "      <td>5</td>\n",
       "    </tr>\n",
       "    <tr>\n",
       "      <th>378</th>\n",
       "      <td>3</td>\n",
       "      <td>2</td>\n",
       "      <td>0</td>\n",
       "      <td>1</td>\n",
       "      <td>24</td>\n",
       "      <td>4</td>\n",
       "      <td>5</td>\n",
       "      <td>5</td>\n",
       "      <td>11</td>\n",
       "      <td>0</td>\n",
       "      <td>1</td>\n",
       "      <td>0</td>\n",
       "      <td>0</td>\n",
       "      <td>13</td>\n",
       "      <td>1</td>\n",
       "      <td>2</td>\n",
       "    </tr>\n",
       "    <tr>\n",
       "      <th>379</th>\n",
       "      <td>0</td>\n",
       "      <td>5</td>\n",
       "      <td>0</td>\n",
       "      <td>2</td>\n",
       "      <td>9</td>\n",
       "      <td>19</td>\n",
       "      <td>0</td>\n",
       "      <td>13</td>\n",
       "      <td>7</td>\n",
       "      <td>3</td>\n",
       "      <td>1</td>\n",
       "      <td>0</td>\n",
       "      <td>0</td>\n",
       "      <td>3</td>\n",
       "      <td>2</td>\n",
       "      <td>13</td>\n",
       "    </tr>\n",
       "  </tbody>\n",
       "</table>\n",
       "<p>180 rows × 16 columns</p>\n",
       "</div>"
      ],
      "text/plain": [
       "     FTHG  FTAG  HTHG  HTAG  HS  AS  HST  HF  AF  HY  AY  HR  AR  HC  AC  AST\n",
       "200     2     3     1     2  15  18    5   6   9   3   2   0   0   4   3    5\n",
       "201     1     1     0     1  10  15    2   8   5   1   2   0   0   5   7    3\n",
       "202     2     3     1     1  14  27    4   6  12   1   2   0   0   3   8   10\n",
       "203     1     3     0     0  18  13    8   7   9   0   0   0   0   6   9    5\n",
       "204     0     3     0     0  15   7    4  16  11   0   1   1   0   5   1    2\n",
       "..    ...   ...   ...   ...  ..  ..  ...  ..  ..  ..  ..  ..  ..  ..  ..  ...\n",
       "375     1     0     1     0   6  10    3  12  22   2   4   0   0   3   6    4\n",
       "376     4     1     0     0  12   7    6  10   5   0   1   0   0   3   3    2\n",
       "377     3     1     1     1  29   7    8   6   3   1   0   0   0   5   3    5\n",
       "378     3     2     0     1  24   4    5   5  11   0   1   0   0  13   1    2\n",
       "379     0     5     0     2   9  19    0  13   7   3   1   0   0   3   2   13\n",
       "\n",
       "[180 rows x 16 columns]"
      ]
     },
     "metadata": {},
     "output_type": "display_data"
    }
   ],
   "source": [
    "data_still_need_testing = X_test[200:]\n",
    "display(data_still_need_testing)"
   ]
  },
  {
   "cell_type": "code",
   "execution_count": 93,
   "metadata": {},
   "outputs": [
    {
     "name": "stdout",
     "output_type": "stream",
     "text": [
      "357    H\n",
      "Name: FTR, dtype: object\n",
      "357    Tottenham\n",
      "Name: HomeTeam, dtype: object\n",
      "357    Arsenal\n",
      "Name: AwayTeam, dtype: object\n",
      "     FTHG  FTAG  HTHG  HTAG  HS  AS  HST  HF  AF  HY  AY  HR  AR  HC  AC  AST\n",
      "357     3     0     2     0  16   8    6   8  15   1   3   0   1   2   2    4\n",
      "[[0.00983349 0.01811052 0.97205598]]\n",
      "[1]\n"
     ]
    }
   ],
   "source": [
    "x_pos_start = 357\n",
    "x_pos_end = 358\n",
    "\n",
    "print(test_data[x_pos_start:x_pos_end].FTR)\n",
    "print(test_data[x_pos_start:x_pos_end].HomeTeam)\n",
    "print(test_data[x_pos_start:x_pos_end].AwayTeam)\n",
    "\n",
    "vector = X_test.iloc[x_pos_start:x_pos_end]\n",
    "print(vector)\n",
    "\n",
    "res_prob = model.predict_proba(vector)\n",
    "res = model.predict(vector)\n",
    "print(res_prob)\n",
    "print(res)"
   ]
  },
  {
   "cell_type": "code",
   "execution_count": 96,
   "metadata": {},
   "outputs": [
    {
     "data": {
      "image/png": "[encoded data removed]",
      "text/plain": [
       "<Figure size 1080x576 with 1 Axes>"
      ]
     },
     "metadata": {
      "needs_background": "light"
     },
     "output_type": "display_data"
    }
   ],
   "source": [
    "y_test_binarized=label_binarize(y_test[:200],classes=np.unique(y_test))\n",
    "\n",
    "fpr = {}\n",
    "tpr = {}\n",
    "thresh ={}\n",
    "roc_auc = dict()\n",
    "\n",
    "classes=np.unique(y_test)\n",
    "\n",
    "n_class = classes.shape[0]\n",
    "\n",
    "plt.figure(figsize=(15,8))\n",
    "\n",
    "for i in range(n_class):    \n",
    "    fpr[i], tpr[i], thresh[i] = roc_curve(y_test_binarized[:,i], pred_prob[:,i])\n",
    "    roc_auc[i] = auc(fpr[i], tpr[i])\n",
    "    \n",
    "    plt.plot(fpr[i], tpr[i], linestyle='--', \n",
    "             label='%s vs Rest (AUC=%0.2f)'%(classes[i],roc_auc[i]))\n",
    "\n",
    "plt.plot([0,1],[0,1],'b--')\n",
    "plt.xlim([0,1])\n",
    "plt.ylim([0,1.05])\n",
    "plt.title('Multiclass ROC curve')\n",
    "plt.xlabel('False Positive Rate')\n",
    "plt.ylabel('True Positive rate')\n",
    "plt.legend(loc='lower right')\n",
    "plt.show()"
   ]
  },
  {
   "cell_type": "code",
   "execution_count": 95,
   "metadata": {},
   "outputs": [
    {
     "data": {
      "application/vnd.plotly.v1+json": {
       "config": {
        "plotlyServerURL": "https://plot.ly"
       },
       "data": [
        {
         "mode": "lines",
         "name": "[0 0 1] (AUC=0.99)",
         "type": "scatter",
         "x": [
          0,
          0,
          0,
          0,
          0,
          0,
          0,
          0,
          0.007246376811594203,
          0.007246376811594203,
          0.014492753623188406,
          0.014492753623188406,
          0.028985507246376812,
          0.028985507246376812,
          0.050724637681159424,
          0.050724637681159424,
          0.07971014492753623,
          0.07971014492753623,
          0.14492753623188406,
          0.14492753623188406,
          0.21739130434782608,
          0.2318840579710145,
          0.4420289855072464,
          0.463768115942029,
          0.6521739130434783,
          0.6666666666666666,
          0.6811594202898551,
          0.6956521739130435,
          0.7463768115942029,
          0.7608695652173914,
          0.8043478260869565,
          0.8260869565217391,
          0.8840579710144928,
          0.8913043478260869,
          0.9130434782608695,
          0.9637681159420289,
          0.9710144927536232,
          1
         ],
         "y": [
          0,
          0.016129032258064516,
          0.06451612903225806,
          0.12903225806451613,
          0.1774193548387097,
          0.41935483870967744,
          0.45161290322580644,
          0.8064516129032258,
          0.8064516129032258,
          0.9193548387096774,
          0.9193548387096774,
          0.9354838709677419,
          0.9354838709677419,
          0.9516129032258065,
          0.9516129032258065,
          0.967741935483871,
          0.967741935483871,
          0.9838709677419355,
          0.9838709677419355,
          1,
          1,
          1,
          1,
          1,
          1,
          1,
          1,
          1,
          1,
          1,
          1,
          1,
          1,
          1,
          1,
          1,
          1,
          1
         ]
        },
        {
         "mode": "lines",
         "name": "[0 0 1] (AUC=0.98)",
         "type": "scatter",
         "x": [
          0,
          0,
          0,
          0,
          0,
          0.006802721088435374,
          0.006802721088435374,
          0.013605442176870748,
          0.013605442176870748,
          0.02040816326530612,
          0.02040816326530612,
          0.027210884353741496,
          0.027210884353741496,
          0.034013605442176874,
          0.034013605442176874,
          0.04081632653061224,
          0.04081632653061224,
          0.047619047619047616,
          0.047619047619047616,
          0.05442176870748299,
          0.05442176870748299,
          0.061224489795918366,
          0.061224489795918366,
          0.07482993197278912,
          0.07482993197278912,
          0.10884353741496598,
          0.10884353741496598,
          0.24489795918367346,
          0.2585034013605442,
          0.4013605442176871,
          0.41496598639455784,
          0.6326530612244898,
          0.6462585034013606,
          0.7142857142857143,
          0.7346938775510204,
          0.7755102040816326,
          0.8163265306122449,
          0.8367346938775511,
          0.8775510204081632,
          0.9047619047619048,
          0.9251700680272109,
          0.9455782312925171,
          0.9591836734693877,
          0.9795918367346939,
          1
         ],
         "y": [
          0,
          0.018867924528301886,
          0.09433962264150944,
          0.1320754716981132,
          0.41509433962264153,
          0.41509433962264153,
          0.4716981132075472,
          0.4716981132075472,
          0.5283018867924528,
          0.5283018867924528,
          0.7169811320754716,
          0.7169811320754716,
          0.8113207547169812,
          0.8113207547169812,
          0.8301886792452831,
          0.8301886792452831,
          0.8490566037735849,
          0.8490566037735849,
          0.8679245283018868,
          0.8679245283018868,
          0.8867924528301887,
          0.8867924528301887,
          0.9433962264150944,
          0.9433962264150944,
          0.9811320754716981,
          0.9811320754716981,
          1,
          1,
          1,
          1,
          1,
          1,
          1,
          1,
          1,
          1,
          1,
          1,
          1,
          1,
          1,
          1,
          1,
          1,
          1
         ]
        },
        {
         "mode": "lines",
         "name": "[1 0 0] (AUC=1.00)",
         "type": "scatter",
         "x": [
          0,
          0,
          0,
          0,
          0,
          0,
          0,
          0,
          0,
          0,
          0,
          0,
          0,
          0,
          0,
          0,
          0,
          0,
          0,
          0.043478260869565216,
          0.06086956521739131,
          0.43478260869565216,
          0.45217391304347826,
          0.4608695652173913,
          0.48695652173913045,
          0.6608695652173913,
          0.6782608695652174,
          0.7130434782608696,
          0.7217391304347827,
          0.7391304347826086,
          0.7478260869565218,
          0.7652173913043478,
          0.782608695652174,
          0.8,
          0.8260869565217391,
          0.8434782608695652,
          0.8608695652173913,
          0.8869565217391304,
          0.9043478260869565,
          0.9565217391304348,
          1
         ],
         "y": [
          0,
          0.011764705882352941,
          0.03529411764705882,
          0.07058823529411765,
          0.09411764705882353,
          0.1411764705882353,
          0.2,
          0.23529411764705882,
          0.25882352941176473,
          0.2823529411764706,
          0.32941176470588235,
          0.35294117647058826,
          0.3764705882352941,
          0.4,
          0.4588235294117647,
          0.4823529411764706,
          0.7764705882352941,
          0.8,
          1,
          1,
          1,
          1,
          1,
          1,
          1,
          1,
          1,
          1,
          1,
          1,
          1,
          1,
          1,
          1,
          1,
          1,
          1,
          1,
          1,
          1,
          1
         ]
        }
       ],
       "layout": {
        "height": 650,
        "shapes": [
         {
          "line": {
           "dash": "dash"
          },
          "type": "line",
          "x0": 0,
          "x1": 1,
          "y0": 0,
          "y1": 1
         }
        ],
        "template": {
         "data": {
          "bar": [
           {
            "error_x": {
             "color": "#2a3f5f"
            },
            "error_y": {
             "color": "#2a3f5f"
            },
            "marker": {
             "line": {
              "color": "#E5ECF6",
              "width": 0.5
             },
             "pattern": {
              "fillmode": "overlay",
              "size": 10,
              "solidity": 0.2
             }
            },
            "type": "bar"
           }
          ],
          "barpolar": [
           {
            "marker": {
             "line": {
              "color": "#E5ECF6",
              "width": 0.5
             },
             "pattern": {
              "fillmode": "overlay",
              "size": 10,
              "solidity": 0.2
             }
            },
            "type": "barpolar"
           }
          ],
          "carpet": [
           {
            "aaxis": {
             "endlinecolor": "#2a3f5f",
             "gridcolor": "white",
             "linecolor": "white",
             "minorgridcolor": "white",
             "startlinecolor": "#2a3f5f"
            },
            "baxis": {
             "endlinecolor": "#2a3f5f",
             "gridcolor": "white",
             "linecolor": "white",
             "minorgridcolor": "white",
             "startlinecolor": "#2a3f5f"
            },
            "type": "carpet"
           }
          ],
          "choropleth": [
           {
            "colorbar": {
             "outlinewidth": 0,
             "ticks": ""
            },
            "type": "choropleth"
           }
          ],
          "contour": [
           {
            "colorbar": {
             "outlinewidth": 0,
             "ticks": ""
            },
            "colorscale": [
             [
              0,
              "#0d0887"
             ],
             [
              0.1111111111111111,
              "#46039f"
             ],
             [
              0.2222222222222222,
              "#7201a8"
             ],
             [
              0.3333333333333333,
              "#9c179e"
             ],
             [
              0.4444444444444444,
              "#bd3786"
             ],
             [
              0.5555555555555556,
              "#d8576b"
             ],
             [
              0.6666666666666666,
              "#ed7953"
             ],
             [
              0.7777777777777778,
              "#fb9f3a"
             ],
             [
              0.8888888888888888,
              "#fdca26"
             ],
             [
              1,
              "#f0f921"
             ]
            ],
            "type": "contour"
           }
          ],
          "contourcarpet": [
           {
            "colorbar": {
             "outlinewidth": 0,
             "ticks": ""
            },
            "type": "contourcarpet"
           }
          ],
          "heatmap": [
           {
            "colorbar": {
             "outlinewidth": 0,
             "ticks": ""
            },
            "colorscale": [
             [
              0,
              "#0d0887"
             ],
             [
              0.1111111111111111,
              "#46039f"
             ],
             [
              0.2222222222222222,
              "#7201a8"
             ],
             [
              0.3333333333333333,
              "#9c179e"
             ],
             [
              0.4444444444444444,
              "#bd3786"
             ],
             [
              0.5555555555555556,
              "#d8576b"
             ],
             [
              0.6666666666666666,
              "#ed7953"
             ],
             [
              0.7777777777777778,
              "#fb9f3a"
             ],
             [
              0.8888888888888888,
              "#fdca26"
             ],
             [
              1,
              "#f0f921"
             ]
            ],
            "type": "heatmap"
           }
          ],
          "heatmapgl": [
           {
            "colorbar": {
             "outlinewidth": 0,
             "ticks": ""
            },
            "colorscale": [
             [
              0,
              "#0d0887"
             ],
             [
              0.1111111111111111,
              "#46039f"
             ],
             [
              0.2222222222222222,
              "#7201a8"
             ],
             [
              0.3333333333333333,
              "#9c179e"
             ],
             [
              0.4444444444444444,
              "#bd3786"
             ],
             [
              0.5555555555555556,
              "#d8576b"
             ],
             [
              0.6666666666666666,
              "#ed7953"
             ],
             [
              0.7777777777777778,
              "#fb9f3a"
             ],
             [
              0.8888888888888888,
              "#fdca26"
             ],
             [
              1,
              "#f0f921"
             ]
            ],
            "type": "heatmapgl"
           }
          ],
          "histogram": [
           {
            "marker": {
             "pattern": {
              "fillmode": "overlay",
              "size": 10,
              "solidity": 0.2
             }
            },
            "type": "histogram"
           }
          ],
          "histogram2d": [
           {
            "colorbar": {
             "outlinewidth": 0,
             "ticks": ""
            },
            "colorscale": [
             [
              0,
              "#0d0887"
             ],
             [
              0.1111111111111111,
              "#46039f"
             ],
             [
              0.2222222222222222,
              "#7201a8"
             ],
             [
              0.3333333333333333,
              "#9c179e"
             ],
             [
              0.4444444444444444,
              "#bd3786"
             ],
             [
              0.5555555555555556,
              "#d8576b"
             ],
             [
              0.6666666666666666,
              "#ed7953"
             ],
             [
              0.7777777777777778,
              "#fb9f3a"
             ],
             [
              0.8888888888888888,
              "#fdca26"
             ],
             [
              1,
              "#f0f921"
             ]
            ],
            "type": "histogram2d"
           }
          ],
          "histogram2dcontour": [
           {
            "colorbar": {
             "outlinewidth": 0,
             "ticks": ""
            },
            "colorscale": [
             [
              0,
              "#0d0887"
             ],
             [
              0.1111111111111111,
              "#46039f"
             ],
             [
              0.2222222222222222,
              "#7201a8"
             ],
             [
              0.3333333333333333,
              "#9c179e"
             ],
             [
              0.4444444444444444,
              "#bd3786"
             ],
             [
              0.5555555555555556,
              "#d8576b"
             ],
             [
              0.6666666666666666,
              "#ed7953"
             ],
             [
              0.7777777777777778,
              "#fb9f3a"
             ],
             [
              0.8888888888888888,
              "#fdca26"
             ],
             [
              1,
              "#f0f921"
             ]
            ],
            "type": "histogram2dcontour"
           }
          ],
          "mesh3d": [
           {
            "colorbar": {
             "outlinewidth": 0,
             "ticks": ""
            },
            "type": "mesh3d"
           }
          ],
          "parcoords": [
           {
            "line": {
             "colorbar": {
              "outlinewidth": 0,
              "ticks": ""
             }
            },
            "type": "parcoords"
           }
          ],
          "pie": [
           {
            "automargin": true,
            "type": "pie"
           }
          ],
          "scatter": [
           {
            "fillpattern": {
             "fillmode": "overlay",
             "size": 10,
             "solidity": 0.2
            },
            "type": "scatter"
           }
          ],
          "scatter3d": [
           {
            "line": {
             "colorbar": {
              "outlinewidth": 0,
              "ticks": ""
             }
            },
            "marker": {
             "colorbar": {
              "outlinewidth": 0,
              "ticks": ""
             }
            },
            "type": "scatter3d"
           }
          ],
          "scattercarpet": [
           {
            "marker": {
             "colorbar": {
              "outlinewidth": 0,
              "ticks": ""
             }
            },
            "type": "scattercarpet"
           }
          ],
          "scattergeo": [
           {
            "marker": {
             "colorbar": {
              "outlinewidth": 0,
              "ticks": ""
             }
            },
            "type": "scattergeo"
           }
          ],
          "scattergl": [
           {
            "marker": {
             "colorbar": {
              "outlinewidth": 0,
              "ticks": ""
             }
            },
            "type": "scattergl"
           }
          ],
          "scattermapbox": [
           {
            "marker": {
             "colorbar": {
              "outlinewidth": 0,
              "ticks": ""
             }
            },
            "type": "scattermapbox"
           }
          ],
          "scatterpolar": [
           {
            "marker": {
             "colorbar": {
              "outlinewidth": 0,
              "ticks": ""
             }
            },
            "type": "scatterpolar"
           }
          ],
          "scatterpolargl": [
           {
            "marker": {
             "colorbar": {
              "outlinewidth": 0,
              "ticks": ""
             }
            },
            "type": "scatterpolargl"
           }
          ],
          "scatterternary": [
           {
            "marker": {
             "colorbar": {
              "outlinewidth": 0,
              "ticks": ""
             }
            },
            "type": "scatterternary"
           }
          ],
          "surface": [
           {
            "colorbar": {
             "outlinewidth": 0,
             "ticks": ""
            },
            "colorscale": [
             [
              0,
              "#0d0887"
             ],
             [
              0.1111111111111111,
              "#46039f"
             ],
             [
              0.2222222222222222,
              "#7201a8"
             ],
             [
              0.3333333333333333,
              "#9c179e"
             ],
             [
              0.4444444444444444,
              "#bd3786"
             ],
             [
              0.5555555555555556,
              "#d8576b"
             ],
             [
              0.6666666666666666,
              "#ed7953"
             ],
             [
              0.7777777777777778,
              "#fb9f3a"
             ],
             [
              0.8888888888888888,
              "#fdca26"
             ],
             [
              1,
              "#f0f921"
             ]
            ],
            "type": "surface"
           }
          ],
          "table": [
           {
            "cells": {
             "fill": {
              "color": "#EBF0F8"
             },
             "line": {
              "color": "white"
             }
            },
            "header": {
             "fill": {
              "color": "#C8D4E3"
             },
             "line": {
              "color": "white"
             }
            },
            "type": "table"
           }
          ]
         },
         "layout": {
          "annotationdefaults": {
           "arrowcolor": "#2a3f5f",
           "arrowhead": 0,
           "arrowwidth": 1
          },
          "autotypenumbers": "strict",
          "coloraxis": {
           "colorbar": {
            "outlinewidth": 0,
            "ticks": ""
           }
          },
          "colorscale": {
           "diverging": [
            [
             0,
             "#8e0152"
            ],
            [
             0.1,
             "#c51b7d"
            ],
            [
             0.2,
             "#de77ae"
            ],
            [
             0.3,
             "#f1b6da"
            ],
            [
             0.4,
             "#fde0ef"
            ],
            [
             0.5,
             "#f7f7f7"
            ],
            [
             0.6,
             "#e6f5d0"
            ],
            [
             0.7,
             "#b8e186"
            ],
            [
             0.8,
             "#7fbc41"
            ],
            [
             0.9,
             "#4d9221"
            ],
            [
             1,
             "#276419"
            ]
           ],
           "sequential": [
            [
             0,
             "#0d0887"
            ],
            [
             0.1111111111111111,
             "#46039f"
            ],
            [
             0.2222222222222222,
             "#7201a8"
            ],
            [
             0.3333333333333333,
             "#9c179e"
            ],
            [
             0.4444444444444444,
             "#bd3786"
            ],
            [
             0.5555555555555556,
             "#d8576b"
            ],
            [
             0.6666666666666666,
             "#ed7953"
            ],
            [
             0.7777777777777778,
             "#fb9f3a"
            ],
            [
             0.8888888888888888,
             "#fdca26"
            ],
            [
             1,
             "#f0f921"
            ]
           ],
           "sequentialminus": [
            [
             0,
             "#0d0887"
            ],
            [
             0.1111111111111111,
             "#46039f"
            ],
            [
             0.2222222222222222,
             "#7201a8"
            ],
            [
             0.3333333333333333,
             "#9c179e"
            ],
            [
             0.4444444444444444,
             "#bd3786"
            ],
            [
             0.5555555555555556,
             "#d8576b"
            ],
            [
             0.6666666666666666,
             "#ed7953"
            ],
            [
             0.7777777777777778,
             "#fb9f3a"
            ],
            [
             0.8888888888888888,
             "#fdca26"
            ],
            [
             1,
             "#f0f921"
            ]
           ]
          },
          "colorway": [
           "#636efa",
           "#EF553B",
           "#00cc96",
           "#ab63fa",
           "#FFA15A",
           "#19d3f3",
           "#FF6692",
           "#B6E880",
           "#FF97FF",
           "#FECB52"
          ],
          "font": {
           "color": "#2a3f5f"
          },
          "geo": {
           "bgcolor": "white",
           "lakecolor": "white",
           "landcolor": "#E5ECF6",
           "showlakes": true,
           "showland": true,
           "subunitcolor": "white"
          },
          "hoverlabel": {
           "align": "left"
          },
          "hovermode": "closest",
          "mapbox": {
           "style": "light"
          },
          "paper_bgcolor": "white",
          "plot_bgcolor": "#E5ECF6",
          "polar": {
           "angularaxis": {
            "gridcolor": "white",
            "linecolor": "white",
            "ticks": ""
           },
           "bgcolor": "#E5ECF6",
           "radialaxis": {
            "gridcolor": "white",
            "linecolor": "white",
            "ticks": ""
           }
          },
          "scene": {
           "xaxis": {
            "backgroundcolor": "#E5ECF6",
            "gridcolor": "white",
            "gridwidth": 2,
            "linecolor": "white",
            "showbackground": true,
            "ticks": "",
            "zerolinecolor": "white"
           },
           "yaxis": {
            "backgroundcolor": "#E5ECF6",
            "gridcolor": "white",
            "gridwidth": 2,
            "linecolor": "white",
            "showbackground": true,
            "ticks": "",
            "zerolinecolor": "white"
           },
           "zaxis": {
            "backgroundcolor": "#E5ECF6",
            "gridcolor": "white",
            "gridwidth": 2,
            "linecolor": "white",
            "showbackground": true,
            "ticks": "",
            "zerolinecolor": "white"
           }
          },
          "shapedefaults": {
           "line": {
            "color": "#2a3f5f"
           }
          },
          "ternary": {
           "aaxis": {
            "gridcolor": "white",
            "linecolor": "white",
            "ticks": ""
           },
           "baxis": {
            "gridcolor": "white",
            "linecolor": "white",
            "ticks": ""
           },
           "bgcolor": "#E5ECF6",
           "caxis": {
            "gridcolor": "white",
            "linecolor": "white",
            "ticks": ""
           }
          },
          "title": {
           "x": 0.05
          },
          "xaxis": {
           "automargin": true,
           "gridcolor": "white",
           "linecolor": "white",
           "ticks": "",
           "title": {
            "standoff": 15
           },
           "zerolinecolor": "white",
           "zerolinewidth": 2
          },
          "yaxis": {
           "automargin": true,
           "gridcolor": "white",
           "linecolor": "white",
           "ticks": "",
           "title": {
            "standoff": 15
           },
           "zerolinecolor": "white",
           "zerolinewidth": 2
          }
         }
        },
        "width": 800,
        "xaxis": {
         "constrain": "domain",
         "title": {
          "text": "False Positive Rate"
         }
        },
        "yaxis": {
         "scaleanchor": "y",
         "scaleratio": 1,
         "title": {
          "text": "True Positive Rate"
         }
        }
       }
      }
     },
     "metadata": {},
     "output_type": "display_data"
    }
   ],
   "source": [
    "fig = go.Figure()\n",
    "fig.add_shape(\n",
    "    type=\"line\" , line=dict(dash='dash'),\n",
    "    x0=0, x1=1, y0=0, y1=1\n",
    ")\n",
    "\n",
    "for i in range(pred_prob.shape[1]):\n",
    "    y_true = y_test_binarized[:, i]\n",
    "    y_score = pred_prob[:, i]\n",
    "\n",
    "    fpr, tpr, _ = roc_curve(y_true, y_score)\n",
    "    auc_score = roc_auc_score(y_true, y_score)\n",
    "\n",
    "    name = f\"{y_test_binarized[i]} (AUC={auc_score:.2f})\"\n",
    "    fig.add_trace(go.Scatter(x=fpr, y=tpr, name=name, mode='lines'))\n",
    "\n",
    "fig.update_layout(\n",
    "    xaxis_title='False Positive Rate',\n",
    "    yaxis_title='True Positive Rate',\n",
    "    yaxis=dict(scaleanchor=\"y\", scaleratio=1),\n",
    "    xaxis=dict(constrain='domain'),\n",
    "    width=800, height=650\n",
    ")\n",
    "fig.show()"
   ]
  }
 ],
 "metadata": {
  "interpreter": {
   "hash": "e4a2e8328773a6df6e31cbd314a205656d9e38512a9cebb7bc9b0bda381f1bb4"
  },
  "kernelspec": {
   "display_name": "Python 3.10.3 64-bit",
   "language": "python",
   "name": "python3"
  },
  "language_info": {
   "codemirror_mode": {
    "name": "ipython",
    "version": 3
   },
   "file_extension": ".py",
   "mimetype": "text/x-python",
   "name": "python",
   "nbconvert_exporter": "python",
   "pygments_lexer": "ipython3",
   "version": "3.10.3"
  },
  "orig_nbformat": 4
 },
 "nbformat": 4,
 "nbformat_minor": 2
}
